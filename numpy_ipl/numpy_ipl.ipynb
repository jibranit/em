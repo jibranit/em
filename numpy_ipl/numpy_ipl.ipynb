{
 "cells": [
  {
   "cell_type": "markdown",
   "metadata": {},
   "source": [
    "# IPL Dataset Analysis\n",
    "\n",
    "## Problem Statement\n",
    "We want to know as to what happens during an IPL match which raises several questions in our mind with our limited knowledge about the game called cricket on which it is based. This analysis is done to know as which factors led one of the team to win and how does it matter."
   ]
  },
  {
   "cell_type": "markdown",
   "metadata": {},
   "source": [
    "## About the Dataset :\n",
    "The Indian Premier League (IPL) is a professional T20 cricket league in India contested during April-May of every year by teams representing Indian cities. It is the most-attended cricket league in the world and ranks sixth among all the sports leagues. It has teams with players from around the world and is very competitive and entertaining with a lot of close matches between teams.\n",
    "\n",
    "The IPL and other cricket related datasets are available at [cricsheet.org](https://cricsheet.org/%c2%a0(data). Feel free to visit the website and explore the data by yourself as exploring new sources of data is one of the interesting activities a data scientist gets to do.\n",
    "\n",
    "## About the dataset:\n",
    "Snapshot of the data you will be working on:<br>\n",
    "<br>\n",
    "The dataset 1452 data points and 23 features<br>\n",
    "\n",
    "|Features|Description|\n",
    "|-----|-----|\n",
    "|match_code|Code pertaining to individual match|\n",
    "|date|Date of the match played|\n",
    "|city|Location where the match was played|\n",
    "|team1|team1|\n",
    "|team2|team2|\n",
    "|toss_winner|Who won the toss out of two teams|\n",
    "|toss_decision|toss decision taken by toss winner|\n",
    "|winner|Winner of that match between two teams|\n",
    "|win_type|How did the team won(by wickets or runs etc.)|\n",
    "|win_margin|difference with which the team won| \n",
    "|inning|inning type(1st or 2nd)|\n",
    "|delivery|ball delivery|\n",
    "|batting_team|current team on batting|\n",
    "|batsman|current batsman on strike|\n",
    "|non_striker|batsman on non-strike|\n",
    "|bowler|Current bowler|\n",
    "|runs|runs scored|\n",
    "|extras|extra run scored|\n",
    "|total|total run scored on that delivery including runs and extras|\n",
    "|extras_type|extra run scored by wides or no ball or legby|\n",
    "|player_out|player that got out|\n",
    "|wicket_kind|How did the player got out|\n",
    "|wicket_fielders|Fielder who caught out the player by catch|\n"
   ]
  },
  {
   "cell_type": "markdown",
   "metadata": {},
   "source": [
    "### Analysing data using numpy module"
   ]
  },
  {
   "cell_type": "markdown",
   "metadata": {},
   "source": [
    "### Read the data using numpy module."
   ]
  },
  {
   "cell_type": "code",
   "execution_count": 2,
   "metadata": {},
   "outputs": [],
   "source": [
    "import numpy as np\n",
    "# Not every data format will be in csv there are other file formats also.\n",
    "# This exercise will help you deal with other file formats and how toa read it.\n",
    "path = 'ipl_matches_small.csv'\n",
    "data_ipl = np.genfromtxt(path, delimiter=',', skip_header=1, dtype=str)\n",
    "\n"
   ]
  },
  {
   "cell_type": "code",
   "execution_count": 3,
   "metadata": {},
   "outputs": [
    {
     "data": {
      "text/plain": [
       "array([['392203', '2009-05-01', 'East London', ..., '', '', ''],\n",
       "       ['392203', '2009-05-01', 'East London', ..., '', '', ''],\n",
       "       ['392203', '2009-05-01', 'East London', ..., '', '', ''],\n",
       "       ...,\n",
       "       ['335987', '2008-04-21', 'Jaipur', ..., '', '', ''],\n",
       "       ['335987', '2008-04-21', 'Jaipur', ..., '', '', ''],\n",
       "       ['335987', '2008-04-21', 'Jaipur', ..., '', '', '']], dtype='<U21')"
      ]
     },
     "execution_count": 3,
     "metadata": {},
     "output_type": "execute_result"
    }
   ],
   "source": [
    "data_ipl"
   ]
  },
  {
   "cell_type": "code",
   "execution_count": 4,
   "metadata": {},
   "outputs": [
    {
     "data": {
      "text/plain": [
       "array(['Kolkata Knight Riders', 'Kolkata Knight Riders',\n",
       "       'Kolkata Knight Riders', ..., 'Rajasthan Royals',\n",
       "       'Rajasthan Royals', 'Rajasthan Royals'], dtype='<U21')"
      ]
     },
     "execution_count": 4,
     "metadata": {},
     "output_type": "execute_result"
    }
   ],
   "source": [
    "data_ipl[:,3]"
   ]
  },
  {
   "cell_type": "markdown",
   "metadata": {},
   "source": [
    "### Calculate the unique no. of matches in the provided dataset ?"
   ]
  },
  {
   "cell_type": "code",
   "execution_count": 5,
   "metadata": {},
   "outputs": [
    {
     "data": {
      "text/plain": [
       "{'335987', '392197', '392203', '392212', '501226', '729297'}"
      ]
     },
     "execution_count": 5,
     "metadata": {},
     "output_type": "execute_result"
    }
   ],
   "source": [
    "set(data_ipl[:,0])"
   ]
  },
  {
   "cell_type": "code",
   "execution_count": 6,
   "metadata": {},
   "outputs": [
    {
     "data": {
      "text/plain": [
       "6"
      ]
     },
     "execution_count": 6,
     "metadata": {},
     "output_type": "execute_result"
    }
   ],
   "source": [
    "# How many matches were held in total we need to know so that we can analyze further statistics keeping that in mind.\n",
    "len(set(data_ipl[:,0]))"
   ]
  },
  {
   "cell_type": "markdown",
   "metadata": {},
   "source": [
    "### Find the set of all unique teams that played in the matches in the data set."
   ]
  },
  {
   "cell_type": "code",
   "execution_count": 7,
   "metadata": {},
   "outputs": [],
   "source": [
    "# this exercise deals with you getting to know that which are all those six teams that played in the tournament.\n",
    "team1_set = set(data_ipl[:, 3])\n",
    "team2_set = set(data_ipl[:, 4])\n",
    "unique_teams = team1_set.union(team2_set)"
   ]
  },
  {
   "cell_type": "code",
   "execution_count": 8,
   "metadata": {},
   "outputs": [
    {
     "data": {
      "text/plain": [
       "{'Chennai Super Kings',\n",
       " 'Deccan Chargers',\n",
       " 'Kings XI Punjab',\n",
       " 'Kolkata Knight Riders',\n",
       " 'Mumbai Indians',\n",
       " 'Pune Warriors',\n",
       " 'Rajasthan Royals'}"
      ]
     },
     "execution_count": 8,
     "metadata": {},
     "output_type": "execute_result"
    }
   ],
   "source": [
    "unique_teams"
   ]
  },
  {
   "cell_type": "markdown",
   "metadata": {},
   "source": [
    "### Find sum of all extras in all deliveries in all matches in the dataset"
   ]
  },
  {
   "cell_type": "code",
   "execution_count": 9,
   "metadata": {},
   "outputs": [],
   "source": [
    "# An exercise to make you familiar with indexing and slicing up within data.\n",
    "extras = data_ipl[:, 17]"
   ]
  },
  {
   "cell_type": "code",
   "execution_count": 10,
   "metadata": {},
   "outputs": [
    {
     "data": {
      "text/plain": [
       "numpy.ndarray"
      ]
     },
     "execution_count": 10,
     "metadata": {},
     "output_type": "execute_result"
    }
   ],
   "source": [
    "type(extras)"
   ]
  },
  {
   "cell_type": "code",
   "execution_count": 27,
   "metadata": {},
   "outputs": [
    {
     "data": {
      "text/plain": [
       "88"
      ]
     },
     "execution_count": 27,
     "metadata": {},
     "output_type": "execute_result"
    }
   ],
   "source": [
    "extras_int = extras.astype(np.int16)\n",
    "extras_int.sum()"
   ]
  },
  {
   "cell_type": "markdown",
   "metadata": {},
   "source": [
    "### Get the array of all delivery numbers when a given player got out. Also mention the wicket type."
   ]
  },
  {
   "cell_type": "code",
   "execution_count": 13,
   "metadata": {},
   "outputs": [],
   "source": [
    "wicket_filter = (data_ipl[:, 20] == 'SR Tendulkar')\n",
    "wickets_arr = data_ipl[wicket_filter]"
   ]
  },
  {
   "cell_type": "code",
   "execution_count": 14,
   "metadata": {},
   "outputs": [
    {
     "data": {
      "text/plain": [
       "array([['392203', '2009-05-01', 'East London', 'Kolkata Knight Riders',\n",
       "        'Mumbai Indians', 'Mumbai Indians', 'bat', 'Mumbai Indians',\n",
       "        'runs', '9.0', '1', '7.6', 'Mumbai Indians', 'SR Tendulkar',\n",
       "        'AM Nayar', 'AB Agarkar', '0', '0', '0', '', 'SR Tendulkar',\n",
       "        'caught', 'BB McCullum'],\n",
       "       ['392197', '2009-04-27', 'Port Elizabeth',\n",
       "        'Kolkata Knight Riders', 'Mumbai Indians', 'Mumbai Indians',\n",
       "        'bat', 'Mumbai Indians', 'runs', '92.0', '1', '12.2',\n",
       "        'Mumbai Indians', 'SR Tendulkar', 'ST Jayasuriya', 'LR Shukla',\n",
       "        '0', '0', '0', '', 'SR Tendulkar', 'lbw', ''],\n",
       "       ['392212', '2009-05-06', 'Centurion', 'Deccan Chargers',\n",
       "        'Mumbai Indians', 'Deccan Chargers', 'bat', 'Deccan Chargers',\n",
       "        'runs', '19.0', '2', '1.5', 'Mumbai Indians', 'SR Tendulkar',\n",
       "        'PR Shah', 'RP Singh', '0', '0', '0', '', 'SR Tendulkar',\n",
       "        'bowled', '']], dtype='<U21')"
      ]
     },
     "execution_count": 14,
     "metadata": {},
     "output_type": "execute_result"
    }
   ],
   "source": [
    "wickets_arr"
   ]
  },
  {
   "cell_type": "code",
   "execution_count": 15,
   "metadata": {},
   "outputs": [
    {
     "data": {
      "text/plain": [
       "array(['7.6', '12.2', '1.5'], dtype='<U21')"
      ]
     },
     "execution_count": 15,
     "metadata": {},
     "output_type": "execute_result"
    }
   ],
   "source": [
    "wickets_arr[:, 11]"
   ]
  },
  {
   "cell_type": "code",
   "execution_count": 16,
   "metadata": {},
   "outputs": [
    {
     "data": {
      "text/plain": [
       "array(['caught', 'lbw', 'bowled'], dtype='<U21')"
      ]
     },
     "execution_count": 16,
     "metadata": {},
     "output_type": "execute_result"
    }
   ],
   "source": [
    "wickets_arr[:, 21]"
   ]
  },
  {
   "cell_type": "markdown",
   "metadata": {},
   "source": [
    "### How many matches the team `Mumbai Indians` has won the toss?"
   ]
  },
  {
   "cell_type": "code",
   "execution_count": 17,
   "metadata": {},
   "outputs": [],
   "source": [
    "# this exercise will help you get the statistics on one particular team\n",
    "team_records = data_ipl[data_ipl[:, 5] == 'Mumbai Indians']"
   ]
  },
  {
   "cell_type": "code",
   "execution_count": 18,
   "metadata": {},
   "outputs": [
    {
     "data": {
      "text/plain": [
       "numpy.ndarray"
      ]
     },
     "execution_count": 18,
     "metadata": {},
     "output_type": "execute_result"
    }
   ],
   "source": [
    "type(team_records)"
   ]
  },
  {
   "cell_type": "code",
   "execution_count": 19,
   "metadata": {},
   "outputs": [
    {
     "data": {
      "text/plain": [
       "2"
      ]
     },
     "execution_count": 19,
     "metadata": {},
     "output_type": "execute_result"
    }
   ],
   "source": [
    "unique_matches = set(team_records[:, 0])\n",
    "len(unique_matches)"
   ]
  },
  {
   "cell_type": "markdown",
   "metadata": {},
   "source": [
    "### Create a filter that filters only those records where the batsman scored 6 runs. Also who has scored the maximum no. of sixes overall ?"
   ]
  },
  {
   "cell_type": "code",
   "execution_count": 20,
   "metadata": {},
   "outputs": [
    {
     "data": {
      "text/plain": [
       "59"
      ]
     },
     "execution_count": 20,
     "metadata": {},
     "output_type": "execute_result"
    }
   ],
   "source": [
    "len(data_ipl[data_ipl[:, 16].astype(int) == 6])"
   ]
  },
  {
   "cell_type": "code",
   "execution_count": 21,
   "metadata": {},
   "outputs": [],
   "source": [
    "# An exercise to know who is the most aggresive player or maybe the scoring player \n",
    "sixes = data_ipl[data_ipl[:, 16].astype(np.int16) == 6]"
   ]
  },
  {
   "cell_type": "code",
   "execution_count": 22,
   "metadata": {},
   "outputs": [
    {
     "data": {
      "text/plain": [
       "array(['SR Tendulkar', 'SR Tendulkar', 'JP Duminy', 'JP Duminy',\n",
       "       'JP Duminy', 'JP Duminy', 'BJ Hodge', 'BJ Hodge', 'BJ Hodge',\n",
       "       'SR Tendulkar', 'SR Tendulkar', 'ST Jayasuriya', 'ST Jayasuriya',\n",
       "       'SR Tendulkar', 'ST Jayasuriya', 'ST Jayasuriya', 'SR Tendulkar',\n",
       "       'Harbhajan Singh', 'Harbhajan Singh', 'CH Gayle', 'SC Ganguly',\n",
       "       'TL Suman', 'TL Suman', 'AC Gilchrist', 'RG Sharma', 'DR Smith',\n",
       "       'Y Venugopal Rao', 'PR Shah', 'PR Shah', 'RR Raje', 'DR Smith',\n",
       "       'DR Smith', 'DR Smith', 'SV Samson', 'SV Samson', 'SR Watson',\n",
       "       'R Bhatia', 'DS Kulkarni', 'DS Kulkarni', 'MEK Hussey', 'M Vijay',\n",
       "       'MS Dhoni', 'S Badrinath', 'JD Ryder', 'M Manhas', 'K Goel',\n",
       "       'K Goel', 'KC Sangakkara', 'Yuvraj Singh', 'Yuvraj Singh',\n",
       "       'Yuvraj Singh', 'IK Pathan', 'Kamran Akmal', 'SR Watson',\n",
       "       'SR Watson', 'SR Watson', 'SR Watson', 'SR Watson', 'RA Jadeja'],\n",
       "      dtype='<U21')"
      ]
     },
     "execution_count": 22,
     "metadata": {},
     "output_type": "execute_result"
    }
   ],
   "source": [
    "sixes[:, 13]"
   ]
  },
  {
   "cell_type": "code",
   "execution_count": 23,
   "metadata": {},
   "outputs": [],
   "source": [
    "from collections import Counter\n",
    "most_sixes_scored = Counter(sixes[:,13],)"
   ]
  },
  {
   "cell_type": "code",
   "execution_count": 24,
   "metadata": {},
   "outputs": [
    {
     "data": {
      "text/plain": [
       "Counter({'SR Tendulkar': 6,\n",
       "         'JP Duminy': 4,\n",
       "         'BJ Hodge': 3,\n",
       "         'ST Jayasuriya': 4,\n",
       "         'Harbhajan Singh': 2,\n",
       "         'CH Gayle': 1,\n",
       "         'SC Ganguly': 1,\n",
       "         'TL Suman': 2,\n",
       "         'AC Gilchrist': 1,\n",
       "         'RG Sharma': 1,\n",
       "         'DR Smith': 4,\n",
       "         'Y Venugopal Rao': 1,\n",
       "         'PR Shah': 2,\n",
       "         'RR Raje': 1,\n",
       "         'SV Samson': 2,\n",
       "         'SR Watson': 6,\n",
       "         'R Bhatia': 1,\n",
       "         'DS Kulkarni': 2,\n",
       "         'MEK Hussey': 1,\n",
       "         'M Vijay': 1,\n",
       "         'MS Dhoni': 1,\n",
       "         'S Badrinath': 1,\n",
       "         'JD Ryder': 1,\n",
       "         'M Manhas': 1,\n",
       "         'K Goel': 2,\n",
       "         'KC Sangakkara': 1,\n",
       "         'Yuvraj Singh': 3,\n",
       "         'IK Pathan': 1,\n",
       "         'Kamran Akmal': 1,\n",
       "         'RA Jadeja': 1})"
      ]
     },
     "execution_count": 24,
     "metadata": {},
     "output_type": "execute_result"
    }
   ],
   "source": [
    "most_sixes_scored"
   ]
  },
  {
   "cell_type": "code",
   "execution_count": 25,
   "metadata": {},
   "outputs": [
    {
     "data": {
      "text/plain": [
       "[('SR Tendulkar', 6), ('SR Watson', 6), ('JP Duminy', 4)]"
      ]
     },
     "execution_count": 25,
     "metadata": {},
     "output_type": "execute_result"
    }
   ],
   "source": [
    "most_sixes_scored.most_common(3)"
   ]
  }
 ],
 "metadata": {
  "kernelspec": {
   "display_name": "Python 3",
   "language": "python",
   "name": "python3"
  },
  "language_info": {
   "codemirror_mode": {
    "name": "ipython",
    "version": 3
   },
   "file_extension": ".py",
   "mimetype": "text/x-python",
   "name": "python",
   "nbconvert_exporter": "python",
   "pygments_lexer": "ipython3",
   "version": "3.7.1"
  }
 },
 "nbformat": 4,
 "nbformat_minor": 2
}
