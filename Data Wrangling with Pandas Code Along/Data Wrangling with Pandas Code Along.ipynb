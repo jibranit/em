{
 "cells": [
  {
   "cell_type": "markdown",
   "metadata": {},
   "source": [
    "# IPL Dataset Analysis\n",
    "\n",
    "## Problem Statement\n",
    "We want to know as to what happens during an IPL match which raises several questions in our mind with our limited knowledge about the game called cricket on which it is based. This analysis is done to know as which factors led one of the team to win and how does it matter."
   ]
  },
  {
   "cell_type": "markdown",
   "metadata": {},
   "source": [
    "## About the Dataset :\n",
    "The Indian Premier League (IPL) is a professional T20 cricket league in India contested during April-May of every year by teams representing Indian cities. It is the most-attended cricket league in the world and ranks sixth among all the sports leagues. It has teams with players from around the world and is very competitive and entertaining with a lot of close matches between teams.\n",
    "\n",
    "The IPL and other cricket related datasets are available at [cricsheet.org](https://cricsheet.org/%c2%a0(data). Feel free to visit the website and explore the data by yourself as exploring new sources of data is one of the interesting activities a data scientist gets to do.\n",
    "\n",
    "Snapshot of the data you will be working on:<br>\n",
    "<br>\n",
    "The dataset 136522 data points and 23 features<br>\n",
    "\n",
    "|Features|Description|\n",
    "|-----|-----|\n",
    "|match_code|Code pertaining to individual match|\n",
    "|date|Date of the match played|\n",
    "|city|City where the match was played|\n",
    "|venue|Stadium in that city where the match was played|\n",
    "|team1|team1|\n",
    "|team2|team2|\n",
    "|toss_winner|Who won the toss out of two teams|\n",
    "|toss_decision|toss decision taken by toss winner|\n",
    "|winner|Winner of that match between two teams|\n",
    "|win_type|How did the team won(by wickets or runs etc.)|\n",
    "|win_margin|difference with which the team won| \n",
    "|inning|inning type(1st or 2nd)|\n",
    "|delivery|ball delivery|\n",
    "|batting_team|current team on batting|\n",
    "|batsman|current batsman on strike|\n",
    "|non_striker|batsman on non-strike|\n",
    "|bowler|Current bowler|\n",
    "|runs|runs scored|\n",
    "|extras|extra run scored|\n",
    "|total|total run scored on that delivery including runs and extras|\n",
    "|extras_type|extra run scored by wides or no ball or legby|\n",
    "|player_out|player that got out|\n",
    "|wicket_kind|How did the player got out|\n",
    "|wicket_fielders|Fielder who caught out the player by catch|\n"
   ]
  },
  {
   "cell_type": "markdown",
   "metadata": {},
   "source": [
    "### Analyzing data using pandas module"
   ]
  },
  {
   "cell_type": "markdown",
   "metadata": {},
   "source": [
    "### Read the data using pandas module."
   ]
  },
  {
   "cell_type": "code",
   "execution_count": 1,
   "metadata": {},
   "outputs": [
    {
     "data": {
      "text/plain": [
       "(136522, 24)"
      ]
     },
     "execution_count": 1,
     "metadata": {},
     "output_type": "execute_result"
    }
   ],
   "source": [
    "import pandas as pd\n",
    "import numpy as np\n",
    "df_ipl = pd.read_csv('ipl_dataset.csv')\n",
    "df_ipl.shape"
   ]
  },
  {
   "cell_type": "code",
   "execution_count": 2,
   "metadata": {},
   "outputs": [
    {
     "data": {
      "text/plain": [
       "577"
      ]
     },
     "execution_count": 2,
     "metadata": {},
     "output_type": "execute_result"
    }
   ],
   "source": [
    "len(df_ipl['match_code'].unique())\n",
    "\n",
    "# You can also use: \n",
    "#df_ipl['match_code'].nunique()"
   ]
  },
  {
   "cell_type": "code",
   "execution_count": 3,
   "metadata": {},
   "outputs": [
    {
     "data": {
      "text/html": [
       "<div>\n",
       "<style scoped>\n",
       "    .dataframe tbody tr th:only-of-type {\n",
       "        vertical-align: middle;\n",
       "    }\n",
       "\n",
       "    .dataframe tbody tr th {\n",
       "        vertical-align: top;\n",
       "    }\n",
       "\n",
       "    .dataframe thead th {\n",
       "        text-align: right;\n",
       "    }\n",
       "</style>\n",
       "<table border=\"1\" class=\"dataframe\">\n",
       "  <thead>\n",
       "    <tr style=\"text-align: right;\">\n",
       "      <th></th>\n",
       "      <th>match_code</th>\n",
       "      <th>date</th>\n",
       "      <th>city</th>\n",
       "      <th>venue</th>\n",
       "      <th>team1</th>\n",
       "      <th>team2</th>\n",
       "      <th>toss_winner</th>\n",
       "      <th>toss_decision</th>\n",
       "      <th>winner</th>\n",
       "      <th>win_type</th>\n",
       "      <th>...</th>\n",
       "      <th>batsman</th>\n",
       "      <th>non_striker</th>\n",
       "      <th>bowler</th>\n",
       "      <th>runs</th>\n",
       "      <th>extras</th>\n",
       "      <th>total</th>\n",
       "      <th>extras_type</th>\n",
       "      <th>player_out</th>\n",
       "      <th>wicket_kind</th>\n",
       "      <th>wicket_fielders</th>\n",
       "    </tr>\n",
       "  </thead>\n",
       "  <tbody>\n",
       "    <tr>\n",
       "      <th>0</th>\n",
       "      <td>392203</td>\n",
       "      <td>2009-05-01</td>\n",
       "      <td>East London</td>\n",
       "      <td>Buffalo Park</td>\n",
       "      <td>Kolkata Knight Riders</td>\n",
       "      <td>Mumbai Indians</td>\n",
       "      <td>Mumbai Indians</td>\n",
       "      <td>bat</td>\n",
       "      <td>Mumbai Indians</td>\n",
       "      <td>runs</td>\n",
       "      <td>...</td>\n",
       "      <td>ST Jayasuriya</td>\n",
       "      <td>SR Tendulkar</td>\n",
       "      <td>I Sharma</td>\n",
       "      <td>0</td>\n",
       "      <td>1</td>\n",
       "      <td>1</td>\n",
       "      <td>wides</td>\n",
       "      <td>NaN</td>\n",
       "      <td>NaN</td>\n",
       "      <td>NaN</td>\n",
       "    </tr>\n",
       "    <tr>\n",
       "      <th>1</th>\n",
       "      <td>392203</td>\n",
       "      <td>2009-05-01</td>\n",
       "      <td>East London</td>\n",
       "      <td>Buffalo Park</td>\n",
       "      <td>Kolkata Knight Riders</td>\n",
       "      <td>Mumbai Indians</td>\n",
       "      <td>Mumbai Indians</td>\n",
       "      <td>bat</td>\n",
       "      <td>Mumbai Indians</td>\n",
       "      <td>runs</td>\n",
       "      <td>...</td>\n",
       "      <td>ST Jayasuriya</td>\n",
       "      <td>SR Tendulkar</td>\n",
       "      <td>I Sharma</td>\n",
       "      <td>1</td>\n",
       "      <td>0</td>\n",
       "      <td>1</td>\n",
       "      <td>NaN</td>\n",
       "      <td>NaN</td>\n",
       "      <td>NaN</td>\n",
       "      <td>NaN</td>\n",
       "    </tr>\n",
       "    <tr>\n",
       "      <th>2</th>\n",
       "      <td>392203</td>\n",
       "      <td>2009-05-01</td>\n",
       "      <td>East London</td>\n",
       "      <td>Buffalo Park</td>\n",
       "      <td>Kolkata Knight Riders</td>\n",
       "      <td>Mumbai Indians</td>\n",
       "      <td>Mumbai Indians</td>\n",
       "      <td>bat</td>\n",
       "      <td>Mumbai Indians</td>\n",
       "      <td>runs</td>\n",
       "      <td>...</td>\n",
       "      <td>SR Tendulkar</td>\n",
       "      <td>ST Jayasuriya</td>\n",
       "      <td>I Sharma</td>\n",
       "      <td>0</td>\n",
       "      <td>1</td>\n",
       "      <td>1</td>\n",
       "      <td>wides</td>\n",
       "      <td>NaN</td>\n",
       "      <td>NaN</td>\n",
       "      <td>NaN</td>\n",
       "    </tr>\n",
       "    <tr>\n",
       "      <th>3</th>\n",
       "      <td>392203</td>\n",
       "      <td>2009-05-01</td>\n",
       "      <td>East London</td>\n",
       "      <td>Buffalo Park</td>\n",
       "      <td>Kolkata Knight Riders</td>\n",
       "      <td>Mumbai Indians</td>\n",
       "      <td>Mumbai Indians</td>\n",
       "      <td>bat</td>\n",
       "      <td>Mumbai Indians</td>\n",
       "      <td>runs</td>\n",
       "      <td>...</td>\n",
       "      <td>SR Tendulkar</td>\n",
       "      <td>ST Jayasuriya</td>\n",
       "      <td>I Sharma</td>\n",
       "      <td>0</td>\n",
       "      <td>0</td>\n",
       "      <td>0</td>\n",
       "      <td>NaN</td>\n",
       "      <td>NaN</td>\n",
       "      <td>NaN</td>\n",
       "      <td>NaN</td>\n",
       "    </tr>\n",
       "    <tr>\n",
       "      <th>4</th>\n",
       "      <td>392203</td>\n",
       "      <td>2009-05-01</td>\n",
       "      <td>East London</td>\n",
       "      <td>Buffalo Park</td>\n",
       "      <td>Kolkata Knight Riders</td>\n",
       "      <td>Mumbai Indians</td>\n",
       "      <td>Mumbai Indians</td>\n",
       "      <td>bat</td>\n",
       "      <td>Mumbai Indians</td>\n",
       "      <td>runs</td>\n",
       "      <td>...</td>\n",
       "      <td>SR Tendulkar</td>\n",
       "      <td>ST Jayasuriya</td>\n",
       "      <td>I Sharma</td>\n",
       "      <td>2</td>\n",
       "      <td>0</td>\n",
       "      <td>2</td>\n",
       "      <td>NaN</td>\n",
       "      <td>NaN</td>\n",
       "      <td>NaN</td>\n",
       "      <td>NaN</td>\n",
       "    </tr>\n",
       "  </tbody>\n",
       "</table>\n",
       "<p>5 rows × 24 columns</p>\n",
       "</div>"
      ],
      "text/plain": [
       "   match_code        date         city         venue                  team1  \\\n",
       "0      392203  2009-05-01  East London  Buffalo Park  Kolkata Knight Riders   \n",
       "1      392203  2009-05-01  East London  Buffalo Park  Kolkata Knight Riders   \n",
       "2      392203  2009-05-01  East London  Buffalo Park  Kolkata Knight Riders   \n",
       "3      392203  2009-05-01  East London  Buffalo Park  Kolkata Knight Riders   \n",
       "4      392203  2009-05-01  East London  Buffalo Park  Kolkata Knight Riders   \n",
       "\n",
       "            team2     toss_winner toss_decision          winner win_type  \\\n",
       "0  Mumbai Indians  Mumbai Indians           bat  Mumbai Indians     runs   \n",
       "1  Mumbai Indians  Mumbai Indians           bat  Mumbai Indians     runs   \n",
       "2  Mumbai Indians  Mumbai Indians           bat  Mumbai Indians     runs   \n",
       "3  Mumbai Indians  Mumbai Indians           bat  Mumbai Indians     runs   \n",
       "4  Mumbai Indians  Mumbai Indians           bat  Mumbai Indians     runs   \n",
       "\n",
       "        ...               batsman    non_striker    bowler runs extras total  \\\n",
       "0       ...         ST Jayasuriya   SR Tendulkar  I Sharma    0      1     1   \n",
       "1       ...         ST Jayasuriya   SR Tendulkar  I Sharma    1      0     1   \n",
       "2       ...          SR Tendulkar  ST Jayasuriya  I Sharma    0      1     1   \n",
       "3       ...          SR Tendulkar  ST Jayasuriya  I Sharma    0      0     0   \n",
       "4       ...          SR Tendulkar  ST Jayasuriya  I Sharma    2      0     2   \n",
       "\n",
       "  extras_type  player_out  wicket_kind  wicket_fielders  \n",
       "0       wides         NaN          NaN              NaN  \n",
       "1         NaN         NaN          NaN              NaN  \n",
       "2       wides         NaN          NaN              NaN  \n",
       "3         NaN         NaN          NaN              NaN  \n",
       "4         NaN         NaN          NaN              NaN  \n",
       "\n",
       "[5 rows x 24 columns]"
      ]
     },
     "execution_count": 3,
     "metadata": {},
     "output_type": "execute_result"
    }
   ],
   "source": [
    "df_ipl.head()"
   ]
  },
  {
   "cell_type": "markdown",
   "metadata": {},
   "source": [
    "### There are certain fixed cities all around the world where matches are held. Find the list of unique cities where matches were played "
   ]
  },
  {
   "cell_type": "code",
   "execution_count": 4,
   "metadata": {},
   "outputs": [
    {
     "data": {
      "text/plain": [
       "array(['East London', 'Port Elizabeth', 'Centurion', 'neutral_venue',\n",
       "       'Chennai', 'Jaipur', 'Kolkata', 'Delhi', 'Chandigarh', 'Hyderabad',\n",
       "       'Ranchi', 'Mumbai', 'Bangalore', 'Dharamsala', 'Pune', 'Rajkot',\n",
       "       'Durban', 'Cuttack', 'Cape Town', 'Ahmedabad', 'Johannesburg',\n",
       "       'Visakhapatnam', 'Abu Dhabi', 'Raipur', 'Kochi', 'Kimberley',\n",
       "       'Nagpur', 'Bloemfontein', 'Indore', 'Kanpur'], dtype=object)"
      ]
     },
     "execution_count": 4,
     "metadata": {},
     "output_type": "execute_result"
    }
   ],
   "source": [
    "# Corrected as Venues to Cities\n",
    "df_ipl['city'].unique()"
   ]
  },
  {
   "cell_type": "markdown",
   "metadata": {},
   "source": [
    "### Find the columns which contains null values if any ?"
   ]
  },
  {
   "cell_type": "code",
   "execution_count": 5,
   "metadata": {},
   "outputs": [
    {
     "data": {
      "text/plain": [
       "Index(['winner', 'win_type', 'win_margin', 'extras_type', 'player_out',\n",
       "       'wicket_kind', 'wicket_fielders'],\n",
       "      dtype='object')"
      ]
     },
     "execution_count": 5,
     "metadata": {},
     "output_type": "execute_result"
    }
   ],
   "source": [
    "df_ipl.columns[df_ipl.isnull().any()]"
   ]
  },
  {
   "cell_type": "code",
   "execution_count": 6,
   "metadata": {},
   "outputs": [
    {
     "data": {
      "text/plain": [
       "Index(['winner', 'win_type', 'win_margin', 'extras_type', 'player_out',\n",
       "       'wicket_kind', 'wicket_fielders'],\n",
       "      dtype='object')"
      ]
     },
     "execution_count": 6,
     "metadata": {},
     "output_type": "execute_result"
    }
   ],
   "source": [
    "df_ipl.isnull().sum()[df_ipl.isnull().sum()>0].index"
   ]
  },
  {
   "cell_type": "markdown",
   "metadata": {},
   "source": [
    "### Though the match is held in different cities all around the world it may or maynot have multiple venues (stadiums where matches are held) list down top 5 most played venues \n"
   ]
  },
  {
   "cell_type": "code",
   "execution_count": 7,
   "metadata": {},
   "outputs": [
    {
     "data": {
      "text/plain": [
       "venue\n",
       "M Chinnaswamy Stadium              58\n",
       "Eden Gardens                       54\n",
       "Feroz Shah Kotla                   53\n",
       "Wankhede Stadium                   49\n",
       "MA Chidambaram Stadium, Chepauk    48\n",
       "Name: match_code, dtype: int64"
      ]
     },
     "execution_count": 7,
     "metadata": {},
     "output_type": "execute_result"
    }
   ],
   "source": [
    "df_ipl.groupby('venue')['match_code'].nunique().sort_values(ascending = False).head()"
   ]
  },
  {
   "cell_type": "code",
   "execution_count": 8,
   "metadata": {},
   "outputs": [
    {
     "data": {
      "text/plain": [
       "M Chinnaswamy Stadium              13368\n",
       "Eden Gardens                       12578\n",
       "Feroz Shah Kotla                   12274\n",
       "MA Chidambaram Stadium, Chepauk    11751\n",
       "Wankhede Stadium                   11688\n",
       "Name: venue, dtype: int64"
      ]
     },
     "execution_count": 8,
     "metadata": {},
     "output_type": "execute_result"
    }
   ],
   "source": [
    "\n",
    "df_ipl['venue'].value_counts().head()"
   ]
  },
  {
   "cell_type": "markdown",
   "metadata": {},
   "source": [
    "### Make a runs vs run-count frequency table"
   ]
  },
  {
   "cell_type": "code",
   "execution_count": 9,
   "metadata": {},
   "outputs": [
    {
     "data": {
      "text/plain": [
       "<Figure size 640x480 with 1 Axes>"
      ]
     },
     "metadata": {},
     "output_type": "display_data"
    }
   ],
   "source": [
    "import matplotlib.pyplot as plt\n",
    "df_ipl['runs'].hist()\n",
    "plt.xlabel('runs')\n",
    "plt.ylabel('runs-counts')\n",
    "plt.show()"
   ]
  },
  {
   "cell_type": "code",
   "execution_count": 10,
   "metadata": {},
   "outputs": [
    {
     "data": {
      "text/plain": [
       "0    55870\n",
       "1    50087\n",
       "4    15409\n",
       "2     8835\n",
       "6     5806\n",
       "3      473\n",
       "5       42\n",
       "Name: runs, dtype: int64"
      ]
     },
     "execution_count": 10,
     "metadata": {},
     "output_type": "execute_result"
    }
   ],
   "source": [
    "df_ipl['runs'].value_counts()"
   ]
  },
  {
   "cell_type": "markdown",
   "metadata": {},
   "source": [
    "### IPL seasons are held every year now let's look at our data and extract how many seasons were recorded."
   ]
  },
  {
   "cell_type": "code",
   "execution_count": 11,
   "metadata": {
    "scrolled": true
   },
   "outputs": [
    {
     "data": {
      "text/plain": [
       "9"
      ]
     },
     "execution_count": 11,
     "metadata": {},
     "output_type": "execute_result"
    }
   ],
   "source": [
    "df_ipl['date'] = pd.to_datetime(df_ipl['date'])\n",
    "year = df_ipl['date'].dt.year\n",
    "len(year.value_counts().index)"
   ]
  },
  {
   "cell_type": "markdown",
   "metadata": {},
   "source": [
    "### What are the total no. of matches played per season"
   ]
  },
  {
   "cell_type": "code",
   "execution_count": 12,
   "metadata": {},
   "outputs": [
    {
     "data": {
      "text/plain": [
       "date\n",
       "2008    58\n",
       "2009    57\n",
       "2010    60\n",
       "2011    73\n",
       "2012    74\n",
       "2013    76\n",
       "2014    60\n",
       "2015    59\n",
       "2016    60\n",
       "Name: match_code, dtype: int64"
      ]
     },
     "execution_count": 12,
     "metadata": {},
     "output_type": "execute_result"
    }
   ],
   "source": [
    "df_ipl.groupby(year)['match_code'].nunique()"
   ]
  },
  {
   "cell_type": "markdown",
   "metadata": {},
   "source": [
    "### What are the total runs scored across each season "
   ]
  },
  {
   "cell_type": "code",
   "execution_count": 13,
   "metadata": {},
   "outputs": [
    {
     "data": {
      "text/plain": [
       "date\n",
       "2008    17936\n",
       "2009    16320\n",
       "2010    18862\n",
       "2011    21154\n",
       "2012    22451\n",
       "2013    22541\n",
       "2014    18909\n",
       "2015    18331\n",
       "2016    18862\n",
       "Name: total, dtype: int64"
      ]
     },
     "execution_count": 13,
     "metadata": {},
     "output_type": "execute_result"
    }
   ],
   "source": [
    "df_ipl.groupby(year)['total'].sum()"
   ]
  },
  {
   "cell_type": "code",
   "execution_count": null,
   "metadata": {},
   "outputs": [],
   "source": []
  },
  {
   "cell_type": "markdown",
   "metadata": {},
   "source": [
    "### There are teams which are high performing and low performing. Let's look at the aspect of performance of an individual team. Filter the data and aggregate the runs scored by each team. Display top 10 results which are having runs scored over 200."
   ]
  },
  {
   "cell_type": "code",
   "execution_count": 122,
   "metadata": {},
   "outputs": [
    {
     "data": {
      "text/html": [
       "<div>\n",
       "<style scoped>\n",
       "    .dataframe tbody tr th:only-of-type {\n",
       "        vertical-align: middle;\n",
       "    }\n",
       "\n",
       "    .dataframe tbody tr th {\n",
       "        vertical-align: top;\n",
       "    }\n",
       "\n",
       "    .dataframe thead th {\n",
       "        text-align: right;\n",
       "    }\n",
       "</style>\n",
       "<table border=\"1\" class=\"dataframe\">\n",
       "  <thead>\n",
       "    <tr style=\"text-align: right;\">\n",
       "      <th></th>\n",
       "      <th>batting_team</th>\n",
       "      <th>total</th>\n",
       "    </tr>\n",
       "  </thead>\n",
       "  <tbody>\n",
       "    <tr>\n",
       "      <th>0</th>\n",
       "      <td>Royal Challengers Bangalore</td>\n",
       "      <td>263</td>\n",
       "    </tr>\n",
       "    <tr>\n",
       "      <th>1</th>\n",
       "      <td>Royal Challengers Bangalore</td>\n",
       "      <td>248</td>\n",
       "    </tr>\n",
       "    <tr>\n",
       "      <th>2</th>\n",
       "      <td>Chennai Super Kings</td>\n",
       "      <td>246</td>\n",
       "    </tr>\n",
       "    <tr>\n",
       "      <th>3</th>\n",
       "      <td>Chennai Super Kings</td>\n",
       "      <td>240</td>\n",
       "    </tr>\n",
       "    <tr>\n",
       "      <th>4</th>\n",
       "      <td>Royal Challengers Bangalore</td>\n",
       "      <td>235</td>\n",
       "    </tr>\n",
       "    <tr>\n",
       "      <th>5</th>\n",
       "      <td>Kings XI Punjab</td>\n",
       "      <td>232</td>\n",
       "    </tr>\n",
       "    <tr>\n",
       "      <th>6</th>\n",
       "      <td>Kings XI Punjab</td>\n",
       "      <td>231</td>\n",
       "    </tr>\n",
       "    <tr>\n",
       "      <th>7</th>\n",
       "      <td>Delhi Daredevils</td>\n",
       "      <td>231</td>\n",
       "    </tr>\n",
       "    <tr>\n",
       "      <th>8</th>\n",
       "      <td>Royal Challengers Bangalore</td>\n",
       "      <td>227</td>\n",
       "    </tr>\n",
       "    <tr>\n",
       "      <th>9</th>\n",
       "      <td>Kings XI Punjab</td>\n",
       "      <td>226</td>\n",
       "    </tr>\n",
       "    <tr>\n",
       "      <th>10</th>\n",
       "      <td>Royal Challengers Bangalore</td>\n",
       "      <td>226</td>\n",
       "    </tr>\n",
       "    <tr>\n",
       "      <th>11</th>\n",
       "      <td>Chennai Super Kings</td>\n",
       "      <td>223</td>\n",
       "    </tr>\n",
       "    <tr>\n",
       "      <th>12</th>\n",
       "      <td>Rajasthan Royals</td>\n",
       "      <td>223</td>\n",
       "    </tr>\n",
       "    <tr>\n",
       "      <th>13</th>\n",
       "      <td>Kolkata Knight Riders</td>\n",
       "      <td>222</td>\n",
       "    </tr>\n",
       "    <tr>\n",
       "      <th>14</th>\n",
       "      <td>Chennai Super Kings</td>\n",
       "      <td>222</td>\n",
       "    </tr>\n",
       "  </tbody>\n",
       "</table>\n",
       "</div>"
      ],
      "text/plain": [
       "                   batting_team  total\n",
       "0   Royal Challengers Bangalore    263\n",
       "1   Royal Challengers Bangalore    248\n",
       "2           Chennai Super Kings    246\n",
       "3           Chennai Super Kings    240\n",
       "4   Royal Challengers Bangalore    235\n",
       "5               Kings XI Punjab    232\n",
       "6               Kings XI Punjab    231\n",
       "7              Delhi Daredevils    231\n",
       "8   Royal Challengers Bangalore    227\n",
       "9               Kings XI Punjab    226\n",
       "10  Royal Challengers Bangalore    226\n",
       "11          Chennai Super Kings    223\n",
       "12             Rajasthan Royals    223\n",
       "13        Kolkata Knight Riders    222\n",
       "14          Chennai Super Kings    222"
      ]
     },
     "execution_count": 122,
     "metadata": {},
     "output_type": "execute_result"
    }
   ],
   "source": [
    "df_ipl.groupby(['match_code','inning','batting_team'])['total'].sum().sort_values(ascending  = False).reset_index().drop(['inning','match_code'], axis = 1).head(15)"
   ]
  },
  {
   "cell_type": "markdown",
   "metadata": {},
   "source": [
    "### Chasing a 200+ target is difficulty in T-20 format. What are the chances that a team scoring runs above 200  in their 1st inning is chased by the opposition in 2nd inning."
   ]
  },
  {
   "cell_type": "code",
   "execution_count": 16,
   "metadata": {},
   "outputs": [
    {
     "data": {
      "text/html": [
       "<div>\n",
       "<style scoped>\n",
       "    .dataframe tbody tr th:only-of-type {\n",
       "        vertical-align: middle;\n",
       "    }\n",
       "\n",
       "    .dataframe tbody tr th {\n",
       "        vertical-align: top;\n",
       "    }\n",
       "\n",
       "    .dataframe thead th {\n",
       "        text-align: right;\n",
       "    }\n",
       "</style>\n",
       "<table border=\"1\" class=\"dataframe\">\n",
       "  <thead>\n",
       "    <tr style=\"text-align: right;\">\n",
       "      <th></th>\n",
       "      <th>match_code</th>\n",
       "      <th>inning</th>\n",
       "      <th>batting_team</th>\n",
       "      <th>winner</th>\n",
       "      <th>total</th>\n",
       "    </tr>\n",
       "  </thead>\n",
       "  <tbody>\n",
       "    <tr>\n",
       "      <th>0</th>\n",
       "      <td>335982</td>\n",
       "      <td>1</td>\n",
       "      <td>Kolkata Knight Riders</td>\n",
       "      <td>Kolkata Knight Riders</td>\n",
       "      <td>222</td>\n",
       "    </tr>\n",
       "    <tr>\n",
       "      <th>1</th>\n",
       "      <td>335982</td>\n",
       "      <td>2</td>\n",
       "      <td>Royal Challengers Bangalore</td>\n",
       "      <td>Kolkata Knight Riders</td>\n",
       "      <td>82</td>\n",
       "    </tr>\n",
       "    <tr>\n",
       "      <th>2</th>\n",
       "      <td>335983</td>\n",
       "      <td>1</td>\n",
       "      <td>Chennai Super Kings</td>\n",
       "      <td>Chennai Super Kings</td>\n",
       "      <td>240</td>\n",
       "    </tr>\n",
       "    <tr>\n",
       "      <th>3</th>\n",
       "      <td>335983</td>\n",
       "      <td>2</td>\n",
       "      <td>Kings XI Punjab</td>\n",
       "      <td>Chennai Super Kings</td>\n",
       "      <td>207</td>\n",
       "    </tr>\n",
       "    <tr>\n",
       "      <th>4</th>\n",
       "      <td>335984</td>\n",
       "      <td>1</td>\n",
       "      <td>Rajasthan Royals</td>\n",
       "      <td>Delhi Daredevils</td>\n",
       "      <td>129</td>\n",
       "    </tr>\n",
       "  </tbody>\n",
       "</table>\n",
       "</div>"
      ],
      "text/plain": [
       "   match_code  inning                 batting_team                 winner  \\\n",
       "0      335982       1        Kolkata Knight Riders  Kolkata Knight Riders   \n",
       "1      335982       2  Royal Challengers Bangalore  Kolkata Knight Riders   \n",
       "2      335983       1          Chennai Super Kings    Chennai Super Kings   \n",
       "3      335983       2              Kings XI Punjab    Chennai Super Kings   \n",
       "4      335984       1             Rajasthan Royals       Delhi Daredevils   \n",
       "\n",
       "   total  \n",
       "0    222  \n",
       "1     82  \n",
       "2    240  \n",
       "3    207  \n",
       "4    129  "
      ]
     },
     "execution_count": 16,
     "metadata": {},
     "output_type": "execute_result"
    }
   ],
   "source": [
    "a.head()"
   ]
  },
  {
   "cell_type": "code",
   "execution_count": 32,
   "metadata": {},
   "outputs": [
    {
     "data": {
      "text/plain": [
       "12.82051282051282"
      ]
     },
     "execution_count": 32,
     "metadata": {},
     "output_type": "execute_result"
    }
   ],
   "source": [
    "a = df_ipl.groupby(['match_code','inning','batting_team','winner'])['total'].sum().reset_index()\n",
    "b = a[a['total'] > 200]\n",
    "c = b[(b['inning'] == 1) & (b['batting_team'] != b['winner'])].reset_index().drop(['index'], axis=1)\n",
    "d = b[(b['inning'] == 1) & (b['batting_team'] == b['winner'])].reset_index().drop(['index'], axis=1)\n",
    "len(c)/(len(c) + len(d)) * 100\n"
   ]
  },
  {
   "cell_type": "code",
   "execution_count": 2,
   "metadata": {},
   "outputs": [],
   "source": [
    "#first inning's team can score 199 and second innings team can score 203 and win"
   ]
  },
  {
   "cell_type": "markdown",
   "metadata": {},
   "source": [
    "### Every season has that one team which is outperforming others and is in great form. Which team has the highest win counts in their respective seasons ?"
   ]
  },
  {
   "cell_type": "code",
   "execution_count": 126,
   "metadata": {},
   "outputs": [],
   "source": [
    "# for i in df_ipl.columns:\n",
    "#     print(i)\n",
    "# #     print(\"-\")"
   ]
  },
  {
   "cell_type": "code",
   "execution_count": 16,
   "metadata": {},
   "outputs": [
    {
     "data": {
      "text/plain": [
       "year  winner                     \n",
       "2008  Rajasthan Royals               13\n",
       "      Kings XI Punjab                10\n",
       "      Chennai Super Kings             9\n",
       "      Delhi Daredevils                7\n",
       "      Mumbai Indians                  7\n",
       "      Kolkata Knight Riders           6\n",
       "      Royal Challengers Bangalore     4\n",
       "      Deccan Chargers                 2\n",
       "2009  Delhi Daredevils               10\n",
       "      Deccan Chargers                 9\n",
       "      Royal Challengers Bangalore     9\n",
       "      Chennai Super Kings             8\n",
       "      Kings XI Punjab                 7\n",
       "      Mumbai Indians                  5\n",
       "      Rajasthan Royals                5\n",
       "      Kolkata Knight Riders           3\n",
       "2010  Mumbai Indians                 11\n",
       "      Chennai Super Kings             9\n",
       "      Deccan Chargers                 8\n",
       "      Royal Challengers Bangalore     8\n",
       "      Delhi Daredevils                7\n",
       "      Kolkata Knight Riders           7\n",
       "      Rajasthan Royals                6\n",
       "      Kings XI Punjab                 3\n",
       "2011  Chennai Super Kings            11\n",
       "      Mumbai Indians                 10\n",
       "      Royal Challengers Bangalore    10\n",
       "      Kolkata Knight Riders           8\n",
       "      Kings XI Punjab                 7\n",
       "      Deccan Chargers                 6\n",
       "                                     ..\n",
       "2013  Sunrisers Hyderabad             9\n",
       "      Kings XI Punjab                 8\n",
       "      Royal Challengers Bangalore     8\n",
       "      Kolkata Knight Riders           6\n",
       "      Pune Warriors                   4\n",
       "      Delhi Daredevils                3\n",
       "2014  Kings XI Punjab                12\n",
       "      Kolkata Knight Riders          11\n",
       "      Chennai Super Kings            10\n",
       "      Mumbai Indians                  7\n",
       "      Rajasthan Royals                6\n",
       "      Sunrisers Hyderabad             6\n",
       "      Royal Challengers Bangalore     5\n",
       "      Delhi Daredevils                2\n",
       "2015  Chennai Super Kings            10\n",
       "      Mumbai Indians                 10\n",
       "      Royal Challengers Bangalore     8\n",
       "      Kolkata Knight Riders           7\n",
       "      Rajasthan Royals                7\n",
       "      Sunrisers Hyderabad             7\n",
       "      Delhi Daredevils                5\n",
       "      Kings XI Punjab                 2\n",
       "2016  Sunrisers Hyderabad            11\n",
       "      Gujarat Lions                   9\n",
       "      Royal Challengers Bangalore     9\n",
       "      Kolkata Knight Riders           8\n",
       "      Delhi Daredevils                7\n",
       "      Mumbai Indians                  7\n",
       "      Rising Pune Supergiants         5\n",
       "      Kings XI Punjab                 4\n",
       "Name: winner, Length: 76, dtype: int64"
      ]
     },
     "execution_count": 16,
     "metadata": {},
     "output_type": "execute_result"
    }
   ],
   "source": [
    "unique_matches = df_ipl.drop_duplicates(subset = 'match_code')\n",
    "unique_matches.groupby('year')['winner'].value_counts()"
   ]
  },
  {
   "cell_type": "code",
   "execution_count": 15,
   "metadata": {},
   "outputs": [],
   "source": [
    "df_ipl['date'] = pd.to_datetime(df_ipl['date'])\n",
    "year = df_ipl['date'].dt.year\n",
    "df_ipl['year'] = list(year)\n",
    "x = df_ipl.drop(['date'], axis = 1 )\n",
    "y = x.groupby(['year','match_code','inning'])['winner'].value_counts()#.reset_index(drop = False)y[y['match_code']].unique()\n",
    "\n",
    "#pd.unique(y['match_code'])\n",
    "\n",
    "#.sum(skipna = False).reset_index()\n",
    "\n",
    "#df_ipl.groupby(year)['total'].sum(skipna = False).reset_index()\n",
    "\n",
    "#a = df_ipl.groupby(['date','match_code','winner'])['total'].sum(skipna = False).reset_index()\n",
    "\n",
    "#.drop(['match_code','total'], axis = 1)\n",
    "#pd.value_counts(a['winner'])\n"
   ]
  },
  {
   "cell_type": "code",
   "execution_count": 15,
   "metadata": {},
   "outputs": [
    {
     "data": {
      "text/plain": [
       "(136522, 24)"
      ]
     },
     "execution_count": 15,
     "metadata": {},
     "output_type": "execute_result"
    }
   ],
   "source": [
    "df_ipl.shape"
   ]
  },
  {
   "cell_type": "code",
   "execution_count": null,
   "metadata": {},
   "outputs": [],
   "source": []
  },
  {
   "cell_type": "code",
   "execution_count": null,
   "metadata": {},
   "outputs": [],
   "source": []
  }
 ],
 "metadata": {
  "kernelspec": {
   "display_name": "Python 3",
   "language": "python",
   "name": "python3"
  },
  "language_info": {
   "codemirror_mode": {
    "name": "ipython",
    "version": 3
   },
   "file_extension": ".py",
   "mimetype": "text/x-python",
   "name": "python",
   "nbconvert_exporter": "python",
   "pygments_lexer": "ipython3",
   "version": "3.7.1"
  }
 },
 "nbformat": 4,
 "nbformat_minor": 2
}
