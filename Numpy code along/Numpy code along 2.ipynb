{
 "cells": [
  {
   "cell_type": "markdown",
   "metadata": {},
   "source": [
    "# Example 1: Throwing a Ball"
   ]
  },
  {
   "cell_type": "markdown",
   "metadata": {},
   "source": [
    "### Q:- A ball is thrown straight up, from 3 m above the ground, with a velocity of 14 m/s. When does it hit the ground?\n"
   ]
  },
  {
   "cell_type": "markdown",
   "metadata": {},
   "source": [
    "Ignoring air resistance, we can work out its height by adding up these three things:\n",
    "(Note: t is time in seconds)\n",
    "\n",
    "```python\n",
    "The height starts at 3 m:\t \t                                                      3\n",
    "It travels upwards at 14 meters per second (14 m/s):\t \t                          14t\n",
    "Gravity pulls it down, changing its position by about 5 m per second squared:\t \t−5t2\n",
    "```\n",
    "**Note for the enthusiastic: the -5t2 is simplified from -(½)at2 with a=9.8 m/s2)**\t\n",
    "\n",
    "### Instructions\n",
    "* Add them up and save it as height `h`\n",
    "* Write the quadratic equation in standard form when the ball hits the ground when the height is `0`\n",
    "* The quadratic equation that you will be solving is `5t^2 -14t - 3 = 0`\n",
    "* Make an array `coeff` to store the coefficients `(5,-14, -3)` of the quadratic equation\n",
    "* Pass this array `coeff` as argument to `np.roots()` method which will return the roots for the quadratic equation   5t^2 -14t - 3 = 0. Save it as roots\n",
    "* Print out `roots` to see your result"
   ]
  },
  {
   "cell_type": "code",
   "execution_count": 1,
   "metadata": {},
   "outputs": [
    {
     "data": {
      "text/plain": [
       "array([ 3. , -0.2])"
      ]
     },
     "execution_count": 1,
     "metadata": {},
     "output_type": "execute_result"
    }
   ],
   "source": [
    "# import packages\n",
    "import numpy as np\n",
    "\n",
    "# Code starts here\n",
    "h = 3+14+5\n",
    "coeff = (5,-14,-3)\n",
    "roots = np.roots(coeff)\n",
    "roots"
   ]
  },
  {
   "cell_type": "markdown",
   "metadata": {},
   "source": [
    "The \"t = −0.2\" is a negative time, impossible in our case.\n",
    "\n",
    "The \"t = 3\" is the answer we want:The ball hits the ground after 3 seconds!\n",
    "\n",
    "Here is the graph of the Parabola h = −5t2 + 14t + 3\n",
    "![](quadratic-1a.gif)\n",
    "\n",
    "It shows you the height of the ball vs time\n",
    "\n",
    "Some interesting points:\n",
    "\n",
    "(0,3) When t=0 (at the start) the ball is at 3 m\n",
    "\n",
    "(−0.2,0) says that −0.2 seconds BEFORE we threw the ball it was at ground level. This never happened! So our common sense says to ignore it.\n",
    "\n",
    "(3,0) says that at 3 seconds the ball is at ground level.\n",
    "\n",
    "Also notice that the ball goes nearly 13 meters high."
   ]
  },
  {
   "cell_type": "markdown",
   "metadata": {},
   "source": [
    "## Example 2: Statistics on Volleyball "
   ]
  },
  {
   "cell_type": "markdown",
   "metadata": {},
   "source": [
    "## 1. Calculate VolleyBall Players height?\n",
    "The height is expressed in inches. Can you make a numpy array out of it and convert the units to meters?\n",
    "### Instructions\n",
    "\n",
    "* Create a numpy array from `height_inches`. Name this new array `np_height_inches`.\n",
    "* Print `np_height_inches`.\n",
    "* Multiply `np_height_inches` with `0.0254` to convert all height measurements from inches to meters. Store the new   values in a new array, `np_height_metres`.\n",
    "* Print out `np_height_metres` and check if the output makes sense."
   ]
  },
  {
   "cell_type": "code",
   "execution_count": 2,
   "metadata": {},
   "outputs": [
    {
     "name": "stdout",
     "output_type": "stream",
     "text": [
      "[74 74 72 72 73 69 69 71 76 71 73 73 74 74 69 70 73 75 78 79 76 74 76 72\n",
      " 71 75 77 74 73 74 78 73 75 73 75 75 74 69 71 74 73 73 76 74 74 70 72 77\n",
      " 74 70 73 75 76 76 78 74 74 76 77 81 78 75 77 75 76 74 72 72 75 73 73 73\n",
      " 70 70 70 76 68 71 72 75 75 75 75 68 74 78 71 73 76 74 74 79 75 73 76 74\n",
      " 74 73 72 74 73 74 72 73 69 72 73 75 75 73 72 72 76 74 72 77 74 77 75 76\n",
      " 80 74 74 75 78 73 73 74 75 76 71 73]\n",
      "[1.8796 1.8796 1.8288 1.8288 1.8542 1.7526 1.7526 1.8034 1.9304 1.8034\n",
      " 1.8542 1.8542 1.8796 1.8796 1.7526 1.778  1.8542 1.905  1.9812 2.0066\n",
      " 1.9304 1.8796 1.9304 1.8288 1.8034 1.905  1.9558 1.8796 1.8542 1.8796\n",
      " 1.9812 1.8542 1.905  1.8542 1.905  1.905  1.8796 1.7526 1.8034 1.8796\n",
      " 1.8542 1.8542 1.9304 1.8796 1.8796 1.778  1.8288 1.9558 1.8796 1.778\n",
      " 1.8542 1.905  1.9304 1.9304 1.9812 1.8796 1.8796 1.9304 1.9558 2.0574\n",
      " 1.9812 1.905  1.9558 1.905  1.9304 1.8796 1.8288 1.8288 1.905  1.8542\n",
      " 1.8542 1.8542 1.778  1.778  1.778  1.9304 1.7272 1.8034 1.8288 1.905\n",
      " 1.905  1.905  1.905  1.7272 1.8796 1.9812 1.8034 1.8542 1.9304 1.8796\n",
      " 1.8796 2.0066 1.905  1.8542 1.9304 1.8796 1.8796 1.8542 1.8288 1.8796\n",
      " 1.8542 1.8796 1.8288 1.8542 1.7526 1.8288 1.8542 1.905  1.905  1.8542\n",
      " 1.8288 1.8288 1.9304 1.8796 1.8288 1.9558 1.8796 1.9558 1.905  1.9304\n",
      " 2.032  1.8796 1.8796 1.905  1.9812 1.8542 1.8542 1.8796 1.905  1.9304\n",
      " 1.8034 1.8542]\n"
     ]
    }
   ],
   "source": [
    "# height is available as a regular list\n",
    "height_inches = [74, 74, 72, 72, 73, 69, 69, 71, 76, 71, 73, 73, 74, 74, 69,70, 73,75, 78, 79, 76, 74, \n",
    "          76, 72, 71, 75, 77, 74, 73, 74, 78, 73, 75, 73, 75, 75, 74,69, 71, 74, 73, 73, 76, 74, \n",
    "          74, 70, 72, 77, 74, 70, 73, 75, 76, 76,78, 74, 74, 76, 77, 81, 78, 75, 77, 75, 76, 74, \n",
    "          72, 72, 75, 73, 73, 73, 70, 70, 70,76, 68, 71, 72, 75, 75, 75, 75, 68, 74, 78, 71, 73, \n",
    "          76, 74, 74, 79, 75, 73, 76, 74, 74, 73, 72, 74, 73, 74, 72, 73, 69, 72, 73, 75, 75, 73, \n",
    "          72, 72, 76, 74, 72, 77,74, 77, 75, 76, 80, 74, 74, 75, 78, 73, 73, 74, 75, 76, 71, 73]\n",
    "\n",
    "\n",
    "# Import numpy\n",
    "np_height_inches = np.array(height_inches)\n",
    "print(np_height_inches)\n",
    "np_height_meters = np_height_inches*0.0254\n",
    "print(np_height_meters)"
   ]
  },
  {
   "cell_type": "markdown",
   "metadata": {},
   "source": [
    "## 2. Calculate Volleyball player's weight and find out the BMI?\n",
    "\n",
    "height_inches is in inches and weight_lb is in pounds.\n",
    "\n",
    "It's now possible to calculate the BMI of each Volleyball player. Code to convert height_inches to a numpy array with the correct units is already available. Follow the instructions step by step and finish the game!\n",
    "\n",
    "### Instructions\n",
    "* Create a numpy array from the `weight_lb` list with the correct units. Multiply by `0.453592` to go from pounds to kilograms. Store the resulting numpy array as `np_weight_kg`.\n",
    "* Use `np_height_metres` and `np_weight_kg` to calculate the BMI of each player. Use the following equation:\n",
    " $$ \\text{BMI}=\\frac{\\text{weight(kg)}}{\\text{height(m)}^2}$$\n",
    "* Save the resulting numpy array as `bmi`.\n",
    "* Print out `bmi`.\n"
   ]
  },
  {
   "cell_type": "code",
   "execution_count": 3,
   "metadata": {},
   "outputs": [
    {
     "data": {
      "text/plain": [
       "array([23.11037639, 27.60406069, 28.48080465, 28.48080465, 27.04618995,\n",
       "       33.96468629, 28.79614707, 25.10462629, 23.37071489, 31.38078286,\n",
       "       26.78232468, 25.72686361, 23.36715835, 24.13750423, 29.53450981,\n",
       "       25.82702472, 26.38652678, 24.99800911, 28.31227918, 27.0367828 ,\n",
       "       26.17033177, 23.75233129, 21.30143284, 26.98895297, 27.89402921,\n",
       "       26.87285979, 23.71627614, 26.32015089, 27.17812259, 23.88072227,\n",
       "       21.72534076, 29.02517946, 26.24790956, 25.72686361, 24.99800911,\n",
       "       24.99800911, 27.21888775, 33.07865099, 29.28873067, 26.32015089,\n",
       "       29.02517946, 25.72686361, 24.34449467, 33.38165478, 29.27314343,\n",
       "       38.74053707, 27.12457585, 24.90208995, 24.39428619, 31.56636354,\n",
       "       23.7478741 , 25.62295933, 25.56171941, 26.77894414, 24.38322819,\n",
       "       25.67819599, 23.11037639, 23.12726994, 20.15883472, 24.64652818,\n",
       "       17.91185009, 23.12315842, 21.93755543, 24.99800911, 27.38755651,\n",
       "       28.88797049, 29.83703344, 21.69966068, 25.62295933, 31.00416897,\n",
       "       32.98315848, 27.70585312, 27.26185942, 22.9573553 , 28.69669413,\n",
       "       24.95310704, 33.75461059, 27.19667848, 27.80269025, 27.49781002,\n",
       "       27.49781002, 21.24830774, 23.12315842, 29.64932011, 28.24601559,\n",
       "       26.57887433, 25.10462629, 29.02517946, 21.91004521, 23.11037639,\n",
       "       21.82646659, 23.65718495, 26.87285979, 26.38652678, 25.92688683,\n",
       "       23.11037639, 24.65106815, 31.00416897, 25.09023267, 30.17188029,\n",
       "       27.70585312, 28.50279755, 28.48080465, 30.3445058 , 32.4879608 ,\n",
       "       24.41211827, 25.06720044, 24.99800911, 26.24790956, 25.59493098,\n",
       "       24.41211827, 25.76834706, 29.21339361, 25.67819599, 26.8533301 ,\n",
       "       23.71627614, 25.03624109, 24.90208995, 27.49781002, 23.12726994,\n",
       "       23.06945176, 28.88797049, 23.11037639, 23.12315842, 19.64525494,\n",
       "       24.40753727, 24.40753727, 23.11037639, 22.24822811, 21.30143284,\n",
       "       27.89402921, 26.91425732])"
      ]
     },
     "execution_count": 3,
     "metadata": {},
     "output_type": "execute_result"
    }
   ],
   "source": [
    "weight_lb=[180, 215, 210, 210,205, 230, 195, 180, 192, 225, 203, 195, 182, 188, 200, 180, 200, 200, 245, 240, 215, 185, 175, 199, \n",
    "           200, 215, 200, 205, 206, 186, 188, 220, 210, 195, 200, 200, 212, 224, 210, 205, 220, 195, 200, 260, 228, 270, 200, 210, \n",
    "           190, 220, 180, 205, 210, 220, 211, 200, 180, 190, 170, 230, 155, 185, 185, 200, 225, 225, 220, 160, 205, 235, 250, 210, \n",
    "           190, 160, 200, 205, 222, 195, 205, 220, 220, 170, 185, 195, 220, 230, 180, 220, 180, 180, 170, 210, 215, 200, 213, 180, \n",
    "           192, 235, 185, 235, 210, 222, 210, 230, 220, 180, 190, 200, 210, 194, 180, 190, 240, 200, 198, 200, 195, 210, 220, 190, \n",
    "           210, 225, 180, 185, 170, 185, 185, 180, 178, 175, 200, 204]\n",
    "\n",
    "np_weight_kg = np.array(weight_lb)*0.453592\n",
    "bmi = np_weight_kg/np_height_meters**2\n",
    "bmi\n"
   ]
  },
  {
   "cell_type": "markdown",
   "metadata": {},
   "source": [
    "## Calculate the Lightweight Volleyball players whose EMI is below 21?\n",
    "### Instructions\n",
    "* Create a boolean numpy array: the element of the array should be True if the corresponding volleyball player's     BMI is below 21. You can use the `<` operator for this. Name the array `light`.\n",
    "* Print the array `light`.\n",
    "* Print out a numpy array with the BMIs of all volleyball players whose BMI is below 21. Use light inside square     brackets to do a selection on the bmi array."
   ]
  },
  {
   "cell_type": "code",
   "execution_count": 4,
   "metadata": {},
   "outputs": [
    {
     "data": {
      "text/plain": [
       "array([20.15883472, 17.91185009, 19.64525494])"
      ]
     },
     "execution_count": 4,
     "metadata": {},
     "output_type": "execute_result"
    }
   ],
   "source": [
    "light = bmi <21\n",
    "bmi[light]"
   ]
  },
  {
   "cell_type": "markdown",
   "metadata": {},
   "source": [
    "## 4. Find the number of people who have exceptional height?\n",
    "### Instructions\n",
    "* The array `np_height_inches` is already given for you.\n",
    "* Calculate the 95th percentile value of height and save it in variable `h`\n",
    "* Calculate the number of people having height greater than 95th percentile value."
   ]
  },
  {
   "cell_type": "code",
   "execution_count": 5,
   "metadata": {},
   "outputs": [
    {
     "data": {
      "text/plain": [
       "array([79, 81, 79, 80])"
      ]
     },
     "execution_count": 5,
     "metadata": {},
     "output_type": "execute_result"
    }
   ],
   "source": [
    "h = np.percentile(np_height_inches,95)\n",
    "eh = np_height_inches > h\n",
    "np_height_inches[eh]"
   ]
  }
 ],
 "metadata": {
  "kernelspec": {
   "display_name": "Python 3",
   "language": "python",
   "name": "python3"
  },
  "language_info": {
   "codemirror_mode": {
    "name": "ipython",
    "version": 3
   },
   "file_extension": ".py",
   "mimetype": "text/x-python",
   "name": "python",
   "nbconvert_exporter": "python",
   "pygments_lexer": "ipython3",
   "version": "3.7.1"
  }
 },
 "nbformat": 4,
 "nbformat_minor": 2
}
