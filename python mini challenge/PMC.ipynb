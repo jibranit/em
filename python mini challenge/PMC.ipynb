{
 "cells": [
  {
   "cell_type": "markdown",
   "metadata": {},
   "source": [
    "# Python Mini Challenges\n",
    "\n",
    "The most entertaining(and satisfying) way to improve your skills in a programming language is by doing challenges. Every challenge that is given in this assessment module can be solved by a bit of python programming and logical thinking.\n",
    "\n",
    "Some challenges may look easy,some may look tough but we hope you solve them all with the same vigour.\n",
    "\n",
    "All the best."
   ]
  },
  {
   "cell_type": "markdown",
   "metadata": {},
   "source": [
    "# Challenge 1: Smallest Palindrome\n",
    "\n",
    "\n",
    "Create a function called `palindrome(num)` that given a number `'num'`, finds the next smallest palindrome and returns it\n",
    "\n",
    "For eg:\n",
    "***\n",
    "**Input**\n",
    "\n",
    "```python\n",
    "palindrome(123)\n",
    "```\n",
    "\n",
    "**Output**\n",
    "```python\n",
    "131\n",
    "```\n",
    "***\n",
    "**Input**\n",
    "\n",
    "```python\n",
    "palindrome(1331)\n",
    "```\n",
    "\n",
    "**Output**\n",
    "```python\n",
    "1441\n",
    "```\n"
   ]
  },
  {
   "cell_type": "code",
   "execution_count": 6,
   "metadata": {},
   "outputs": [
    {
     "data": {
      "text/plain": [
       "'4554'"
      ]
     },
     "execution_count": 6,
     "metadata": {},
     "output_type": "execute_result"
    }
   ],
   "source": [
    "#Code starts here\n",
    "def palindrome(num):\n",
    "    while(True):\n",
    "        a = str(num)\n",
    "        if a == a[::-1]:\n",
    "            return a\n",
    "        else:\n",
    "            num += 1\n",
    "palindrome(4548)\n",
    "#Code ends here        "
   ]
  },
  {
   "cell_type": "markdown",
   "metadata": {},
   "source": [
    "# Challenge 2: Anagram Scramble\n",
    "\n",
    "Create a function called `'a_scramble(str_1, str_2)'` that given the strings`'str_1'`,`'str_2'` returns `True` if a portion of `'str_1'` characters can be scrambled to match `'str2'`, else return `False`\n",
    "\n",
    "For eg:\n",
    "***\n",
    "**Input**\n",
    "\n",
    "```python\n",
    "a_scramble(\"Tom Marvolo Riddle\",\"Voldemort\")\n",
    "```\n",
    "\n",
    "**Output**\n",
    "```python\n",
    "True\n",
    "```\n",
    "***\n",
    "**Input**\n",
    "\n",
    "```python\n",
    "a_scramble(\"ticket\",\"chat\")\n",
    "```\n",
    "\n",
    "**Output**\n",
    "```python\n",
    "False\n",
    "```\n"
   ]
  },
  {
   "cell_type": "code",
   "execution_count": null,
   "metadata": {},
   "outputs": [],
   "source": []
  },
  {
   "cell_type": "code",
   "execution_count": 151,
   "metadata": {},
   "outputs": [
    {
     "data": {
      "text/plain": [
       "False"
      ]
     },
     "execution_count": 151,
     "metadata": {},
     "output_type": "execute_result"
    }
   ],
   "source": [
    "def a_scramble(a,b):\n",
    "    for i in b:\n",
    "        if i not in a:\n",
    "            return False\n",
    "        a = a.replace(i,'',1)\n",
    "    return True\n",
    "a_scramble('socer','soccer')            "
   ]
  },
  {
   "cell_type": "code",
   "execution_count": null,
   "metadata": {},
   "outputs": [],
   "source": []
  },
  {
   "cell_type": "code",
   "execution_count": 148,
   "metadata": {},
   "outputs": [
    {
     "name": "stdout",
     "output_type": "stream",
     "text": [
      "False\n"
     ]
    }
   ],
   "source": [
    "#Code starts here\n",
    "def a_scramble(a, b):\n",
    "    boole = []\n",
    "    a = a.lower()\n",
    "    b= b.lower()\n",
    "    for i in b:\n",
    "        if i in a: \n",
    "            boole.append(1)\n",
    "            a = a.replace(i,'',1)\n",
    "        elif i not in a:\n",
    "            boole.append(0)\n",
    "            a = a.replace(i,'',1)\n",
    "    print(all(boole))\n",
    "a_scramble('socer','soccer')\n",
    "#Code ends here"
   ]
  },
  {
   "cell_type": "markdown",
   "metadata": {},
   "source": [
    "# Challenge 3: Fibonacci Check\n",
    "\n",
    "Create a function called `check_fib(num)` that checks if the given number `'num'` is part of the [fibonacci sequence](https://en.wikipedia.org/wiki/Fibonacci_number) and returns `True` if it is, else `False`\n",
    "\n",
    "For eg:\n",
    "***\n",
    "**Input**\n",
    "\n",
    "```python\n",
    "check_fib(145)\n",
    "```\n",
    "\n",
    "**Output**\n",
    "```python\n",
    "False\n",
    "```\n",
    "***\n",
    "**Input**\n",
    "\n",
    "```python\n",
    "check_fib(377)\n",
    "```\n",
    "\n",
    "**Output**\n",
    "```python\n",
    "True\n",
    "```\n",
    "\n",
    "\n"
   ]
  },
  {
   "cell_type": "code",
   "execution_count": 2,
   "metadata": {},
   "outputs": [
    {
     "data": {
      "text/plain": [
       "True"
      ]
     },
     "execution_count": 2,
     "metadata": {},
     "output_type": "execute_result"
    }
   ],
   "source": [
    "#Importing header files\n",
    "from math import sqrt\n",
    "\n",
    "#Code starts here\n",
    "\n",
    "#Function to check for perfect square \n",
    "def is_perfect_square(x):\n",
    " \n",
    "    s = sqrt(x)\n",
    "    return (int(s)*int(s) == x) \n",
    " \n",
    "#Function to check for fibonacci number\n",
    "def check_fib(num):\n",
    "    if is_perfect_square((5*num*num) + 4) or is_perfect_square((5*num*num) - 4): #Formula for checking fibonacci number\n",
    "        return True\n",
    "    \n",
    "    return False  \n",
    "check_fib(2)"
   ]
  },
  {
   "cell_type": "markdown",
   "metadata": {},
   "source": [
    "# Challenge 4: String Compression\n",
    "\n",
    "Write a function `compress(word)` that given a word `word` returns the string with it's letters and how many times they occur continously together.\n",
    "\n",
    "For eg:\n",
    "\n",
    "***\n",
    "**Input**\n",
    "\n",
    "```python\n",
    "a_scramble(\"abbs\")\n",
    "```\n",
    "\n",
    "**Output**\n",
    "```python\n",
    "\"a1b2s1\"\n",
    "```\n",
    "Explanation: 1 occurence of `a`, followed by 2 occurences of `b`, followed by 1 occurence of `s`\n",
    "***\n",
    "**Input**\n",
    "\n",
    "```python\n",
    "compress(\"xxcccdex\")\n",
    "```\n",
    "\n",
    "**Output**\n",
    "```python\n",
    "\"x2c3d1e1x1\"\n",
    "```\n",
    "\n",
    "Explanation: 2 occurences of `x`, followed by 3 occurences of `c`, followed by 1 occurence of `d`, followed by 1 occurence of `e`, followed by 1 occurence of `x`"
   ]
  },
  {
   "cell_type": "code",
   "execution_count": 172,
   "metadata": {},
   "outputs": [
    {
     "data": {
      "text/plain": [
       "dict_items([('e', 3), ('b', 2), ('c', 2), ('a', 2), ('d', 1)])"
      ]
     },
     "execution_count": 172,
     "metadata": {},
     "output_type": "execute_result"
    }
   ],
   "source": [
    "#Code starts here\n",
    "import pandas as pd\n",
    "a = 'aabbccdeee'\n",
    "c = []\n",
    "for i in a:\n",
    "    c.append(i)\n",
    "b = pd.Series(c)\n",
    "d = b.value_counts()\n",
    "e = d.to_dict()\n",
    "e.items()\n",
    "#Code ends here"
   ]
  },
  {
   "cell_type": "code",
   "execution_count": 4,
   "metadata": {},
   "outputs": [
    {
     "data": {
      "text/plain": [
       "'a1b2s1'"
      ]
     },
     "execution_count": 4,
     "metadata": {},
     "output_type": "execute_result"
    }
   ],
   "source": [
    "#Code starts here\n",
    "\n",
    "#Function to compress string\n",
    "def compress(word):\n",
    "    word=word.lower()\n",
    "    mist=[]\n",
    "    l=0\n",
    "    while(l<len(word)):\n",
    "        m=word[l]\n",
    "        j=0\n",
    "        while(l<len(word) and word[l]==m):\n",
    "                 j=j+1\n",
    "                 l=l+1    \n",
    "\n",
    "        mist.append(m)\n",
    "        mist.append(str(j))\n",
    "    \n",
    "    return ''.join(mist)\n",
    "compress('abbs')\n",
    "#Code ends here"
   ]
  },
  {
   "cell_type": "code",
   "execution_count": 73,
   "metadata": {},
   "outputs": [
    {
     "data": {
      "text/plain": [
       "e    3\n",
       "b    2\n",
       "a    2\n",
       "c    2\n",
       "d    1\n",
       "dtype: int64"
      ]
     },
     "execution_count": 73,
     "metadata": {},
     "output_type": "execute_result"
    }
   ],
   "source": [
    "import pandas as pd\n",
    "def compress(a):\n",
    "    c = []\n",
    "    for i in a:\n",
    "        c.append(i)\n",
    "    b = pd.Series(c)\n",
    "    return b.value_counts()\n",
    "compress('aabbccdeee')"
   ]
  },
  {
   "cell_type": "code",
   "execution_count": 80,
   "metadata": {},
   "outputs": [
    {
     "data": {
      "text/plain": [
       "'d3b2a2c2'"
      ]
     },
     "execution_count": 80,
     "metadata": {},
     "output_type": "execute_result"
    }
   ],
   "source": [
    "\n",
    "def compress(a):\n",
    "    c = []\n",
    "    for i in a:\n",
    "        c.append(i)\n",
    "        b = pd.Series(c)\n",
    "    d = b.value_counts()\n",
    "    e=[]\n",
    "    nbr = 0\n",
    "    for j in range(len(d.index)):\n",
    "        e.append(d.index[nbr])\n",
    "        e.append(d[nbr])\n",
    "        nbr +=1\n",
    "    return str(e).replace(',','').replace('(','').replace(']','').replace('[','').replace(\"'\",\"\").replace(' ','')\n",
    "compress('aabbccddd')"
   ]
  },
  {
   "cell_type": "code",
   "execution_count": null,
   "metadata": {},
   "outputs": [],
   "source": []
  },
  {
   "cell_type": "code",
   "execution_count": 175,
   "metadata": {},
   "outputs": [
    {
     "name": "stdout",
     "output_type": "stream",
     "text": [
      "dict_keys(['a', 'b', 'c'])\n"
     ]
    },
    {
     "data": {
      "text/plain": [
       "dict_values([2, 1, 1])"
      ]
     },
     "execution_count": 175,
     "metadata": {},
     "output_type": "execute_result"
    }
   ],
   "source": [
    "from collections import Counter\n",
    "\n",
    "words = 'aabc'\n",
    "\n",
    "print(Counter(words).keys()) # equals to list(set(words))\n",
    "Counter(words).values() # counts the elements' frequency"
   ]
  },
  {
   "cell_type": "markdown",
   "metadata": {},
   "source": [
    "# Challenge 5: K-Distinct\n",
    "\n",
    "Write a function `k_distinct(string,k)` that given a string `'string'` and number `'k'`, it checks whether the `'string'` has `'k'` distinct characters\n",
    "\n",
    "For eg:\n",
    "***\n",
    "**Input**\n",
    "\n",
    "```python\n",
    "k_distinct('Messoptamia',8)\n",
    "```\n",
    "\n",
    "**Output**\n",
    "```python\n",
    "True\n",
    "```\n",
    "***\n",
    "**Input**\n",
    "\n",
    "```python\n",
    "k_distinct('banana',4)\n",
    "```\n",
    "\n",
    "**Output**\n",
    "```python\n",
    "False\n",
    "```\n"
   ]
  },
  {
   "cell_type": "code",
   "execution_count": null,
   "metadata": {},
   "outputs": [],
   "source": []
  },
  {
   "cell_type": "code",
   "execution_count": 15,
   "metadata": {},
   "outputs": [
    {
     "data": {
      "text/plain": [
       "True"
      ]
     },
     "execution_count": 15,
     "metadata": {},
     "output_type": "execute_result"
    }
   ],
   "source": [
    "def k_distinct(string,k):\n",
    "    string = string.lower()\n",
    "    c = []\n",
    "    for i in string:\n",
    "        if i not in c:\n",
    "            c.append(i)\n",
    "    if len(c)==k:\n",
    "        return True\n",
    "    else:\n",
    "        return False\n",
    "k_distinct('Messoptamia',8)"
   ]
  },
  {
   "cell_type": "code",
   "execution_count": null,
   "metadata": {},
   "outputs": [],
   "source": []
  }
 ],
 "metadata": {
  "kernelspec": {
   "display_name": "Python 3",
   "language": "python",
   "name": "python3"
  },
  "language_info": {
   "codemirror_mode": {
    "name": "ipython",
    "version": 3
   },
   "file_extension": ".py",
   "mimetype": "text/x-python",
   "name": "python",
   "nbconvert_exporter": "python",
   "pygments_lexer": "ipython3",
   "version": "3.7.1"
  }
 },
 "nbformat": 4,
 "nbformat_minor": 2
}
