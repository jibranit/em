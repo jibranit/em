{
 "cells": [
  {
   "cell_type": "code",
   "execution_count": 1,
   "metadata": {},
   "outputs": [],
   "source": [
    "import pandas as pd\n",
    "import numpy as np\n",
    "import seaborn as sns\n",
    "from sklearn.preprocessing import Imputer,LabelEncoder\n",
    "from scipy.stats import norm, skew\n",
    "import matplotlib.pyplot as plt\n",
    "from sklearn.preprocessing import StandardScaler\n",
    "from sklearn.model_selection import train_test_split,KFold\n",
    "from sklearn.linear_model import LogisticRegression\n",
    "from sklearn.metrics import recall_score,accuracy_score,classification_report,f1_score,confusion_matrix,precision_score,roc_auc_score,roc_curve\n",
    "from sklearn.model_selection import GridSearchCV\n",
    "from imblearn.over_sampling import SMOTE\n",
    "from sklearn.metrics import fbeta_score, make_scorer\n",
    "from sklearn.model_selection import cross_val_score\n",
    "from sklearn.feature_selection import f_classif\n",
    "from sklearn.feature_selection import chi2\n",
    "from sklearn.feature_selection import SelectKBest\n",
    "from sklearn.decomposition import PCA\n",
    "from sklearn.feature_selection import RFE\n",
    "from sklearn.preprocessing import MinMaxScaler\n",
    "from sklearn.tree import DecisionTreeClassifier\n",
    "from sklearn.ensemble import RandomForestClassifier\n",
    "from sklearn.ensemble import VotingClassifier\n",
    "from sklearn.ensemble import BaggingClassifier\n",
    "from mlxtend.classifier import StackingClassifier\n",
    "from sklearn.svm import SVC\n",
    "from sklearn.ensemble import AdaBoostClassifier\n",
    "from sklearn.ensemble import RandomForestClassifier\n",
    "from xgboost import XGBClassifier\n",
    "import warnings\n",
    "warnings.filterwarnings(\"ignore\")"
   ]
  },
  {
   "cell_type": "code",
   "execution_count": 2,
   "metadata": {},
   "outputs": [
    {
     "data": {
      "text/html": [
       "<div>\n",
       "<style scoped>\n",
       "    .dataframe tbody tr th:only-of-type {\n",
       "        vertical-align: middle;\n",
       "    }\n",
       "\n",
       "    .dataframe tbody tr th {\n",
       "        vertical-align: top;\n",
       "    }\n",
       "\n",
       "    .dataframe thead th {\n",
       "        text-align: right;\n",
       "    }\n",
       "</style>\n",
       "<table border=\"1\" class=\"dataframe\">\n",
       "  <thead>\n",
       "    <tr style=\"text-align: right;\">\n",
       "      <th></th>\n",
       "      <th>Agency</th>\n",
       "      <th>Agency Type</th>\n",
       "      <th>Product Name</th>\n",
       "      <th>Claim</th>\n",
       "      <th>Duration</th>\n",
       "      <th>Destination</th>\n",
       "      <th>Net Sales</th>\n",
       "      <th>Commision (in value)</th>\n",
       "      <th>Age</th>\n",
       "    </tr>\n",
       "  </thead>\n",
       "  <tbody>\n",
       "    <tr>\n",
       "      <th>0</th>\n",
       "      <td>CWT</td>\n",
       "      <td>Travel Agency</td>\n",
       "      <td>Rental Vehicle Excess Insurance</td>\n",
       "      <td>0</td>\n",
       "      <td>7</td>\n",
       "      <td>MALAYSIA</td>\n",
       "      <td>0.0</td>\n",
       "      <td>17.82</td>\n",
       "      <td>31</td>\n",
       "    </tr>\n",
       "    <tr>\n",
       "      <th>1</th>\n",
       "      <td>EPX</td>\n",
       "      <td>Travel Agency</td>\n",
       "      <td>Cancellation Plan</td>\n",
       "      <td>0</td>\n",
       "      <td>85</td>\n",
       "      <td>SINGAPORE</td>\n",
       "      <td>69.0</td>\n",
       "      <td>0.00</td>\n",
       "      <td>36</td>\n",
       "    </tr>\n",
       "    <tr>\n",
       "      <th>2</th>\n",
       "      <td>CWT</td>\n",
       "      <td>Travel Agency</td>\n",
       "      <td>Rental Vehicle Excess Insurance</td>\n",
       "      <td>0</td>\n",
       "      <td>11</td>\n",
       "      <td>MALAYSIA</td>\n",
       "      <td>19.8</td>\n",
       "      <td>11.88</td>\n",
       "      <td>75</td>\n",
       "    </tr>\n",
       "    <tr>\n",
       "      <th>3</th>\n",
       "      <td>EPX</td>\n",
       "      <td>Travel Agency</td>\n",
       "      <td>2 way Comprehensive Plan</td>\n",
       "      <td>0</td>\n",
       "      <td>16</td>\n",
       "      <td>INDONESIA</td>\n",
       "      <td>20.0</td>\n",
       "      <td>0.00</td>\n",
       "      <td>32</td>\n",
       "    </tr>\n",
       "    <tr>\n",
       "      <th>4</th>\n",
       "      <td>EPX</td>\n",
       "      <td>Travel Agency</td>\n",
       "      <td>Cancellation Plan</td>\n",
       "      <td>0</td>\n",
       "      <td>10</td>\n",
       "      <td>KOREA, REPUBLIC OF</td>\n",
       "      <td>15.0</td>\n",
       "      <td>0.00</td>\n",
       "      <td>29</td>\n",
       "    </tr>\n",
       "  </tbody>\n",
       "</table>\n",
       "</div>"
      ],
      "text/plain": [
       "  Agency    Agency Type                     Product Name  Claim  Duration  \\\n",
       "0    CWT  Travel Agency  Rental Vehicle Excess Insurance      0         7   \n",
       "1    EPX  Travel Agency                Cancellation Plan      0        85   \n",
       "2    CWT  Travel Agency  Rental Vehicle Excess Insurance      0        11   \n",
       "3    EPX  Travel Agency         2 way Comprehensive Plan      0        16   \n",
       "4    EPX  Travel Agency                Cancellation Plan      0        10   \n",
       "\n",
       "          Destination  Net Sales  Commision (in value)  Age  \n",
       "0            MALAYSIA        0.0                 17.82   31  \n",
       "1           SINGAPORE       69.0                  0.00   36  \n",
       "2            MALAYSIA       19.8                 11.88   75  \n",
       "3           INDONESIA       20.0                  0.00   32  \n",
       "4  KOREA, REPUBLIC OF       15.0                  0.00   29  "
      ]
     },
     "execution_count": 2,
     "metadata": {},
     "output_type": "execute_result"
    }
   ],
   "source": [
    "df_train = pd.read_csv('hackathon_train.csv').drop(['ID','Distribution Channel','Gender'],1)\n",
    "df_train.head()"
   ]
  },
  {
   "cell_type": "code",
   "execution_count": 3,
   "metadata": {},
   "outputs": [
    {
     "data": {
      "text/html": [
       "<div>\n",
       "<style scoped>\n",
       "    .dataframe tbody tr th:only-of-type {\n",
       "        vertical-align: middle;\n",
       "    }\n",
       "\n",
       "    .dataframe tbody tr th {\n",
       "        vertical-align: top;\n",
       "    }\n",
       "\n",
       "    .dataframe thead th {\n",
       "        text-align: right;\n",
       "    }\n",
       "</style>\n",
       "<table border=\"1\" class=\"dataframe\">\n",
       "  <thead>\n",
       "    <tr style=\"text-align: right;\">\n",
       "      <th></th>\n",
       "      <th>Agency</th>\n",
       "      <th>Agency Type</th>\n",
       "      <th>Product Name</th>\n",
       "      <th>Duration</th>\n",
       "      <th>Destination</th>\n",
       "      <th>Net Sales</th>\n",
       "      <th>Commision (in value)</th>\n",
       "      <th>Age</th>\n",
       "    </tr>\n",
       "  </thead>\n",
       "  <tbody>\n",
       "    <tr>\n",
       "      <th>0</th>\n",
       "      <td>CWT</td>\n",
       "      <td>Travel Agency</td>\n",
       "      <td>Rental Vehicle Excess Insurance</td>\n",
       "      <td>58</td>\n",
       "      <td>ICELAND</td>\n",
       "      <td>49.5</td>\n",
       "      <td>29.7</td>\n",
       "      <td>47</td>\n",
       "    </tr>\n",
       "    <tr>\n",
       "      <th>1</th>\n",
       "      <td>EPX</td>\n",
       "      <td>Travel Agency</td>\n",
       "      <td>2 way Comprehensive Plan</td>\n",
       "      <td>4</td>\n",
       "      <td>SINGAPORE</td>\n",
       "      <td>20.0</td>\n",
       "      <td>0.0</td>\n",
       "      <td>24</td>\n",
       "    </tr>\n",
       "    <tr>\n",
       "      <th>2</th>\n",
       "      <td>EPX</td>\n",
       "      <td>Travel Agency</td>\n",
       "      <td>2 way Comprehensive Plan</td>\n",
       "      <td>68</td>\n",
       "      <td>VIET NAM</td>\n",
       "      <td>20.0</td>\n",
       "      <td>0.0</td>\n",
       "      <td>36</td>\n",
       "    </tr>\n",
       "    <tr>\n",
       "      <th>3</th>\n",
       "      <td>EPX</td>\n",
       "      <td>Travel Agency</td>\n",
       "      <td>2 way Comprehensive Plan</td>\n",
       "      <td>41</td>\n",
       "      <td>CHINA</td>\n",
       "      <td>28.0</td>\n",
       "      <td>0.0</td>\n",
       "      <td>36</td>\n",
       "    </tr>\n",
       "    <tr>\n",
       "      <th>4</th>\n",
       "      <td>EPX</td>\n",
       "      <td>Travel Agency</td>\n",
       "      <td>Cancellation Plan</td>\n",
       "      <td>16</td>\n",
       "      <td>SINGAPORE</td>\n",
       "      <td>11.0</td>\n",
       "      <td>0.0</td>\n",
       "      <td>36</td>\n",
       "    </tr>\n",
       "  </tbody>\n",
       "</table>\n",
       "</div>"
      ],
      "text/plain": [
       "  Agency    Agency Type                     Product Name  Duration  \\\n",
       "0    CWT  Travel Agency  Rental Vehicle Excess Insurance        58   \n",
       "1    EPX  Travel Agency         2 way Comprehensive Plan         4   \n",
       "2    EPX  Travel Agency         2 way Comprehensive Plan        68   \n",
       "3    EPX  Travel Agency         2 way Comprehensive Plan        41   \n",
       "4    EPX  Travel Agency                Cancellation Plan        16   \n",
       "\n",
       "  Destination  Net Sales  Commision (in value)  Age  \n",
       "0     ICELAND       49.5                  29.7   47  \n",
       "1   SINGAPORE       20.0                   0.0   24  \n",
       "2    VIET NAM       20.0                   0.0   36  \n",
       "3       CHINA       28.0                   0.0   36  \n",
       "4   SINGAPORE       11.0                   0.0   36  "
      ]
     },
     "execution_count": 3,
     "metadata": {},
     "output_type": "execute_result"
    }
   ],
   "source": [
    "df_valid = pd.read_csv('hackathon_test.csv').drop(['ID','Distribution Channel','Gender'],1)\n",
    "df_valid.head()"
   ]
  },
  {
   "cell_type": "code",
   "execution_count": 4,
   "metadata": {},
   "outputs": [
    {
     "name": "stdout",
     "output_type": "stream",
     "text": [
      "<class 'pandas.core.frame.DataFrame'>\n",
      "RangeIndex: 50553 entries, 0 to 50552\n",
      "Data columns (total 9 columns):\n",
      "Agency                  50553 non-null object\n",
      "Agency Type             50553 non-null object\n",
      "Product Name            50553 non-null object\n",
      "Claim                   50553 non-null int64\n",
      "Duration                50553 non-null int64\n",
      "Destination             50553 non-null object\n",
      "Net Sales               50553 non-null float64\n",
      "Commision (in value)    50553 non-null float64\n",
      "Age                     50553 non-null int64\n",
      "dtypes: float64(2), int64(3), object(4)\n",
      "memory usage: 3.5+ MB\n"
     ]
    }
   ],
   "source": [
    "df_train.info()"
   ]
  },
  {
   "cell_type": "code",
   "execution_count": 5,
   "metadata": {},
   "outputs": [
    {
     "name": "stdout",
     "output_type": "stream",
     "text": [
      "<class 'pandas.core.frame.DataFrame'>\n",
      "RangeIndex: 12661 entries, 0 to 12660\n",
      "Data columns (total 8 columns):\n",
      "Agency                  12661 non-null object\n",
      "Agency Type             12661 non-null object\n",
      "Product Name            12661 non-null object\n",
      "Duration                12661 non-null int64\n",
      "Destination             12661 non-null object\n",
      "Net Sales               12661 non-null float64\n",
      "Commision (in value)    12661 non-null float64\n",
      "Age                     12661 non-null int64\n",
      "dtypes: float64(2), int64(2), object(4)\n",
      "memory usage: 791.4+ KB\n"
     ]
    }
   ],
   "source": [
    "df_valid.info()"
   ]
  },
  {
   "cell_type": "code",
   "execution_count": 6,
   "metadata": {},
   "outputs": [],
   "source": [
    "cols_con = df_train.select_dtypes(['int64','float64']).drop('Claim',1)#.columns\n",
    "cols_non_con = df_train.select_dtypes(['object'])#.columns"
   ]
  },
  {
   "cell_type": "code",
   "execution_count": 7,
   "metadata": {},
   "outputs": [
    {
     "data": {
      "image/png": "[encoded data removed]",
      "text/plain": [
       "<Figure size 2880x720 with 1 Axes>"
      ]
     },
     "metadata": {
      "needs_background": "light"
     },
     "output_type": "display_data"
    },
    {
     "data": {
      "image/png": "[encoded data removed]",
      "text/plain": [
       "<Figure size 2880x720 with 1 Axes>"
      ]
     },
     "metadata": {
      "needs_background": "light"
     },
     "output_type": "display_data"
    },
    {
     "data": {
      "image/png": "[encoded data removed]",
      "text/plain": [
       "<Figure size 2880x720 with 1 Axes>"
      ]
     },
     "metadata": {
      "needs_background": "light"
     },
     "output_type": "display_data"
    },
    {
     "data": {
      "image/png": "[encoded data removed]",
      "text/plain": [
       "<Figure size 2880x720 with 1 Axes>"
      ]
     },
     "metadata": {
      "needs_background": "light"
     },
     "output_type": "display_data"
    }
   ],
   "source": [
    "n=1\n",
    "for j in cols_non_con.columns:\n",
    "    plt.figure(figsize=(40,10))\n",
    "    plt.subplot(3,2,n)\n",
    "    sns.countplot(df_train[j],hue=df_train['Claim'])\n",
    "    plt.title('Count plot for '+j,fontsize=20)\n",
    "    n+=1\n",
    "    plt.xticks(rotation=90,fontsize=12)\n",
    "#     plt.show()"
   ]
  },
  {
   "cell_type": "code",
   "execution_count": 8,
   "metadata": {},
   "outputs": [
    {
     "data": {
      "image/png": "[encoded data removed]",
      "text/plain": [
       "<Figure size 1440x1152 with 4 Axes>"
      ]
     },
     "metadata": {
      "needs_background": "light"
     },
     "output_type": "display_data"
    }
   ],
   "source": [
    "# for i in cols_con:\n",
    "#     sns.distplot(df_train[i])\n",
    "#     plt.show()\n",
    "    \n",
    "n = 1\n",
    "plt.figure(figsize = (20,16))\n",
    "for i in cols_con.columns:\n",
    "    plt.subplot(3,2,n)\n",
    "    sns.distplot(df_train[i])\n",
    "    plt.title('Distribution for '+i,fontsize=20)\n",
    "    n+=1"
   ]
  },
  {
   "cell_type": "code",
   "execution_count": 10,
   "metadata": {},
   "outputs": [
    {
     "data": {
      "image/png": "[encoded data removed]",
      "text/plain": [
       "<Figure size 1080x720 with 4 Axes>"
      ]
     },
     "metadata": {
      "needs_background": "light"
     },
     "output_type": "display_data"
    }
   ],
   "source": [
    "n=1\n",
    "plt.figure(figsize=(15,10))\n",
    "for box in cols_con.columns:\n",
    "    plt.subplot(2,2,n)\n",
    "    plt.boxplot(cols_con[box])\n",
    "    plt.title('Boxplot for '+box,fontsize=20)   \n",
    "    n+=1"
   ]
  },
  {
   "cell_type": "code",
   "execution_count": 11,
   "metadata": {},
   "outputs": [
    {
     "data": {
      "text/html": [
       "<div>\n",
       "<style scoped>\n",
       "    .dataframe tbody tr th:only-of-type {\n",
       "        vertical-align: middle;\n",
       "    }\n",
       "\n",
       "    .dataframe tbody tr th {\n",
       "        vertical-align: top;\n",
       "    }\n",
       "\n",
       "    .dataframe thead th {\n",
       "        text-align: right;\n",
       "    }\n",
       "</style>\n",
       "<table border=\"1\" class=\"dataframe\">\n",
       "  <thead>\n",
       "    <tr style=\"text-align: right;\">\n",
       "      <th></th>\n",
       "      <th>Agency</th>\n",
       "      <th>Agency Type</th>\n",
       "      <th>Product Name</th>\n",
       "      <th>Claim</th>\n",
       "      <th>Duration</th>\n",
       "      <th>Destination</th>\n",
       "      <th>Net Sales</th>\n",
       "      <th>Commision (in value)</th>\n",
       "      <th>Age</th>\n",
       "    </tr>\n",
       "  </thead>\n",
       "  <tbody>\n",
       "    <tr>\n",
       "      <th>4063</th>\n",
       "      <td>JZI</td>\n",
       "      <td>Airlines</td>\n",
       "      <td>Basic Plan</td>\n",
       "      <td>0</td>\n",
       "      <td>-1</td>\n",
       "      <td>BRUNEI DARUSSALAM</td>\n",
       "      <td>18.0</td>\n",
       "      <td>6.3</td>\n",
       "      <td>118</td>\n",
       "    </tr>\n",
       "    <tr>\n",
       "      <th>38935</th>\n",
       "      <td>JZI</td>\n",
       "      <td>Airlines</td>\n",
       "      <td>Basic Plan</td>\n",
       "      <td>0</td>\n",
       "      <td>-1</td>\n",
       "      <td>INDONESIA</td>\n",
       "      <td>18.0</td>\n",
       "      <td>6.3</td>\n",
       "      <td>118</td>\n",
       "    </tr>\n",
       "    <tr>\n",
       "      <th>48367</th>\n",
       "      <td>JZI</td>\n",
       "      <td>Airlines</td>\n",
       "      <td>Basic Plan</td>\n",
       "      <td>0</td>\n",
       "      <td>-2</td>\n",
       "      <td>BANGLADESH</td>\n",
       "      <td>22.0</td>\n",
       "      <td>7.7</td>\n",
       "      <td>118</td>\n",
       "    </tr>\n",
       "  </tbody>\n",
       "</table>\n",
       "</div>"
      ],
      "text/plain": [
       "      Agency Agency Type Product Name  Claim  Duration        Destination  \\\n",
       "4063     JZI    Airlines   Basic Plan      0        -1  BRUNEI DARUSSALAM   \n",
       "38935    JZI    Airlines   Basic Plan      0        -1          INDONESIA   \n",
       "48367    JZI    Airlines   Basic Plan      0        -2         BANGLADESH   \n",
       "\n",
       "       Net Sales  Commision (in value)  Age  \n",
       "4063        18.0                   6.3  118  \n",
       "38935       18.0                   6.3  118  \n",
       "48367       22.0                   7.7  118  "
      ]
     },
     "execution_count": 11,
     "metadata": {},
     "output_type": "execute_result"
    }
   ],
   "source": [
    "df_train[df_train['Duration'] < 0]"
   ]
  },
  {
   "cell_type": "code",
   "execution_count": 12,
   "metadata": {},
   "outputs": [
    {
     "name": "stdout",
     "output_type": "stream",
     "text": [
      "Mean DURATION for destination INDONESIA 15.64406779661017\n",
      "Mean DURATION for destination BANGLADESH 5.0\n",
      "Mean DURATION for destination BRUNEI DARUSSALAM 2.8\n"
     ]
    }
   ],
   "source": [
    "print('Mean DURATION for destination INDONESIA',df_train[(df_train['Agency'] == 'JZI') &(df_train['Agency Type'] == 'Airlines')&(df_train['Product Name'] == 'Basic Plan')&(df_train['Destination'] == 'INDONESIA')& (df_train['Claim'] ==0)& (df_train['Net Sales'] ==18.0)& (df_train['Commision (in value)'] ==6.3)]['Duration'].mean())\n",
    "print('Mean DURATION for destination BANGLADESH',df_train[(df_train['Agency'] == 'JZI') &(df_train['Agency Type'] == 'Airlines') &(df_train['Product Name'] == 'Basic Plan')&(df_train['Destination'] == 'BANGLADESH')& (df_train['Claim'] ==0)& (df_train['Net Sales'] ==22.0)& (df_train['Commision (in value)'] ==7.7)]['Duration'].mean())\n",
    "print('Mean DURATION for destination BRUNEI DARUSSALAM',df_train[(df_train['Agency'] == 'JZI') &(df_train['Agency Type'] == 'Airlines') &(df_train['Product Name'] == 'Basic Plan')&(df_train['Destination'] == 'BRUNEI DARUSSALAM')& (df_train['Claim'] ==0)& (df_train['Net Sales'] ==18.0)& (df_train['Commision (in value)'] ==6.3)]['Duration'].mean())"
   ]
  },
  {
   "cell_type": "code",
   "execution_count": 13,
   "metadata": {},
   "outputs": [],
   "source": [
    "df_train.loc[(df_train.Duration == -1) & (df_train.Destination == 'BRUNEI DARUSSALAM'), 'Duration'] = 3\n",
    "df_train.loc[df_train.Duration == -2, 'Duration'] = 5\n",
    "df_train.loc[(df_train.Duration == -1) & (df_train.Destination == 'INDONESIA'), 'Duration'] = 15"
   ]
  },
  {
   "cell_type": "code",
   "execution_count": 14,
   "metadata": {},
   "outputs": [
    {
     "data": {
      "text/html": [
       "<div>\n",
       "<style scoped>\n",
       "    .dataframe tbody tr th:only-of-type {\n",
       "        vertical-align: middle;\n",
       "    }\n",
       "\n",
       "    .dataframe tbody tr th {\n",
       "        vertical-align: top;\n",
       "    }\n",
       "\n",
       "    .dataframe thead th {\n",
       "        text-align: right;\n",
       "    }\n",
       "</style>\n",
       "<table border=\"1\" class=\"dataframe\">\n",
       "  <thead>\n",
       "    <tr style=\"text-align: right;\">\n",
       "      <th></th>\n",
       "      <th>Agency</th>\n",
       "      <th>Agency Type</th>\n",
       "      <th>Product Name</th>\n",
       "      <th>Claim</th>\n",
       "      <th>Duration</th>\n",
       "      <th>Destination</th>\n",
       "      <th>Net Sales</th>\n",
       "      <th>Commision (in value)</th>\n",
       "      <th>Age</th>\n",
       "    </tr>\n",
       "  </thead>\n",
       "  <tbody>\n",
       "  </tbody>\n",
       "</table>\n",
       "</div>"
      ],
      "text/plain": [
       "Empty DataFrame\n",
       "Columns: [Agency, Agency Type, Product Name, Claim, Duration, Destination, Net Sales, Commision (in value), Age]\n",
       "Index: []"
      ]
     },
     "execution_count": 14,
     "metadata": {},
     "output_type": "execute_result"
    }
   ],
   "source": [
    "df_train[df_train['Duration'] < 0]"
   ]
  },
  {
   "cell_type": "code",
   "execution_count": 15,
   "metadata": {},
   "outputs": [
    {
     "data": {
      "text/html": [
       "<div>\n",
       "<style scoped>\n",
       "    .dataframe tbody tr th:only-of-type {\n",
       "        vertical-align: middle;\n",
       "    }\n",
       "\n",
       "    .dataframe tbody tr th {\n",
       "        vertical-align: top;\n",
       "    }\n",
       "\n",
       "    .dataframe thead th {\n",
       "        text-align: right;\n",
       "    }\n",
       "</style>\n",
       "<table border=\"1\" class=\"dataframe\">\n",
       "  <thead>\n",
       "    <tr style=\"text-align: right;\">\n",
       "      <th></th>\n",
       "      <th>Agency</th>\n",
       "      <th>Agency Type</th>\n",
       "      <th>Product Name</th>\n",
       "      <th>Duration</th>\n",
       "      <th>Destination</th>\n",
       "      <th>Net Sales</th>\n",
       "      <th>Commision (in value)</th>\n",
       "      <th>Age</th>\n",
       "    </tr>\n",
       "  </thead>\n",
       "  <tbody>\n",
       "    <tr>\n",
       "      <th>802</th>\n",
       "      <td>JZI</td>\n",
       "      <td>Airlines</td>\n",
       "      <td>Basic Plan</td>\n",
       "      <td>-1</td>\n",
       "      <td>CHINA</td>\n",
       "      <td>22.0</td>\n",
       "      <td>7.7</td>\n",
       "      <td>118</td>\n",
       "    </tr>\n",
       "    <tr>\n",
       "      <th>4432</th>\n",
       "      <td>JZI</td>\n",
       "      <td>Airlines</td>\n",
       "      <td>Basic Plan</td>\n",
       "      <td>-1</td>\n",
       "      <td>MALAYSIA</td>\n",
       "      <td>18.0</td>\n",
       "      <td>6.3</td>\n",
       "      <td>118</td>\n",
       "    </tr>\n",
       "  </tbody>\n",
       "</table>\n",
       "</div>"
      ],
      "text/plain": [
       "     Agency Agency Type Product Name  Duration Destination  Net Sales  \\\n",
       "802     JZI    Airlines   Basic Plan        -1       CHINA       22.0   \n",
       "4432    JZI    Airlines   Basic Plan        -1    MALAYSIA       18.0   \n",
       "\n",
       "      Commision (in value)  Age  \n",
       "802                    7.7  118  \n",
       "4432                   6.3  118  "
      ]
     },
     "execution_count": 15,
     "metadata": {},
     "output_type": "execute_result"
    }
   ],
   "source": [
    "df_valid[df_valid['Duration'] < 0]#.unique()#.sort()#.value_counts()"
   ]
  },
  {
   "cell_type": "code",
   "execution_count": 16,
   "metadata": {},
   "outputs": [
    {
     "name": "stdout",
     "output_type": "stream",
     "text": [
      "Mean DURATION for destination CHINA 9.74468085106383\n",
      "Mean DURATION for destination MALAYSIA 13.68918918918919\n"
     ]
    }
   ],
   "source": [
    "print('Mean DURATION for destination CHINA',df_valid[(df_valid['Agency'] == 'JZI') &(df_valid['Agency Type'] == 'Airlines')&(df_valid['Product Name'] == 'Basic Plan')&(df_valid['Destination'] == 'CHINA')& (df_valid['Net Sales'] ==22.0)& (df_valid['Commision (in value)'] ==7.7)]['Duration'].mean())\n",
    "print('Mean DURATION for destination MALAYSIA',df_valid[(df_valid['Agency'] == 'JZI') &(df_valid['Agency Type'] == 'Airlines') &(df_valid['Product Name'] == 'Basic Plan')&(df_valid['Destination'] == 'MALAYSIA')& (df_valid['Net Sales'] ==18.0)& (df_valid['Commision (in value)'] ==6.3)]['Duration'].mean())"
   ]
  },
  {
   "cell_type": "code",
   "execution_count": 17,
   "metadata": {},
   "outputs": [],
   "source": [
    "df_valid.loc[(df_valid.Duration == -1) & (df_valid.Destination == 'MALAYSIA'), 'Duration'] = 13\n",
    "df_valid.loc[(df_valid.Duration == -1) & (df_valid.Destination == 'CHINA'), 'Duration'] = 9"
   ]
  },
  {
   "cell_type": "code",
   "execution_count": 18,
   "metadata": {},
   "outputs": [
    {
     "data": {
      "text/html": [
       "<div>\n",
       "<style scoped>\n",
       "    .dataframe tbody tr th:only-of-type {\n",
       "        vertical-align: middle;\n",
       "    }\n",
       "\n",
       "    .dataframe tbody tr th {\n",
       "        vertical-align: top;\n",
       "    }\n",
       "\n",
       "    .dataframe thead th {\n",
       "        text-align: right;\n",
       "    }\n",
       "</style>\n",
       "<table border=\"1\" class=\"dataframe\">\n",
       "  <thead>\n",
       "    <tr style=\"text-align: right;\">\n",
       "      <th></th>\n",
       "      <th>Agency</th>\n",
       "      <th>Agency Type</th>\n",
       "      <th>Product Name</th>\n",
       "      <th>Duration</th>\n",
       "      <th>Destination</th>\n",
       "      <th>Net Sales</th>\n",
       "      <th>Commision (in value)</th>\n",
       "      <th>Age</th>\n",
       "    </tr>\n",
       "  </thead>\n",
       "  <tbody>\n",
       "  </tbody>\n",
       "</table>\n",
       "</div>"
      ],
      "text/plain": [
       "Empty DataFrame\n",
       "Columns: [Agency, Agency Type, Product Name, Duration, Destination, Net Sales, Commision (in value), Age]\n",
       "Index: []"
      ]
     },
     "execution_count": 18,
     "metadata": {},
     "output_type": "execute_result"
    }
   ],
   "source": [
    "df_valid[df_valid['Duration'] < 0]#.unique()#.sort()#.value_counts()"
   ]
  },
  {
   "cell_type": "code",
   "execution_count": 19,
   "metadata": {},
   "outputs": [
    {
     "data": {
      "text/html": [
       "<div>\n",
       "<style scoped>\n",
       "    .dataframe tbody tr th:only-of-type {\n",
       "        vertical-align: middle;\n",
       "    }\n",
       "\n",
       "    .dataframe tbody tr th {\n",
       "        vertical-align: top;\n",
       "    }\n",
       "\n",
       "    .dataframe thead th {\n",
       "        text-align: right;\n",
       "    }\n",
       "</style>\n",
       "<table border=\"1\" class=\"dataframe\">\n",
       "  <thead>\n",
       "    <tr style=\"text-align: right;\">\n",
       "      <th></th>\n",
       "      <th>Agency</th>\n",
       "      <th>Agency Type</th>\n",
       "      <th>Product Name</th>\n",
       "      <th>Claim</th>\n",
       "      <th>Duration</th>\n",
       "      <th>Destination</th>\n",
       "      <th>Net Sales</th>\n",
       "      <th>Commision (in value)</th>\n",
       "      <th>Age</th>\n",
       "    </tr>\n",
       "  </thead>\n",
       "  <tbody>\n",
       "    <tr>\n",
       "      <th>12083</th>\n",
       "      <td>SSI</td>\n",
       "      <td>Airlines</td>\n",
       "      <td>Ticket Protector</td>\n",
       "      <td>0</td>\n",
       "      <td>4609</td>\n",
       "      <td>SINGAPORE</td>\n",
       "      <td>0.32</td>\n",
       "      <td>0.09</td>\n",
       "      <td>48</td>\n",
       "    </tr>\n",
       "    <tr>\n",
       "      <th>15326</th>\n",
       "      <td>SSI</td>\n",
       "      <td>Airlines</td>\n",
       "      <td>Ticket Protector</td>\n",
       "      <td>0</td>\n",
       "      <td>4580</td>\n",
       "      <td>SINGAPORE</td>\n",
       "      <td>0.32</td>\n",
       "      <td>0.09</td>\n",
       "      <td>48</td>\n",
       "    </tr>\n",
       "    <tr>\n",
       "      <th>16797</th>\n",
       "      <td>SSI</td>\n",
       "      <td>Airlines</td>\n",
       "      <td>Ticket Protector</td>\n",
       "      <td>0</td>\n",
       "      <td>4685</td>\n",
       "      <td>SINGAPORE</td>\n",
       "      <td>0.32</td>\n",
       "      <td>0.09</td>\n",
       "      <td>48</td>\n",
       "    </tr>\n",
       "    <tr>\n",
       "      <th>17702</th>\n",
       "      <td>SSI</td>\n",
       "      <td>Airlines</td>\n",
       "      <td>Ticket Protector</td>\n",
       "      <td>0</td>\n",
       "      <td>4736</td>\n",
       "      <td>SINGAPORE</td>\n",
       "      <td>0.32</td>\n",
       "      <td>0.09</td>\n",
       "      <td>48</td>\n",
       "    </tr>\n",
       "    <tr>\n",
       "      <th>23844</th>\n",
       "      <td>SSI</td>\n",
       "      <td>Airlines</td>\n",
       "      <td>Ticket Protector</td>\n",
       "      <td>0</td>\n",
       "      <td>4844</td>\n",
       "      <td>SINGAPORE</td>\n",
       "      <td>0.32</td>\n",
       "      <td>0.09</td>\n",
       "      <td>48</td>\n",
       "    </tr>\n",
       "    <tr>\n",
       "      <th>27270</th>\n",
       "      <td>SSI</td>\n",
       "      <td>Airlines</td>\n",
       "      <td>Ticket Protector</td>\n",
       "      <td>0</td>\n",
       "      <td>4857</td>\n",
       "      <td>SINGAPORE</td>\n",
       "      <td>0.32</td>\n",
       "      <td>0.09</td>\n",
       "      <td>48</td>\n",
       "    </tr>\n",
       "    <tr>\n",
       "      <th>28143</th>\n",
       "      <td>SSI</td>\n",
       "      <td>Airlines</td>\n",
       "      <td>Ticket Protector</td>\n",
       "      <td>0</td>\n",
       "      <td>4815</td>\n",
       "      <td>SINGAPORE</td>\n",
       "      <td>0.32</td>\n",
       "      <td>0.09</td>\n",
       "      <td>48</td>\n",
       "    </tr>\n",
       "    <tr>\n",
       "      <th>30465</th>\n",
       "      <td>SSI</td>\n",
       "      <td>Airlines</td>\n",
       "      <td>Ticket Protector</td>\n",
       "      <td>0</td>\n",
       "      <td>4652</td>\n",
       "      <td>SINGAPORE</td>\n",
       "      <td>0.32</td>\n",
       "      <td>0.09</td>\n",
       "      <td>48</td>\n",
       "    </tr>\n",
       "    <tr>\n",
       "      <th>31070</th>\n",
       "      <td>SSI</td>\n",
       "      <td>Airlines</td>\n",
       "      <td>Ticket Protector</td>\n",
       "      <td>0</td>\n",
       "      <td>4829</td>\n",
       "      <td>SINGAPORE</td>\n",
       "      <td>0.32</td>\n",
       "      <td>0.09</td>\n",
       "      <td>48</td>\n",
       "    </tr>\n",
       "    <tr>\n",
       "      <th>42137</th>\n",
       "      <td>SSI</td>\n",
       "      <td>Airlines</td>\n",
       "      <td>Ticket Protector</td>\n",
       "      <td>0</td>\n",
       "      <td>4738</td>\n",
       "      <td>SINGAPORE</td>\n",
       "      <td>0.32</td>\n",
       "      <td>0.09</td>\n",
       "      <td>48</td>\n",
       "    </tr>\n",
       "    <tr>\n",
       "      <th>43742</th>\n",
       "      <td>SSI</td>\n",
       "      <td>Airlines</td>\n",
       "      <td>Ticket Protector</td>\n",
       "      <td>0</td>\n",
       "      <td>4881</td>\n",
       "      <td>SINGAPORE</td>\n",
       "      <td>0.13</td>\n",
       "      <td>0.04</td>\n",
       "      <td>48</td>\n",
       "    </tr>\n",
       "  </tbody>\n",
       "</table>\n",
       "</div>"
      ],
      "text/plain": [
       "      Agency Agency Type      Product Name  Claim  Duration Destination  \\\n",
       "12083    SSI    Airlines  Ticket Protector      0      4609   SINGAPORE   \n",
       "15326    SSI    Airlines  Ticket Protector      0      4580   SINGAPORE   \n",
       "16797    SSI    Airlines  Ticket Protector      0      4685   SINGAPORE   \n",
       "17702    SSI    Airlines  Ticket Protector      0      4736   SINGAPORE   \n",
       "23844    SSI    Airlines  Ticket Protector      0      4844   SINGAPORE   \n",
       "27270    SSI    Airlines  Ticket Protector      0      4857   SINGAPORE   \n",
       "28143    SSI    Airlines  Ticket Protector      0      4815   SINGAPORE   \n",
       "30465    SSI    Airlines  Ticket Protector      0      4652   SINGAPORE   \n",
       "31070    SSI    Airlines  Ticket Protector      0      4829   SINGAPORE   \n",
       "42137    SSI    Airlines  Ticket Protector      0      4738   SINGAPORE   \n",
       "43742    SSI    Airlines  Ticket Protector      0      4881   SINGAPORE   \n",
       "\n",
       "       Net Sales  Commision (in value)  Age  \n",
       "12083       0.32                  0.09   48  \n",
       "15326       0.32                  0.09   48  \n",
       "16797       0.32                  0.09   48  \n",
       "17702       0.32                  0.09   48  \n",
       "23844       0.32                  0.09   48  \n",
       "27270       0.32                  0.09   48  \n",
       "28143       0.32                  0.09   48  \n",
       "30465       0.32                  0.09   48  \n",
       "31070       0.32                  0.09   48  \n",
       "42137       0.32                  0.09   48  \n",
       "43742       0.13                  0.04   48  "
      ]
     },
     "execution_count": 19,
     "metadata": {},
     "output_type": "execute_result"
    }
   ],
   "source": [
    "df_train[(df_train['Age'] <= 50)&(df_train['Age'] >=16 )& (df_train['Duration'] > 1095)]"
   ]
  },
  {
   "cell_type": "code",
   "execution_count": 20,
   "metadata": {},
   "outputs": [],
   "source": [
    "df_train.loc[(df_train['Age'] <= 50)&(df_train['Age'] >=16 )& (df_train['Duration'] > 1095),'Duration'] = 1095"
   ]
  },
  {
   "cell_type": "code",
   "execution_count": 21,
   "metadata": {},
   "outputs": [
    {
     "data": {
      "text/html": [
       "<div>\n",
       "<style scoped>\n",
       "    .dataframe tbody tr th:only-of-type {\n",
       "        vertical-align: middle;\n",
       "    }\n",
       "\n",
       "    .dataframe tbody tr th {\n",
       "        vertical-align: top;\n",
       "    }\n",
       "\n",
       "    .dataframe thead th {\n",
       "        text-align: right;\n",
       "    }\n",
       "</style>\n",
       "<table border=\"1\" class=\"dataframe\">\n",
       "  <thead>\n",
       "    <tr style=\"text-align: right;\">\n",
       "      <th></th>\n",
       "      <th>Agency</th>\n",
       "      <th>Agency Type</th>\n",
       "      <th>Product Name</th>\n",
       "      <th>Claim</th>\n",
       "      <th>Duration</th>\n",
       "      <th>Destination</th>\n",
       "      <th>Net Sales</th>\n",
       "      <th>Commision (in value)</th>\n",
       "      <th>Age</th>\n",
       "    </tr>\n",
       "  </thead>\n",
       "  <tbody>\n",
       "    <tr>\n",
       "      <th>12083</th>\n",
       "      <td>SSI</td>\n",
       "      <td>Airlines</td>\n",
       "      <td>Ticket Protector</td>\n",
       "      <td>0</td>\n",
       "      <td>1095</td>\n",
       "      <td>SINGAPORE</td>\n",
       "      <td>0.32</td>\n",
       "      <td>0.09</td>\n",
       "      <td>48</td>\n",
       "    </tr>\n",
       "    <tr>\n",
       "      <th>15326</th>\n",
       "      <td>SSI</td>\n",
       "      <td>Airlines</td>\n",
       "      <td>Ticket Protector</td>\n",
       "      <td>0</td>\n",
       "      <td>1095</td>\n",
       "      <td>SINGAPORE</td>\n",
       "      <td>0.32</td>\n",
       "      <td>0.09</td>\n",
       "      <td>48</td>\n",
       "    </tr>\n",
       "    <tr>\n",
       "      <th>16797</th>\n",
       "      <td>SSI</td>\n",
       "      <td>Airlines</td>\n",
       "      <td>Ticket Protector</td>\n",
       "      <td>0</td>\n",
       "      <td>1095</td>\n",
       "      <td>SINGAPORE</td>\n",
       "      <td>0.32</td>\n",
       "      <td>0.09</td>\n",
       "      <td>48</td>\n",
       "    </tr>\n",
       "    <tr>\n",
       "      <th>17702</th>\n",
       "      <td>SSI</td>\n",
       "      <td>Airlines</td>\n",
       "      <td>Ticket Protector</td>\n",
       "      <td>0</td>\n",
       "      <td>1095</td>\n",
       "      <td>SINGAPORE</td>\n",
       "      <td>0.32</td>\n",
       "      <td>0.09</td>\n",
       "      <td>48</td>\n",
       "    </tr>\n",
       "    <tr>\n",
       "      <th>23844</th>\n",
       "      <td>SSI</td>\n",
       "      <td>Airlines</td>\n",
       "      <td>Ticket Protector</td>\n",
       "      <td>0</td>\n",
       "      <td>1095</td>\n",
       "      <td>SINGAPORE</td>\n",
       "      <td>0.32</td>\n",
       "      <td>0.09</td>\n",
       "      <td>48</td>\n",
       "    </tr>\n",
       "    <tr>\n",
       "      <th>27270</th>\n",
       "      <td>SSI</td>\n",
       "      <td>Airlines</td>\n",
       "      <td>Ticket Protector</td>\n",
       "      <td>0</td>\n",
       "      <td>1095</td>\n",
       "      <td>SINGAPORE</td>\n",
       "      <td>0.32</td>\n",
       "      <td>0.09</td>\n",
       "      <td>48</td>\n",
       "    </tr>\n",
       "    <tr>\n",
       "      <th>28143</th>\n",
       "      <td>SSI</td>\n",
       "      <td>Airlines</td>\n",
       "      <td>Ticket Protector</td>\n",
       "      <td>0</td>\n",
       "      <td>1095</td>\n",
       "      <td>SINGAPORE</td>\n",
       "      <td>0.32</td>\n",
       "      <td>0.09</td>\n",
       "      <td>48</td>\n",
       "    </tr>\n",
       "    <tr>\n",
       "      <th>30465</th>\n",
       "      <td>SSI</td>\n",
       "      <td>Airlines</td>\n",
       "      <td>Ticket Protector</td>\n",
       "      <td>0</td>\n",
       "      <td>1095</td>\n",
       "      <td>SINGAPORE</td>\n",
       "      <td>0.32</td>\n",
       "      <td>0.09</td>\n",
       "      <td>48</td>\n",
       "    </tr>\n",
       "    <tr>\n",
       "      <th>31070</th>\n",
       "      <td>SSI</td>\n",
       "      <td>Airlines</td>\n",
       "      <td>Ticket Protector</td>\n",
       "      <td>0</td>\n",
       "      <td>1095</td>\n",
       "      <td>SINGAPORE</td>\n",
       "      <td>0.32</td>\n",
       "      <td>0.09</td>\n",
       "      <td>48</td>\n",
       "    </tr>\n",
       "    <tr>\n",
       "      <th>42137</th>\n",
       "      <td>SSI</td>\n",
       "      <td>Airlines</td>\n",
       "      <td>Ticket Protector</td>\n",
       "      <td>0</td>\n",
       "      <td>1095</td>\n",
       "      <td>SINGAPORE</td>\n",
       "      <td>0.32</td>\n",
       "      <td>0.09</td>\n",
       "      <td>48</td>\n",
       "    </tr>\n",
       "    <tr>\n",
       "      <th>43742</th>\n",
       "      <td>SSI</td>\n",
       "      <td>Airlines</td>\n",
       "      <td>Ticket Protector</td>\n",
       "      <td>0</td>\n",
       "      <td>1095</td>\n",
       "      <td>SINGAPORE</td>\n",
       "      <td>0.13</td>\n",
       "      <td>0.04</td>\n",
       "      <td>48</td>\n",
       "    </tr>\n",
       "  </tbody>\n",
       "</table>\n",
       "</div>"
      ],
      "text/plain": [
       "      Agency Agency Type      Product Name  Claim  Duration Destination  \\\n",
       "12083    SSI    Airlines  Ticket Protector      0      1095   SINGAPORE   \n",
       "15326    SSI    Airlines  Ticket Protector      0      1095   SINGAPORE   \n",
       "16797    SSI    Airlines  Ticket Protector      0      1095   SINGAPORE   \n",
       "17702    SSI    Airlines  Ticket Protector      0      1095   SINGAPORE   \n",
       "23844    SSI    Airlines  Ticket Protector      0      1095   SINGAPORE   \n",
       "27270    SSI    Airlines  Ticket Protector      0      1095   SINGAPORE   \n",
       "28143    SSI    Airlines  Ticket Protector      0      1095   SINGAPORE   \n",
       "30465    SSI    Airlines  Ticket Protector      0      1095   SINGAPORE   \n",
       "31070    SSI    Airlines  Ticket Protector      0      1095   SINGAPORE   \n",
       "42137    SSI    Airlines  Ticket Protector      0      1095   SINGAPORE   \n",
       "43742    SSI    Airlines  Ticket Protector      0      1095   SINGAPORE   \n",
       "\n",
       "       Net Sales  Commision (in value)  Age  \n",
       "12083       0.32                  0.09   48  \n",
       "15326       0.32                  0.09   48  \n",
       "16797       0.32                  0.09   48  \n",
       "17702       0.32                  0.09   48  \n",
       "23844       0.32                  0.09   48  \n",
       "27270       0.32                  0.09   48  \n",
       "28143       0.32                  0.09   48  \n",
       "30465       0.32                  0.09   48  \n",
       "31070       0.32                  0.09   48  \n",
       "42137       0.32                  0.09   48  \n",
       "43742       0.13                  0.04   48  "
      ]
     },
     "execution_count": 21,
     "metadata": {},
     "output_type": "execute_result"
    }
   ],
   "source": [
    "df_train[(df_train['Age'] <= 50)&(df_train['Age'] >=16 )& (df_train['Duration']== 1095)]"
   ]
  },
  {
   "cell_type": "code",
   "execution_count": 22,
   "metadata": {},
   "outputs": [
    {
     "data": {
      "text/html": [
       "<div>\n",
       "<style scoped>\n",
       "    .dataframe tbody tr th:only-of-type {\n",
       "        vertical-align: middle;\n",
       "    }\n",
       "\n",
       "    .dataframe tbody tr th {\n",
       "        vertical-align: top;\n",
       "    }\n",
       "\n",
       "    .dataframe thead th {\n",
       "        text-align: right;\n",
       "    }\n",
       "</style>\n",
       "<table border=\"1\" class=\"dataframe\">\n",
       "  <thead>\n",
       "    <tr style=\"text-align: right;\">\n",
       "      <th></th>\n",
       "      <th>Agency</th>\n",
       "      <th>Agency Type</th>\n",
       "      <th>Product Name</th>\n",
       "      <th>Duration</th>\n",
       "      <th>Destination</th>\n",
       "      <th>Net Sales</th>\n",
       "      <th>Commision (in value)</th>\n",
       "      <th>Age</th>\n",
       "    </tr>\n",
       "  </thead>\n",
       "  <tbody>\n",
       "    <tr>\n",
       "      <th>1118</th>\n",
       "      <td>SSI</td>\n",
       "      <td>Airlines</td>\n",
       "      <td>Ticket Protector</td>\n",
       "      <td>4784</td>\n",
       "      <td>SINGAPORE</td>\n",
       "      <td>0.32</td>\n",
       "      <td>0.09</td>\n",
       "      <td>48</td>\n",
       "    </tr>\n",
       "    <tr>\n",
       "      <th>4157</th>\n",
       "      <td>SSI</td>\n",
       "      <td>Airlines</td>\n",
       "      <td>Ticket Protector</td>\n",
       "      <td>4831</td>\n",
       "      <td>SINGAPORE</td>\n",
       "      <td>0.32</td>\n",
       "      <td>0.09</td>\n",
       "      <td>48</td>\n",
       "    </tr>\n",
       "    <tr>\n",
       "      <th>12170</th>\n",
       "      <td>SSI</td>\n",
       "      <td>Airlines</td>\n",
       "      <td>Ticket Protector</td>\n",
       "      <td>4847</td>\n",
       "      <td>SINGAPORE</td>\n",
       "      <td>0.32</td>\n",
       "      <td>0.09</td>\n",
       "      <td>48</td>\n",
       "    </tr>\n",
       "  </tbody>\n",
       "</table>\n",
       "</div>"
      ],
      "text/plain": [
       "      Agency Agency Type      Product Name  Duration Destination  Net Sales  \\\n",
       "1118     SSI    Airlines  Ticket Protector      4784   SINGAPORE       0.32   \n",
       "4157     SSI    Airlines  Ticket Protector      4831   SINGAPORE       0.32   \n",
       "12170    SSI    Airlines  Ticket Protector      4847   SINGAPORE       0.32   \n",
       "\n",
       "       Commision (in value)  Age  \n",
       "1118                   0.09   48  \n",
       "4157                   0.09   48  \n",
       "12170                  0.09   48  "
      ]
     },
     "execution_count": 22,
     "metadata": {},
     "output_type": "execute_result"
    }
   ],
   "source": [
    "df_valid[(df_valid['Age'] <= 50)&(df_valid['Age'] >=16 )& (df_valid['Duration'] > 1095)]"
   ]
  },
  {
   "cell_type": "code",
   "execution_count": 23,
   "metadata": {},
   "outputs": [],
   "source": [
    "df_valid.loc[(df_valid['Age'] <= 50)&(df_valid['Age'] >=16 )& (df_valid['Duration'] > 1095),'Duration'] = 1095"
   ]
  },
  {
   "cell_type": "code",
   "execution_count": 24,
   "metadata": {},
   "outputs": [
    {
     "data": {
      "text/html": [
       "<div>\n",
       "<style scoped>\n",
       "    .dataframe tbody tr th:only-of-type {\n",
       "        vertical-align: middle;\n",
       "    }\n",
       "\n",
       "    .dataframe tbody tr th {\n",
       "        vertical-align: top;\n",
       "    }\n",
       "\n",
       "    .dataframe thead th {\n",
       "        text-align: right;\n",
       "    }\n",
       "</style>\n",
       "<table border=\"1\" class=\"dataframe\">\n",
       "  <thead>\n",
       "    <tr style=\"text-align: right;\">\n",
       "      <th></th>\n",
       "      <th>Agency</th>\n",
       "      <th>Agency Type</th>\n",
       "      <th>Product Name</th>\n",
       "      <th>Duration</th>\n",
       "      <th>Destination</th>\n",
       "      <th>Net Sales</th>\n",
       "      <th>Commision (in value)</th>\n",
       "      <th>Age</th>\n",
       "    </tr>\n",
       "  </thead>\n",
       "  <tbody>\n",
       "    <tr>\n",
       "      <th>1118</th>\n",
       "      <td>SSI</td>\n",
       "      <td>Airlines</td>\n",
       "      <td>Ticket Protector</td>\n",
       "      <td>1095</td>\n",
       "      <td>SINGAPORE</td>\n",
       "      <td>0.32</td>\n",
       "      <td>0.09</td>\n",
       "      <td>48</td>\n",
       "    </tr>\n",
       "    <tr>\n",
       "      <th>4157</th>\n",
       "      <td>SSI</td>\n",
       "      <td>Airlines</td>\n",
       "      <td>Ticket Protector</td>\n",
       "      <td>1095</td>\n",
       "      <td>SINGAPORE</td>\n",
       "      <td>0.32</td>\n",
       "      <td>0.09</td>\n",
       "      <td>48</td>\n",
       "    </tr>\n",
       "    <tr>\n",
       "      <th>12170</th>\n",
       "      <td>SSI</td>\n",
       "      <td>Airlines</td>\n",
       "      <td>Ticket Protector</td>\n",
       "      <td>1095</td>\n",
       "      <td>SINGAPORE</td>\n",
       "      <td>0.32</td>\n",
       "      <td>0.09</td>\n",
       "      <td>48</td>\n",
       "    </tr>\n",
       "  </tbody>\n",
       "</table>\n",
       "</div>"
      ],
      "text/plain": [
       "      Agency Agency Type      Product Name  Duration Destination  Net Sales  \\\n",
       "1118     SSI    Airlines  Ticket Protector      1095   SINGAPORE       0.32   \n",
       "4157     SSI    Airlines  Ticket Protector      1095   SINGAPORE       0.32   \n",
       "12170    SSI    Airlines  Ticket Protector      1095   SINGAPORE       0.32   \n",
       "\n",
       "       Commision (in value)  Age  \n",
       "1118                   0.09   48  \n",
       "4157                   0.09   48  \n",
       "12170                  0.09   48  "
      ]
     },
     "execution_count": 24,
     "metadata": {},
     "output_type": "execute_result"
    }
   ],
   "source": [
    "df_valid[(df_valid['Age'] <= 50)&(df_valid['Age'] >=16 )& (df_valid['Duration'] == 1095)]"
   ]
  },
  {
   "cell_type": "code",
   "execution_count": 25,
   "metadata": {},
   "outputs": [
    {
     "data": {
      "text/html": [
       "<div>\n",
       "<style scoped>\n",
       "    .dataframe tbody tr th:only-of-type {\n",
       "        vertical-align: middle;\n",
       "    }\n",
       "\n",
       "    .dataframe tbody tr th {\n",
       "        vertical-align: top;\n",
       "    }\n",
       "\n",
       "    .dataframe thead th {\n",
       "        text-align: right;\n",
       "    }\n",
       "</style>\n",
       "<table border=\"1\" class=\"dataframe\">\n",
       "  <thead>\n",
       "    <tr style=\"text-align: right;\">\n",
       "      <th></th>\n",
       "      <th>Agency</th>\n",
       "      <th>Agency Type</th>\n",
       "      <th>Product Name</th>\n",
       "      <th>Claim</th>\n",
       "      <th>Duration</th>\n",
       "      <th>Destination</th>\n",
       "      <th>Net Sales</th>\n",
       "      <th>Commision (in value)</th>\n",
       "      <th>Age</th>\n",
       "    </tr>\n",
       "  </thead>\n",
       "  <tbody>\n",
       "    <tr>\n",
       "      <th>64</th>\n",
       "      <td>C2B</td>\n",
       "      <td>Airlines</td>\n",
       "      <td>Annual Silver Plan</td>\n",
       "      <td>0</td>\n",
       "      <td>386</td>\n",
       "      <td>SINGAPORE</td>\n",
       "      <td>216.0</td>\n",
       "      <td>54.00</td>\n",
       "      <td>53</td>\n",
       "    </tr>\n",
       "    <tr>\n",
       "      <th>156</th>\n",
       "      <td>EPX</td>\n",
       "      <td>Travel Agency</td>\n",
       "      <td>Cancellation Plan</td>\n",
       "      <td>0</td>\n",
       "      <td>219</td>\n",
       "      <td>CANADA</td>\n",
       "      <td>80.0</td>\n",
       "      <td>0.00</td>\n",
       "      <td>54</td>\n",
       "    </tr>\n",
       "    <tr>\n",
       "      <th>192</th>\n",
       "      <td>CWT</td>\n",
       "      <td>Travel Agency</td>\n",
       "      <td>Rental Vehicle Excess Insurance</td>\n",
       "      <td>0</td>\n",
       "      <td>307</td>\n",
       "      <td>NEW ZEALAND</td>\n",
       "      <td>0.0</td>\n",
       "      <td>47.52</td>\n",
       "      <td>55</td>\n",
       "    </tr>\n",
       "    <tr>\n",
       "      <th>367</th>\n",
       "      <td>C2B</td>\n",
       "      <td>Airlines</td>\n",
       "      <td>Annual Gold Plan</td>\n",
       "      <td>0</td>\n",
       "      <td>373</td>\n",
       "      <td>SINGAPORE</td>\n",
       "      <td>0.0</td>\n",
       "      <td>97.34</td>\n",
       "      <td>52</td>\n",
       "    </tr>\n",
       "    <tr>\n",
       "      <th>469</th>\n",
       "      <td>EPX</td>\n",
       "      <td>Travel Agency</td>\n",
       "      <td>2 way Comprehensive Plan</td>\n",
       "      <td>0</td>\n",
       "      <td>208</td>\n",
       "      <td>UNITED STATES</td>\n",
       "      <td>112.0</td>\n",
       "      <td>0.00</td>\n",
       "      <td>54</td>\n",
       "    </tr>\n",
       "  </tbody>\n",
       "</table>\n",
       "</div>"
      ],
      "text/plain": [
       "    Agency    Agency Type                     Product Name  Claim  Duration  \\\n",
       "64     C2B       Airlines               Annual Silver Plan      0       386   \n",
       "156    EPX  Travel Agency                Cancellation Plan      0       219   \n",
       "192    CWT  Travel Agency  Rental Vehicle Excess Insurance      0       307   \n",
       "367    C2B       Airlines                 Annual Gold Plan      0       373   \n",
       "469    EPX  Travel Agency         2 way Comprehensive Plan      0       208   \n",
       "\n",
       "       Destination  Net Sales  Commision (in value)  Age  \n",
       "64       SINGAPORE      216.0                 54.00   53  \n",
       "156         CANADA       80.0                  0.00   54  \n",
       "192    NEW ZEALAND        0.0                 47.52   55  \n",
       "367      SINGAPORE        0.0                 97.34   52  \n",
       "469  UNITED STATES      112.0                  0.00   54  "
      ]
     },
     "execution_count": 25,
     "metadata": {},
     "output_type": "execute_result"
    }
   ],
   "source": [
    "df_train.loc[(df_train['Age'] < 16)&(df_train['Duration'] >183) |(df_train['Age'] >50 )&(df_train['Duration'] >183)].head()"
   ]
  },
  {
   "cell_type": "code",
   "execution_count": 26,
   "metadata": {},
   "outputs": [],
   "source": [
    "df_train.loc[(df_train['Age'] < 16)&(df_train['Duration'] >183) |(df_train['Age'] >50 )&(df_train['Duration'] >183),'Duration'] = 183"
   ]
  },
  {
   "cell_type": "code",
   "execution_count": 27,
   "metadata": {},
   "outputs": [
    {
     "data": {
      "text/html": [
       "<div>\n",
       "<style scoped>\n",
       "    .dataframe tbody tr th:only-of-type {\n",
       "        vertical-align: middle;\n",
       "    }\n",
       "\n",
       "    .dataframe tbody tr th {\n",
       "        vertical-align: top;\n",
       "    }\n",
       "\n",
       "    .dataframe thead th {\n",
       "        text-align: right;\n",
       "    }\n",
       "</style>\n",
       "<table border=\"1\" class=\"dataframe\">\n",
       "  <thead>\n",
       "    <tr style=\"text-align: right;\">\n",
       "      <th></th>\n",
       "      <th>Agency</th>\n",
       "      <th>Agency Type</th>\n",
       "      <th>Product Name</th>\n",
       "      <th>Claim</th>\n",
       "      <th>Duration</th>\n",
       "      <th>Destination</th>\n",
       "      <th>Net Sales</th>\n",
       "      <th>Commision (in value)</th>\n",
       "      <th>Age</th>\n",
       "    </tr>\n",
       "  </thead>\n",
       "  <tbody>\n",
       "    <tr>\n",
       "      <th>64</th>\n",
       "      <td>C2B</td>\n",
       "      <td>Airlines</td>\n",
       "      <td>Annual Silver Plan</td>\n",
       "      <td>0</td>\n",
       "      <td>183</td>\n",
       "      <td>SINGAPORE</td>\n",
       "      <td>216.0</td>\n",
       "      <td>54.00</td>\n",
       "      <td>53</td>\n",
       "    </tr>\n",
       "    <tr>\n",
       "      <th>156</th>\n",
       "      <td>EPX</td>\n",
       "      <td>Travel Agency</td>\n",
       "      <td>Cancellation Plan</td>\n",
       "      <td>0</td>\n",
       "      <td>183</td>\n",
       "      <td>CANADA</td>\n",
       "      <td>80.0</td>\n",
       "      <td>0.00</td>\n",
       "      <td>54</td>\n",
       "    </tr>\n",
       "    <tr>\n",
       "      <th>192</th>\n",
       "      <td>CWT</td>\n",
       "      <td>Travel Agency</td>\n",
       "      <td>Rental Vehicle Excess Insurance</td>\n",
       "      <td>0</td>\n",
       "      <td>183</td>\n",
       "      <td>NEW ZEALAND</td>\n",
       "      <td>0.0</td>\n",
       "      <td>47.52</td>\n",
       "      <td>55</td>\n",
       "    </tr>\n",
       "    <tr>\n",
       "      <th>367</th>\n",
       "      <td>C2B</td>\n",
       "      <td>Airlines</td>\n",
       "      <td>Annual Gold Plan</td>\n",
       "      <td>0</td>\n",
       "      <td>183</td>\n",
       "      <td>SINGAPORE</td>\n",
       "      <td>0.0</td>\n",
       "      <td>97.34</td>\n",
       "      <td>52</td>\n",
       "    </tr>\n",
       "    <tr>\n",
       "      <th>469</th>\n",
       "      <td>EPX</td>\n",
       "      <td>Travel Agency</td>\n",
       "      <td>2 way Comprehensive Plan</td>\n",
       "      <td>0</td>\n",
       "      <td>183</td>\n",
       "      <td>UNITED STATES</td>\n",
       "      <td>112.0</td>\n",
       "      <td>0.00</td>\n",
       "      <td>54</td>\n",
       "    </tr>\n",
       "  </tbody>\n",
       "</table>\n",
       "</div>"
      ],
      "text/plain": [
       "    Agency    Agency Type                     Product Name  Claim  Duration  \\\n",
       "64     C2B       Airlines               Annual Silver Plan      0       183   \n",
       "156    EPX  Travel Agency                Cancellation Plan      0       183   \n",
       "192    CWT  Travel Agency  Rental Vehicle Excess Insurance      0       183   \n",
       "367    C2B       Airlines                 Annual Gold Plan      0       183   \n",
       "469    EPX  Travel Agency         2 way Comprehensive Plan      0       183   \n",
       "\n",
       "       Destination  Net Sales  Commision (in value)  Age  \n",
       "64       SINGAPORE      216.0                 54.00   53  \n",
       "156         CANADA       80.0                  0.00   54  \n",
       "192    NEW ZEALAND        0.0                 47.52   55  \n",
       "367      SINGAPORE        0.0                 97.34   52  \n",
       "469  UNITED STATES      112.0                  0.00   54  "
      ]
     },
     "execution_count": 27,
     "metadata": {},
     "output_type": "execute_result"
    }
   ],
   "source": [
    "df_train.loc[(df_train['Age'] < 16)&(df_train['Duration'] >183) |(df_train['Age'] >50 )&(df_train['Duration'] ==183)].head()"
   ]
  },
  {
   "cell_type": "code",
   "execution_count": 28,
   "metadata": {},
   "outputs": [
    {
     "data": {
      "text/html": [
       "<div>\n",
       "<style scoped>\n",
       "    .dataframe tbody tr th:only-of-type {\n",
       "        vertical-align: middle;\n",
       "    }\n",
       "\n",
       "    .dataframe tbody tr th {\n",
       "        vertical-align: top;\n",
       "    }\n",
       "\n",
       "    .dataframe thead th {\n",
       "        text-align: right;\n",
       "    }\n",
       "</style>\n",
       "<table border=\"1\" class=\"dataframe\">\n",
       "  <thead>\n",
       "    <tr style=\"text-align: right;\">\n",
       "      <th></th>\n",
       "      <th>Agency</th>\n",
       "      <th>Agency Type</th>\n",
       "      <th>Product Name</th>\n",
       "      <th>Duration</th>\n",
       "      <th>Destination</th>\n",
       "      <th>Net Sales</th>\n",
       "      <th>Commision (in value)</th>\n",
       "      <th>Age</th>\n",
       "    </tr>\n",
       "  </thead>\n",
       "  <tbody>\n",
       "    <tr>\n",
       "      <th>32</th>\n",
       "      <td>C2B</td>\n",
       "      <td>Airlines</td>\n",
       "      <td>Annual Silver Plan</td>\n",
       "      <td>365</td>\n",
       "      <td>SINGAPORE</td>\n",
       "      <td>252.85</td>\n",
       "      <td>63.21</td>\n",
       "      <td>61</td>\n",
       "    </tr>\n",
       "    <tr>\n",
       "      <th>50</th>\n",
       "      <td>JZI</td>\n",
       "      <td>Airlines</td>\n",
       "      <td>Value Plan</td>\n",
       "      <td>233</td>\n",
       "      <td>CHINA</td>\n",
       "      <td>45.00</td>\n",
       "      <td>15.75</td>\n",
       "      <td>52</td>\n",
       "    </tr>\n",
       "    <tr>\n",
       "      <th>84</th>\n",
       "      <td>TTW</td>\n",
       "      <td>Travel Agency</td>\n",
       "      <td>Child Comprehensive Plan</td>\n",
       "      <td>369</td>\n",
       "      <td>SINGAPORE</td>\n",
       "      <td>74.00</td>\n",
       "      <td>0.00</td>\n",
       "      <td>9</td>\n",
       "    </tr>\n",
       "    <tr>\n",
       "      <th>111</th>\n",
       "      <td>C2B</td>\n",
       "      <td>Airlines</td>\n",
       "      <td>Annual Silver Plan</td>\n",
       "      <td>375</td>\n",
       "      <td>SINGAPORE</td>\n",
       "      <td>187.85</td>\n",
       "      <td>46.96</td>\n",
       "      <td>67</td>\n",
       "    </tr>\n",
       "    <tr>\n",
       "      <th>114</th>\n",
       "      <td>C2B</td>\n",
       "      <td>Airlines</td>\n",
       "      <td>Annual Silver Plan</td>\n",
       "      <td>365</td>\n",
       "      <td>SINGAPORE</td>\n",
       "      <td>291.75</td>\n",
       "      <td>72.94</td>\n",
       "      <td>60</td>\n",
       "    </tr>\n",
       "  </tbody>\n",
       "</table>\n",
       "</div>"
      ],
      "text/plain": [
       "    Agency    Agency Type              Product Name  Duration Destination  \\\n",
       "32     C2B       Airlines        Annual Silver Plan       365   SINGAPORE   \n",
       "50     JZI       Airlines                Value Plan       233       CHINA   \n",
       "84     TTW  Travel Agency  Child Comprehensive Plan       369   SINGAPORE   \n",
       "111    C2B       Airlines        Annual Silver Plan       375   SINGAPORE   \n",
       "114    C2B       Airlines        Annual Silver Plan       365   SINGAPORE   \n",
       "\n",
       "     Net Sales  Commision (in value)  Age  \n",
       "32      252.85                 63.21   61  \n",
       "50       45.00                 15.75   52  \n",
       "84       74.00                  0.00    9  \n",
       "111     187.85                 46.96   67  \n",
       "114     291.75                 72.94   60  "
      ]
     },
     "execution_count": 28,
     "metadata": {},
     "output_type": "execute_result"
    }
   ],
   "source": [
    "df_valid.loc[(df_valid['Age'] < 16)&(df_valid['Duration'] >183) |(df_valid['Age'] >50 )&(df_valid['Duration'] >183)].head()\n"
   ]
  },
  {
   "cell_type": "code",
   "execution_count": 29,
   "metadata": {},
   "outputs": [],
   "source": [
    "df_valid.loc[(df_valid['Age'] < 16)&(df_valid['Duration'] >183) |(df_valid['Age'] >50 )&(df_valid['Duration'] >183),'Duration'] = 183"
   ]
  },
  {
   "cell_type": "code",
   "execution_count": 30,
   "metadata": {},
   "outputs": [
    {
     "data": {
      "text/html": [
       "<div>\n",
       "<style scoped>\n",
       "    .dataframe tbody tr th:only-of-type {\n",
       "        vertical-align: middle;\n",
       "    }\n",
       "\n",
       "    .dataframe tbody tr th {\n",
       "        vertical-align: top;\n",
       "    }\n",
       "\n",
       "    .dataframe thead th {\n",
       "        text-align: right;\n",
       "    }\n",
       "</style>\n",
       "<table border=\"1\" class=\"dataframe\">\n",
       "  <thead>\n",
       "    <tr style=\"text-align: right;\">\n",
       "      <th></th>\n",
       "      <th>Agency</th>\n",
       "      <th>Agency Type</th>\n",
       "      <th>Product Name</th>\n",
       "      <th>Duration</th>\n",
       "      <th>Destination</th>\n",
       "      <th>Net Sales</th>\n",
       "      <th>Commision (in value)</th>\n",
       "      <th>Age</th>\n",
       "    </tr>\n",
       "  </thead>\n",
       "  <tbody>\n",
       "    <tr>\n",
       "      <th>32</th>\n",
       "      <td>C2B</td>\n",
       "      <td>Airlines</td>\n",
       "      <td>Annual Silver Plan</td>\n",
       "      <td>183</td>\n",
       "      <td>SINGAPORE</td>\n",
       "      <td>252.85</td>\n",
       "      <td>63.21</td>\n",
       "      <td>61</td>\n",
       "    </tr>\n",
       "    <tr>\n",
       "      <th>50</th>\n",
       "      <td>JZI</td>\n",
       "      <td>Airlines</td>\n",
       "      <td>Value Plan</td>\n",
       "      <td>183</td>\n",
       "      <td>CHINA</td>\n",
       "      <td>45.00</td>\n",
       "      <td>15.75</td>\n",
       "      <td>52</td>\n",
       "    </tr>\n",
       "    <tr>\n",
       "      <th>111</th>\n",
       "      <td>C2B</td>\n",
       "      <td>Airlines</td>\n",
       "      <td>Annual Silver Plan</td>\n",
       "      <td>183</td>\n",
       "      <td>SINGAPORE</td>\n",
       "      <td>187.85</td>\n",
       "      <td>46.96</td>\n",
       "      <td>67</td>\n",
       "    </tr>\n",
       "    <tr>\n",
       "      <th>114</th>\n",
       "      <td>C2B</td>\n",
       "      <td>Airlines</td>\n",
       "      <td>Annual Silver Plan</td>\n",
       "      <td>183</td>\n",
       "      <td>SINGAPORE</td>\n",
       "      <td>291.75</td>\n",
       "      <td>72.94</td>\n",
       "      <td>60</td>\n",
       "    </tr>\n",
       "    <tr>\n",
       "      <th>128</th>\n",
       "      <td>JZI</td>\n",
       "      <td>Airlines</td>\n",
       "      <td>Basic Plan</td>\n",
       "      <td>183</td>\n",
       "      <td>CHINA</td>\n",
       "      <td>44.00</td>\n",
       "      <td>15.40</td>\n",
       "      <td>53</td>\n",
       "    </tr>\n",
       "  </tbody>\n",
       "</table>\n",
       "</div>"
      ],
      "text/plain": [
       "    Agency Agency Type        Product Name  Duration Destination  Net Sales  \\\n",
       "32     C2B    Airlines  Annual Silver Plan       183   SINGAPORE     252.85   \n",
       "50     JZI    Airlines          Value Plan       183       CHINA      45.00   \n",
       "111    C2B    Airlines  Annual Silver Plan       183   SINGAPORE     187.85   \n",
       "114    C2B    Airlines  Annual Silver Plan       183   SINGAPORE     291.75   \n",
       "128    JZI    Airlines          Basic Plan       183       CHINA      44.00   \n",
       "\n",
       "     Commision (in value)  Age  \n",
       "32                  63.21   61  \n",
       "50                  15.75   52  \n",
       "111                 46.96   67  \n",
       "114                 72.94   60  \n",
       "128                 15.40   53  "
      ]
     },
     "execution_count": 30,
     "metadata": {},
     "output_type": "execute_result"
    }
   ],
   "source": [
    "df_valid.loc[(df_valid['Age'] < 16)&(df_valid['Duration'] >183) |(df_valid['Age'] >50 )&(df_valid['Duration'] ==183)].head()"
   ]
  },
  {
   "cell_type": "code",
   "execution_count": 31,
   "metadata": {},
   "outputs": [
    {
     "data": {
      "text/html": [
       "<div>\n",
       "<style scoped>\n",
       "    .dataframe tbody tr th:only-of-type {\n",
       "        vertical-align: middle;\n",
       "    }\n",
       "\n",
       "    .dataframe tbody tr th {\n",
       "        vertical-align: top;\n",
       "    }\n",
       "\n",
       "    .dataframe thead th {\n",
       "        text-align: right;\n",
       "    }\n",
       "</style>\n",
       "<table border=\"1\" class=\"dataframe\">\n",
       "  <thead>\n",
       "    <tr style=\"text-align: right;\">\n",
       "      <th></th>\n",
       "      <th>Agency</th>\n",
       "      <th>Agency Type</th>\n",
       "      <th>Product Name</th>\n",
       "      <th>Claim</th>\n",
       "      <th>Duration</th>\n",
       "      <th>Destination</th>\n",
       "      <th>Net Sales</th>\n",
       "      <th>Commision (in value)</th>\n",
       "      <th>Age</th>\n",
       "    </tr>\n",
       "  </thead>\n",
       "  <tbody>\n",
       "    <tr>\n",
       "      <th>6597</th>\n",
       "      <td>EPX</td>\n",
       "      <td>Travel Agency</td>\n",
       "      <td>Cancellation Plan</td>\n",
       "      <td>1</td>\n",
       "      <td>28</td>\n",
       "      <td>SPAIN</td>\n",
       "      <td>-10.0</td>\n",
       "      <td>0.0</td>\n",
       "      <td>36</td>\n",
       "    </tr>\n",
       "    <tr>\n",
       "      <th>26666</th>\n",
       "      <td>JZI</td>\n",
       "      <td>Airlines</td>\n",
       "      <td>Basic Plan</td>\n",
       "      <td>1</td>\n",
       "      <td>3</td>\n",
       "      <td>HONG KONG</td>\n",
       "      <td>-22.0</td>\n",
       "      <td>7.7</td>\n",
       "      <td>59</td>\n",
       "    </tr>\n",
       "    <tr>\n",
       "      <th>30272</th>\n",
       "      <td>EPX</td>\n",
       "      <td>Travel Agency</td>\n",
       "      <td>2 way Comprehensive Plan</td>\n",
       "      <td>1</td>\n",
       "      <td>128</td>\n",
       "      <td>KOREA, REPUBLIC OF</td>\n",
       "      <td>-37.0</td>\n",
       "      <td>0.0</td>\n",
       "      <td>36</td>\n",
       "    </tr>\n",
       "  </tbody>\n",
       "</table>\n",
       "</div>"
      ],
      "text/plain": [
       "      Agency    Agency Type              Product Name  Claim  Duration  \\\n",
       "6597     EPX  Travel Agency         Cancellation Plan      1        28   \n",
       "26666    JZI       Airlines                Basic Plan      1         3   \n",
       "30272    EPX  Travel Agency  2 way Comprehensive Plan      1       128   \n",
       "\n",
       "              Destination  Net Sales  Commision (in value)  Age  \n",
       "6597                SPAIN      -10.0                   0.0   36  \n",
       "26666           HONG KONG      -22.0                   7.7   59  \n",
       "30272  KOREA, REPUBLIC OF      -37.0                   0.0   36  "
      ]
     },
     "execution_count": 31,
     "metadata": {},
     "output_type": "execute_result"
    }
   ],
   "source": [
    "df_train[(df_train['Net Sales'] <=0) & (df_train['Claim'] ==1)]"
   ]
  },
  {
   "cell_type": "code",
   "execution_count": 32,
   "metadata": {},
   "outputs": [],
   "source": [
    "df_train.loc[(df_train['Net Sales'] <=0) & (df_train['Claim'] ==1), 'Net Sales'] = abs(df_train.loc[(df_train['Net Sales'] <=0) & (df_train['Claim'] ==1), 'Net Sales']) "
   ]
  },
  {
   "cell_type": "code",
   "execution_count": 33,
   "metadata": {},
   "outputs": [
    {
     "data": {
      "text/html": [
       "<div>\n",
       "<style scoped>\n",
       "    .dataframe tbody tr th:only-of-type {\n",
       "        vertical-align: middle;\n",
       "    }\n",
       "\n",
       "    .dataframe tbody tr th {\n",
       "        vertical-align: top;\n",
       "    }\n",
       "\n",
       "    .dataframe thead th {\n",
       "        text-align: right;\n",
       "    }\n",
       "</style>\n",
       "<table border=\"1\" class=\"dataframe\">\n",
       "  <thead>\n",
       "    <tr style=\"text-align: right;\">\n",
       "      <th></th>\n",
       "      <th>Agency</th>\n",
       "      <th>Agency Type</th>\n",
       "      <th>Product Name</th>\n",
       "      <th>Claim</th>\n",
       "      <th>Duration</th>\n",
       "      <th>Destination</th>\n",
       "      <th>Net Sales</th>\n",
       "      <th>Commision (in value)</th>\n",
       "      <th>Age</th>\n",
       "    </tr>\n",
       "  </thead>\n",
       "  <tbody>\n",
       "  </tbody>\n",
       "</table>\n",
       "</div>"
      ],
      "text/plain": [
       "Empty DataFrame\n",
       "Columns: [Agency, Agency Type, Product Name, Claim, Duration, Destination, Net Sales, Commision (in value), Age]\n",
       "Index: []"
      ]
     },
     "execution_count": 33,
     "metadata": {},
     "output_type": "execute_result"
    }
   ],
   "source": [
    "df_train[(df_train['Net Sales'] <=0) & (df_train['Claim'] ==1)]"
   ]
  },
  {
   "cell_type": "code",
   "execution_count": 34,
   "metadata": {},
   "outputs": [
    {
     "data": {
      "text/html": [
       "<div>\n",
       "<style scoped>\n",
       "    .dataframe tbody tr th:only-of-type {\n",
       "        vertical-align: middle;\n",
       "    }\n",
       "\n",
       "    .dataframe tbody tr th {\n",
       "        vertical-align: top;\n",
       "    }\n",
       "\n",
       "    .dataframe thead th {\n",
       "        text-align: right;\n",
       "    }\n",
       "</style>\n",
       "<table border=\"1\" class=\"dataframe\">\n",
       "  <thead>\n",
       "    <tr style=\"text-align: right;\">\n",
       "      <th></th>\n",
       "      <th>Agency</th>\n",
       "      <th>Agency Type</th>\n",
       "      <th>Product Name</th>\n",
       "      <th>Claim</th>\n",
       "      <th>Duration</th>\n",
       "      <th>Destination</th>\n",
       "      <th>Net Sales</th>\n",
       "      <th>Commision (in value)</th>\n",
       "      <th>Age</th>\n",
       "    </tr>\n",
       "  </thead>\n",
       "  <tbody>\n",
       "    <tr>\n",
       "      <th>90</th>\n",
       "      <td>JWT</td>\n",
       "      <td>Airlines</td>\n",
       "      <td>Value Plan</td>\n",
       "      <td>0</td>\n",
       "      <td>58</td>\n",
       "      <td>INDIA</td>\n",
       "      <td>78.0</td>\n",
       "      <td>31.2</td>\n",
       "      <td>118</td>\n",
       "    </tr>\n",
       "    <tr>\n",
       "      <th>108</th>\n",
       "      <td>JWT</td>\n",
       "      <td>Airlines</td>\n",
       "      <td>Value Plan</td>\n",
       "      <td>0</td>\n",
       "      <td>15</td>\n",
       "      <td>INDIA</td>\n",
       "      <td>31.0</td>\n",
       "      <td>12.4</td>\n",
       "      <td>118</td>\n",
       "    </tr>\n",
       "    <tr>\n",
       "      <th>140</th>\n",
       "      <td>JWT</td>\n",
       "      <td>Airlines</td>\n",
       "      <td>Value Plan</td>\n",
       "      <td>0</td>\n",
       "      <td>8</td>\n",
       "      <td>INDIA</td>\n",
       "      <td>39.0</td>\n",
       "      <td>15.6</td>\n",
       "      <td>118</td>\n",
       "    </tr>\n",
       "    <tr>\n",
       "      <th>153</th>\n",
       "      <td>JWT</td>\n",
       "      <td>Airlines</td>\n",
       "      <td>Value Plan</td>\n",
       "      <td>0</td>\n",
       "      <td>4</td>\n",
       "      <td>INDIA</td>\n",
       "      <td>78.0</td>\n",
       "      <td>31.2</td>\n",
       "      <td>118</td>\n",
       "    </tr>\n",
       "    <tr>\n",
       "      <th>181</th>\n",
       "      <td>JWT</td>\n",
       "      <td>Airlines</td>\n",
       "      <td>Value Plan</td>\n",
       "      <td>0</td>\n",
       "      <td>0</td>\n",
       "      <td>INDIA</td>\n",
       "      <td>31.0</td>\n",
       "      <td>12.4</td>\n",
       "      <td>118</td>\n",
       "    </tr>\n",
       "  </tbody>\n",
       "</table>\n",
       "</div>"
      ],
      "text/plain": [
       "    Agency Agency Type Product Name  Claim  Duration Destination  Net Sales  \\\n",
       "90     JWT    Airlines   Value Plan      0        58       INDIA       78.0   \n",
       "108    JWT    Airlines   Value Plan      0        15       INDIA       31.0   \n",
       "140    JWT    Airlines   Value Plan      0         8       INDIA       39.0   \n",
       "153    JWT    Airlines   Value Plan      0         4       INDIA       78.0   \n",
       "181    JWT    Airlines   Value Plan      0         0       INDIA       31.0   \n",
       "\n",
       "     Commision (in value)  Age  \n",
       "90                   31.2  118  \n",
       "108                  12.4  118  \n",
       "140                  15.6  118  \n",
       "153                  31.2  118  \n",
       "181                  12.4  118  "
      ]
     },
     "execution_count": 34,
     "metadata": {},
     "output_type": "execute_result"
    }
   ],
   "source": [
    "df_train[df_train['Age']>99].head()"
   ]
  },
  {
   "cell_type": "code",
   "execution_count": 35,
   "metadata": {},
   "outputs": [],
   "source": [
    "df_train.loc[(df_train['Age']>99),'Age'] = 99"
   ]
  },
  {
   "cell_type": "code",
   "execution_count": 36,
   "metadata": {},
   "outputs": [
    {
     "data": {
      "text/html": [
       "<div>\n",
       "<style scoped>\n",
       "    .dataframe tbody tr th:only-of-type {\n",
       "        vertical-align: middle;\n",
       "    }\n",
       "\n",
       "    .dataframe tbody tr th {\n",
       "        vertical-align: top;\n",
       "    }\n",
       "\n",
       "    .dataframe thead th {\n",
       "        text-align: right;\n",
       "    }\n",
       "</style>\n",
       "<table border=\"1\" class=\"dataframe\">\n",
       "  <thead>\n",
       "    <tr style=\"text-align: right;\">\n",
       "      <th></th>\n",
       "      <th>Agency</th>\n",
       "      <th>Agency Type</th>\n",
       "      <th>Product Name</th>\n",
       "      <th>Claim</th>\n",
       "      <th>Duration</th>\n",
       "      <th>Destination</th>\n",
       "      <th>Net Sales</th>\n",
       "      <th>Commision (in value)</th>\n",
       "      <th>Age</th>\n",
       "    </tr>\n",
       "  </thead>\n",
       "  <tbody>\n",
       "    <tr>\n",
       "      <th>90</th>\n",
       "      <td>JWT</td>\n",
       "      <td>Airlines</td>\n",
       "      <td>Value Plan</td>\n",
       "      <td>0</td>\n",
       "      <td>58</td>\n",
       "      <td>INDIA</td>\n",
       "      <td>78.0</td>\n",
       "      <td>31.2</td>\n",
       "      <td>99</td>\n",
       "    </tr>\n",
       "    <tr>\n",
       "      <th>108</th>\n",
       "      <td>JWT</td>\n",
       "      <td>Airlines</td>\n",
       "      <td>Value Plan</td>\n",
       "      <td>0</td>\n",
       "      <td>15</td>\n",
       "      <td>INDIA</td>\n",
       "      <td>31.0</td>\n",
       "      <td>12.4</td>\n",
       "      <td>99</td>\n",
       "    </tr>\n",
       "    <tr>\n",
       "      <th>140</th>\n",
       "      <td>JWT</td>\n",
       "      <td>Airlines</td>\n",
       "      <td>Value Plan</td>\n",
       "      <td>0</td>\n",
       "      <td>8</td>\n",
       "      <td>INDIA</td>\n",
       "      <td>39.0</td>\n",
       "      <td>15.6</td>\n",
       "      <td>99</td>\n",
       "    </tr>\n",
       "    <tr>\n",
       "      <th>153</th>\n",
       "      <td>JWT</td>\n",
       "      <td>Airlines</td>\n",
       "      <td>Value Plan</td>\n",
       "      <td>0</td>\n",
       "      <td>4</td>\n",
       "      <td>INDIA</td>\n",
       "      <td>78.0</td>\n",
       "      <td>31.2</td>\n",
       "      <td>99</td>\n",
       "    </tr>\n",
       "    <tr>\n",
       "      <th>181</th>\n",
       "      <td>JWT</td>\n",
       "      <td>Airlines</td>\n",
       "      <td>Value Plan</td>\n",
       "      <td>0</td>\n",
       "      <td>0</td>\n",
       "      <td>INDIA</td>\n",
       "      <td>31.0</td>\n",
       "      <td>12.4</td>\n",
       "      <td>99</td>\n",
       "    </tr>\n",
       "  </tbody>\n",
       "</table>\n",
       "</div>"
      ],
      "text/plain": [
       "    Agency Agency Type Product Name  Claim  Duration Destination  Net Sales  \\\n",
       "90     JWT    Airlines   Value Plan      0        58       INDIA       78.0   \n",
       "108    JWT    Airlines   Value Plan      0        15       INDIA       31.0   \n",
       "140    JWT    Airlines   Value Plan      0         8       INDIA       39.0   \n",
       "153    JWT    Airlines   Value Plan      0         4       INDIA       78.0   \n",
       "181    JWT    Airlines   Value Plan      0         0       INDIA       31.0   \n",
       "\n",
       "     Commision (in value)  Age  \n",
       "90                   31.2   99  \n",
       "108                  12.4   99  \n",
       "140                  15.6   99  \n",
       "153                  31.2   99  \n",
       "181                  12.4   99  "
      ]
     },
     "execution_count": 36,
     "metadata": {},
     "output_type": "execute_result"
    }
   ],
   "source": [
    "df_train[df_train['Age']==99].head()"
   ]
  },
  {
   "cell_type": "code",
   "execution_count": 37,
   "metadata": {},
   "outputs": [
    {
     "data": {
      "text/html": [
       "<div>\n",
       "<style scoped>\n",
       "    .dataframe tbody tr th:only-of-type {\n",
       "        vertical-align: middle;\n",
       "    }\n",
       "\n",
       "    .dataframe tbody tr th {\n",
       "        vertical-align: top;\n",
       "    }\n",
       "\n",
       "    .dataframe thead th {\n",
       "        text-align: right;\n",
       "    }\n",
       "</style>\n",
       "<table border=\"1\" class=\"dataframe\">\n",
       "  <thead>\n",
       "    <tr style=\"text-align: right;\">\n",
       "      <th></th>\n",
       "      <th>Agency</th>\n",
       "      <th>Agency Type</th>\n",
       "      <th>Product Name</th>\n",
       "      <th>Claim</th>\n",
       "      <th>Duration</th>\n",
       "      <th>Destination</th>\n",
       "      <th>Net Sales</th>\n",
       "      <th>Commision (in value)</th>\n",
       "      <th>Age</th>\n",
       "    </tr>\n",
       "  </thead>\n",
       "  <tbody>\n",
       "  </tbody>\n",
       "</table>\n",
       "</div>"
      ],
      "text/plain": [
       "Empty DataFrame\n",
       "Columns: [Agency, Agency Type, Product Name, Claim, Duration, Destination, Net Sales, Commision (in value), Age]\n",
       "Index: []"
      ]
     },
     "execution_count": 37,
     "metadata": {},
     "output_type": "execute_result"
    }
   ],
   "source": [
    "df_train[(df_train['Duration']==0)&(df_train['Claim']==1)]"
   ]
  },
  {
   "cell_type": "code",
   "execution_count": 38,
   "metadata": {},
   "outputs": [],
   "source": [
    "#df_train[df_train.drop('ID',1).duplicated(keep='first') == False].count()\n",
    "df_train = df_train.drop_duplicates(keep= 'first')#.count()"
   ]
  },
  {
   "cell_type": "code",
   "execution_count": 39,
   "metadata": {},
   "outputs": [
    {
     "name": "stdout",
     "output_type": "stream",
     "text": [
      "<class 'pandas.core.frame.DataFrame'>\n",
      "Int64Index: 44338 entries, 0 to 50552\n",
      "Data columns (total 9 columns):\n",
      "Agency                  44338 non-null object\n",
      "Agency Type             44338 non-null object\n",
      "Product Name            44338 non-null object\n",
      "Claim                   44338 non-null int64\n",
      "Duration                44338 non-null int64\n",
      "Destination             44338 non-null object\n",
      "Net Sales               44338 non-null float64\n",
      "Commision (in value)    44338 non-null float64\n",
      "Age                     44338 non-null int64\n",
      "dtypes: float64(2), int64(3), object(4)\n",
      "memory usage: 3.4+ MB\n"
     ]
    }
   ],
   "source": [
    "df_train.info()"
   ]
  },
  {
   "cell_type": "code",
   "execution_count": 40,
   "metadata": {},
   "outputs": [
    {
     "data": {
      "text/plain": [
       "Agency          category\n",
       "Agency Type     category\n",
       "Product Name    category\n",
       "Destination     category\n",
       "dtype: object"
      ]
     },
     "execution_count": 40,
     "metadata": {},
     "output_type": "execute_result"
    }
   ],
   "source": [
    "cols_con = df_train.select_dtypes(['int64','float64']).drop('Claim',1)\n",
    "cols_non_con = df_train.select_dtypes(['object'])\n",
    "cols_non_con = cols_non_con.astype('category')\n",
    "cols_non_con.dtypes"
   ]
  },
  {
   "cell_type": "code",
   "execution_count": 41,
   "metadata": {},
   "outputs": [
    {
     "data": {
      "text/plain": [
       "Agency          category\n",
       "Agency Type     category\n",
       "Product Name    category\n",
       "Destination     category\n",
       "dtype: object"
      ]
     },
     "execution_count": 41,
     "metadata": {},
     "output_type": "execute_result"
    }
   ],
   "source": [
    "cols_con_valid = df_valid.select_dtypes(['int64','float64'])#.columns\n",
    "cols_non_con_valid = df_valid.select_dtypes(['object'])#.columns\n",
    "cols_non_con_valid = cols_non_con_valid.astype('category')\n",
    "cols_non_con_valid.dtypes"
   ]
  },
  {
   "cell_type": "code",
   "execution_count": 42,
   "metadata": {},
   "outputs": [],
   "source": [
    "label_cols = pd.DataFrame()\n",
    "label = LabelEncoder()\n",
    "for k in cols_non_con.columns:\n",
    "    label_cols[k] = label.fit_transform(cols_non_con[k])"
   ]
  },
  {
   "cell_type": "code",
   "execution_count": 43,
   "metadata": {},
   "outputs": [],
   "source": [
    "train_new = pd.concat([cols_con,label_cols],1)"
   ]
  },
  {
   "cell_type": "code",
   "execution_count": 44,
   "metadata": {},
   "outputs": [
    {
     "data": {
      "text/html": [
       "<div>\n",
       "<style scoped>\n",
       "    .dataframe tbody tr th:only-of-type {\n",
       "        vertical-align: middle;\n",
       "    }\n",
       "\n",
       "    .dataframe tbody tr th {\n",
       "        vertical-align: top;\n",
       "    }\n",
       "\n",
       "    .dataframe thead th {\n",
       "        text-align: right;\n",
       "    }\n",
       "</style>\n",
       "<table border=\"1\" class=\"dataframe\">\n",
       "  <thead>\n",
       "    <tr style=\"text-align: right;\">\n",
       "      <th></th>\n",
       "      <th>Duration</th>\n",
       "      <th>Net Sales</th>\n",
       "      <th>Commision (in value)</th>\n",
       "      <th>Age</th>\n",
       "      <th>Agency</th>\n",
       "      <th>Agency Type</th>\n",
       "      <th>Product Name</th>\n",
       "      <th>Destination</th>\n",
       "    </tr>\n",
       "  </thead>\n",
       "  <tbody>\n",
       "    <tr>\n",
       "      <th>0</th>\n",
       "      <td>7.0</td>\n",
       "      <td>0.0</td>\n",
       "      <td>17.82</td>\n",
       "      <td>31.0</td>\n",
       "      <td>6.0</td>\n",
       "      <td>1.0</td>\n",
       "      <td>16.0</td>\n",
       "      <td>56.0</td>\n",
       "    </tr>\n",
       "    <tr>\n",
       "      <th>1</th>\n",
       "      <td>85.0</td>\n",
       "      <td>69.0</td>\n",
       "      <td>0.00</td>\n",
       "      <td>36.0</td>\n",
       "      <td>7.0</td>\n",
       "      <td>1.0</td>\n",
       "      <td>10.0</td>\n",
       "      <td>79.0</td>\n",
       "    </tr>\n",
       "    <tr>\n",
       "      <th>2</th>\n",
       "      <td>11.0</td>\n",
       "      <td>19.8</td>\n",
       "      <td>11.88</td>\n",
       "      <td>75.0</td>\n",
       "      <td>6.0</td>\n",
       "      <td>1.0</td>\n",
       "      <td>16.0</td>\n",
       "      <td>56.0</td>\n",
       "    </tr>\n",
       "    <tr>\n",
       "      <th>3</th>\n",
       "      <td>16.0</td>\n",
       "      <td>20.0</td>\n",
       "      <td>0.00</td>\n",
       "      <td>32.0</td>\n",
       "      <td>7.0</td>\n",
       "      <td>1.0</td>\n",
       "      <td>1.0</td>\n",
       "      <td>38.0</td>\n",
       "    </tr>\n",
       "    <tr>\n",
       "      <th>4</th>\n",
       "      <td>10.0</td>\n",
       "      <td>15.0</td>\n",
       "      <td>0.00</td>\n",
       "      <td>29.0</td>\n",
       "      <td>7.0</td>\n",
       "      <td>1.0</td>\n",
       "      <td>10.0</td>\n",
       "      <td>47.0</td>\n",
       "    </tr>\n",
       "  </tbody>\n",
       "</table>\n",
       "</div>"
      ],
      "text/plain": [
       "   Duration  Net Sales  Commision (in value)   Age  Agency  Agency Type  \\\n",
       "0       7.0        0.0                 17.82  31.0     6.0          1.0   \n",
       "1      85.0       69.0                  0.00  36.0     7.0          1.0   \n",
       "2      11.0       19.8                 11.88  75.0     6.0          1.0   \n",
       "3      16.0       20.0                  0.00  32.0     7.0          1.0   \n",
       "4      10.0       15.0                  0.00  29.0     7.0          1.0   \n",
       "\n",
       "   Product Name  Destination  \n",
       "0          16.0         56.0  \n",
       "1          10.0         79.0  \n",
       "2          16.0         56.0  \n",
       "3           1.0         38.0  \n",
       "4          10.0         47.0  "
      ]
     },
     "execution_count": 44,
     "metadata": {},
     "output_type": "execute_result"
    }
   ],
   "source": [
    "train_new.head()"
   ]
  },
  {
   "cell_type": "code",
   "execution_count": 45,
   "metadata": {},
   "outputs": [
    {
     "data": {
      "text/plain": [
       "<matplotlib.axes._subplots.AxesSubplot at 0x254784ab0f0>"
      ]
     },
     "execution_count": 45,
     "metadata": {},
     "output_type": "execute_result"
    },
    {
     "data": {
      "image/png": "[encoded data removed]",
      "text/plain": [
       "<Figure size 1080x576 with 2 Axes>"
      ]
     },
     "metadata": {
      "needs_background": "light"
     },
     "output_type": "display_data"
    }
   ],
   "source": [
    "plt.figure(figsize=(15,8))\n",
    "sns.heatmap(train_new.corr(),annot=True)"
   ]
  },
  {
   "cell_type": "code",
   "execution_count": 46,
   "metadata": {},
   "outputs": [
    {
     "data": {
      "text/plain": [
       "Series([], dtype: float64)"
      ]
     },
     "execution_count": 46,
     "metadata": {},
     "output_type": "execute_result"
    }
   ],
   "source": [
    "correlation = train_new.corr().unstack()\n",
    "correlation[(abs(correlation)>0.75) & (abs(correlation) != 1)]"
   ]
  },
  {
   "cell_type": "code",
   "execution_count": 47,
   "metadata": {},
   "outputs": [],
   "source": [
    "cols_non_con = pd.get_dummies(cols_non_con)\n",
    "cols_non_con_valid = pd.get_dummies(cols_non_con_valid)"
   ]
  },
  {
   "cell_type": "code",
   "execution_count": 48,
   "metadata": {},
   "outputs": [
    {
     "data": {
      "text/html": [
       "<div>\n",
       "<style scoped>\n",
       "    .dataframe tbody tr th:only-of-type {\n",
       "        vertical-align: middle;\n",
       "    }\n",
       "\n",
       "    .dataframe tbody tr th {\n",
       "        vertical-align: top;\n",
       "    }\n",
       "\n",
       "    .dataframe thead th {\n",
       "        text-align: right;\n",
       "    }\n",
       "</style>\n",
       "<table border=\"1\" class=\"dataframe\">\n",
       "  <thead>\n",
       "    <tr style=\"text-align: right;\">\n",
       "      <th></th>\n",
       "      <th>Agency_ADM</th>\n",
       "      <th>Agency_ART</th>\n",
       "      <th>Agency_C2B</th>\n",
       "      <th>Agency_CBH</th>\n",
       "      <th>Agency_CCR</th>\n",
       "      <th>Agency_CSR</th>\n",
       "      <th>Agency_CWT</th>\n",
       "      <th>Agency_EPX</th>\n",
       "      <th>Agency_JWT</th>\n",
       "      <th>Agency_JZI</th>\n",
       "      <th>...</th>\n",
       "      <th>Destination_UGANDA</th>\n",
       "      <th>Destination_UKRAINE</th>\n",
       "      <th>Destination_UNITED ARAB EMIRATES</th>\n",
       "      <th>Destination_UNITED KINGDOM</th>\n",
       "      <th>Destination_UNITED STATES</th>\n",
       "      <th>Destination_UZBEKISTAN</th>\n",
       "      <th>Destination_VANUATU</th>\n",
       "      <th>Destination_VENEZUELA</th>\n",
       "      <th>Destination_VIET NAM</th>\n",
       "      <th>Destination_ZAMBIA</th>\n",
       "    </tr>\n",
       "  </thead>\n",
       "  <tbody>\n",
       "    <tr>\n",
       "      <th>0</th>\n",
       "      <td>0</td>\n",
       "      <td>0</td>\n",
       "      <td>0</td>\n",
       "      <td>0</td>\n",
       "      <td>0</td>\n",
       "      <td>0</td>\n",
       "      <td>1</td>\n",
       "      <td>0</td>\n",
       "      <td>0</td>\n",
       "      <td>0</td>\n",
       "      <td>...</td>\n",
       "      <td>0</td>\n",
       "      <td>0</td>\n",
       "      <td>0</td>\n",
       "      <td>0</td>\n",
       "      <td>0</td>\n",
       "      <td>0</td>\n",
       "      <td>0</td>\n",
       "      <td>0</td>\n",
       "      <td>0</td>\n",
       "      <td>0</td>\n",
       "    </tr>\n",
       "    <tr>\n",
       "      <th>1</th>\n",
       "      <td>0</td>\n",
       "      <td>0</td>\n",
       "      <td>0</td>\n",
       "      <td>0</td>\n",
       "      <td>0</td>\n",
       "      <td>0</td>\n",
       "      <td>0</td>\n",
       "      <td>1</td>\n",
       "      <td>0</td>\n",
       "      <td>0</td>\n",
       "      <td>...</td>\n",
       "      <td>0</td>\n",
       "      <td>0</td>\n",
       "      <td>0</td>\n",
       "      <td>0</td>\n",
       "      <td>0</td>\n",
       "      <td>0</td>\n",
       "      <td>0</td>\n",
       "      <td>0</td>\n",
       "      <td>0</td>\n",
       "      <td>0</td>\n",
       "    </tr>\n",
       "    <tr>\n",
       "      <th>2</th>\n",
       "      <td>0</td>\n",
       "      <td>0</td>\n",
       "      <td>0</td>\n",
       "      <td>0</td>\n",
       "      <td>0</td>\n",
       "      <td>0</td>\n",
       "      <td>1</td>\n",
       "      <td>0</td>\n",
       "      <td>0</td>\n",
       "      <td>0</td>\n",
       "      <td>...</td>\n",
       "      <td>0</td>\n",
       "      <td>0</td>\n",
       "      <td>0</td>\n",
       "      <td>0</td>\n",
       "      <td>0</td>\n",
       "      <td>0</td>\n",
       "      <td>0</td>\n",
       "      <td>0</td>\n",
       "      <td>0</td>\n",
       "      <td>0</td>\n",
       "    </tr>\n",
       "    <tr>\n",
       "      <th>3</th>\n",
       "      <td>0</td>\n",
       "      <td>0</td>\n",
       "      <td>0</td>\n",
       "      <td>0</td>\n",
       "      <td>0</td>\n",
       "      <td>0</td>\n",
       "      <td>0</td>\n",
       "      <td>1</td>\n",
       "      <td>0</td>\n",
       "      <td>0</td>\n",
       "      <td>...</td>\n",
       "      <td>0</td>\n",
       "      <td>0</td>\n",
       "      <td>0</td>\n",
       "      <td>0</td>\n",
       "      <td>0</td>\n",
       "      <td>0</td>\n",
       "      <td>0</td>\n",
       "      <td>0</td>\n",
       "      <td>0</td>\n",
       "      <td>0</td>\n",
       "    </tr>\n",
       "    <tr>\n",
       "      <th>4</th>\n",
       "      <td>0</td>\n",
       "      <td>0</td>\n",
       "      <td>0</td>\n",
       "      <td>0</td>\n",
       "      <td>0</td>\n",
       "      <td>0</td>\n",
       "      <td>0</td>\n",
       "      <td>1</td>\n",
       "      <td>0</td>\n",
       "      <td>0</td>\n",
       "      <td>...</td>\n",
       "      <td>0</td>\n",
       "      <td>0</td>\n",
       "      <td>0</td>\n",
       "      <td>0</td>\n",
       "      <td>0</td>\n",
       "      <td>0</td>\n",
       "      <td>0</td>\n",
       "      <td>0</td>\n",
       "      <td>0</td>\n",
       "      <td>0</td>\n",
       "    </tr>\n",
       "  </tbody>\n",
       "</table>\n",
       "<p>5 rows × 145 columns</p>\n",
       "</div>"
      ],
      "text/plain": [
       "   Agency_ADM  Agency_ART  Agency_C2B  Agency_CBH  Agency_CCR  Agency_CSR  \\\n",
       "0           0           0           0           0           0           0   \n",
       "1           0           0           0           0           0           0   \n",
       "2           0           0           0           0           0           0   \n",
       "3           0           0           0           0           0           0   \n",
       "4           0           0           0           0           0           0   \n",
       "\n",
       "   Agency_CWT  Agency_EPX  Agency_JWT  Agency_JZI  ...  Destination_UGANDA  \\\n",
       "0           1           0           0           0  ...                   0   \n",
       "1           0           1           0           0  ...                   0   \n",
       "2           1           0           0           0  ...                   0   \n",
       "3           0           1           0           0  ...                   0   \n",
       "4           0           1           0           0  ...                   0   \n",
       "\n",
       "   Destination_UKRAINE  Destination_UNITED ARAB EMIRATES  \\\n",
       "0                    0                                 0   \n",
       "1                    0                                 0   \n",
       "2                    0                                 0   \n",
       "3                    0                                 0   \n",
       "4                    0                                 0   \n",
       "\n",
       "   Destination_UNITED KINGDOM  Destination_UNITED STATES  \\\n",
       "0                           0                          0   \n",
       "1                           0                          0   \n",
       "2                           0                          0   \n",
       "3                           0                          0   \n",
       "4                           0                          0   \n",
       "\n",
       "   Destination_UZBEKISTAN  Destination_VANUATU  Destination_VENEZUELA  \\\n",
       "0                       0                    0                      0   \n",
       "1                       0                    0                      0   \n",
       "2                       0                    0                      0   \n",
       "3                       0                    0                      0   \n",
       "4                       0                    0                      0   \n",
       "\n",
       "   Destination_VIET NAM  Destination_ZAMBIA  \n",
       "0                     0                   0  \n",
       "1                     0                   0  \n",
       "2                     0                   0  \n",
       "3                     0                   0  \n",
       "4                     0                   0  \n",
       "\n",
       "[5 rows x 145 columns]"
      ]
     },
     "execution_count": 48,
     "metadata": {},
     "output_type": "execute_result"
    }
   ],
   "source": [
    "cols_non_con.head()"
   ]
  },
  {
   "cell_type": "code",
   "execution_count": 49,
   "metadata": {},
   "outputs": [
    {
     "data": {
      "text/html": [
       "<div>\n",
       "<style scoped>\n",
       "    .dataframe tbody tr th:only-of-type {\n",
       "        vertical-align: middle;\n",
       "    }\n",
       "\n",
       "    .dataframe tbody tr th {\n",
       "        vertical-align: top;\n",
       "    }\n",
       "\n",
       "    .dataframe thead th {\n",
       "        text-align: right;\n",
       "    }\n",
       "</style>\n",
       "<table border=\"1\" class=\"dataframe\">\n",
       "  <thead>\n",
       "    <tr style=\"text-align: right;\">\n",
       "      <th></th>\n",
       "      <th>Agency_ADM</th>\n",
       "      <th>Agency_ART</th>\n",
       "      <th>Agency_C2B</th>\n",
       "      <th>Agency_CBH</th>\n",
       "      <th>Agency_CCR</th>\n",
       "      <th>Agency_CSR</th>\n",
       "      <th>Agency_CWT</th>\n",
       "      <th>Agency_EPX</th>\n",
       "      <th>Agency_JWT</th>\n",
       "      <th>Agency_JZI</th>\n",
       "      <th>...</th>\n",
       "      <th>Destination_UGANDA</th>\n",
       "      <th>Destination_UKRAINE</th>\n",
       "      <th>Destination_UNITED ARAB EMIRATES</th>\n",
       "      <th>Destination_UNITED KINGDOM</th>\n",
       "      <th>Destination_UNITED STATES</th>\n",
       "      <th>Destination_UZBEKISTAN</th>\n",
       "      <th>Destination_VANUATU</th>\n",
       "      <th>Destination_VENEZUELA</th>\n",
       "      <th>Destination_VIET NAM</th>\n",
       "      <th>Destination_ZAMBIA</th>\n",
       "    </tr>\n",
       "  </thead>\n",
       "  <tbody>\n",
       "    <tr>\n",
       "      <th>0</th>\n",
       "      <td>0</td>\n",
       "      <td>0</td>\n",
       "      <td>0</td>\n",
       "      <td>0</td>\n",
       "      <td>0</td>\n",
       "      <td>0</td>\n",
       "      <td>1</td>\n",
       "      <td>0</td>\n",
       "      <td>0</td>\n",
       "      <td>0</td>\n",
       "      <td>...</td>\n",
       "      <td>0</td>\n",
       "      <td>0</td>\n",
       "      <td>0</td>\n",
       "      <td>0</td>\n",
       "      <td>0</td>\n",
       "      <td>0</td>\n",
       "      <td>0</td>\n",
       "      <td>0</td>\n",
       "      <td>0</td>\n",
       "      <td>0</td>\n",
       "    </tr>\n",
       "    <tr>\n",
       "      <th>1</th>\n",
       "      <td>0</td>\n",
       "      <td>0</td>\n",
       "      <td>0</td>\n",
       "      <td>0</td>\n",
       "      <td>0</td>\n",
       "      <td>0</td>\n",
       "      <td>0</td>\n",
       "      <td>1</td>\n",
       "      <td>0</td>\n",
       "      <td>0</td>\n",
       "      <td>...</td>\n",
       "      <td>0</td>\n",
       "      <td>0</td>\n",
       "      <td>0</td>\n",
       "      <td>0</td>\n",
       "      <td>0</td>\n",
       "      <td>0</td>\n",
       "      <td>0</td>\n",
       "      <td>0</td>\n",
       "      <td>0</td>\n",
       "      <td>0</td>\n",
       "    </tr>\n",
       "    <tr>\n",
       "      <th>2</th>\n",
       "      <td>0</td>\n",
       "      <td>0</td>\n",
       "      <td>0</td>\n",
       "      <td>0</td>\n",
       "      <td>0</td>\n",
       "      <td>0</td>\n",
       "      <td>0</td>\n",
       "      <td>1</td>\n",
       "      <td>0</td>\n",
       "      <td>0</td>\n",
       "      <td>...</td>\n",
       "      <td>0</td>\n",
       "      <td>0</td>\n",
       "      <td>0</td>\n",
       "      <td>0</td>\n",
       "      <td>0</td>\n",
       "      <td>0</td>\n",
       "      <td>0</td>\n",
       "      <td>0</td>\n",
       "      <td>1</td>\n",
       "      <td>0</td>\n",
       "    </tr>\n",
       "    <tr>\n",
       "      <th>3</th>\n",
       "      <td>0</td>\n",
       "      <td>0</td>\n",
       "      <td>0</td>\n",
       "      <td>0</td>\n",
       "      <td>0</td>\n",
       "      <td>0</td>\n",
       "      <td>0</td>\n",
       "      <td>1</td>\n",
       "      <td>0</td>\n",
       "      <td>0</td>\n",
       "      <td>...</td>\n",
       "      <td>0</td>\n",
       "      <td>0</td>\n",
       "      <td>0</td>\n",
       "      <td>0</td>\n",
       "      <td>0</td>\n",
       "      <td>0</td>\n",
       "      <td>0</td>\n",
       "      <td>0</td>\n",
       "      <td>0</td>\n",
       "      <td>0</td>\n",
       "    </tr>\n",
       "    <tr>\n",
       "      <th>4</th>\n",
       "      <td>0</td>\n",
       "      <td>0</td>\n",
       "      <td>0</td>\n",
       "      <td>0</td>\n",
       "      <td>0</td>\n",
       "      <td>0</td>\n",
       "      <td>0</td>\n",
       "      <td>1</td>\n",
       "      <td>0</td>\n",
       "      <td>0</td>\n",
       "      <td>...</td>\n",
       "      <td>0</td>\n",
       "      <td>0</td>\n",
       "      <td>0</td>\n",
       "      <td>0</td>\n",
       "      <td>0</td>\n",
       "      <td>0</td>\n",
       "      <td>0</td>\n",
       "      <td>0</td>\n",
       "      <td>0</td>\n",
       "      <td>0</td>\n",
       "    </tr>\n",
       "  </tbody>\n",
       "</table>\n",
       "<p>5 rows × 145 columns</p>\n",
       "</div>"
      ],
      "text/plain": [
       "   Agency_ADM  Agency_ART  Agency_C2B  Agency_CBH  Agency_CCR  Agency_CSR  \\\n",
       "0           0           0           0           0           0           0   \n",
       "1           0           0           0           0           0           0   \n",
       "2           0           0           0           0           0           0   \n",
       "3           0           0           0           0           0           0   \n",
       "4           0           0           0           0           0           0   \n",
       "\n",
       "   Agency_CWT  Agency_EPX  Agency_JWT  Agency_JZI  ...  Destination_UGANDA  \\\n",
       "0           1           0           0           0  ...                   0   \n",
       "1           0           1           0           0  ...                   0   \n",
       "2           0           1           0           0  ...                   0   \n",
       "3           0           1           0           0  ...                   0   \n",
       "4           0           1           0           0  ...                   0   \n",
       "\n",
       "   Destination_UKRAINE  Destination_UNITED ARAB EMIRATES  \\\n",
       "0                    0                                 0   \n",
       "1                    0                                 0   \n",
       "2                    0                                 0   \n",
       "3                    0                                 0   \n",
       "4                    0                                 0   \n",
       "\n",
       "   Destination_UNITED KINGDOM  Destination_UNITED STATES  \\\n",
       "0                           0                          0   \n",
       "1                           0                          0   \n",
       "2                           0                          0   \n",
       "3                           0                          0   \n",
       "4                           0                          0   \n",
       "\n",
       "   Destination_UZBEKISTAN  Destination_VANUATU  Destination_VENEZUELA  \\\n",
       "0                       0                    0                      0   \n",
       "1                       0                    0                      0   \n",
       "2                       0                    0                      0   \n",
       "3                       0                    0                      0   \n",
       "4                       0                    0                      0   \n",
       "\n",
       "   Destination_VIET NAM  Destination_ZAMBIA  \n",
       "0                     0                   0  \n",
       "1                     0                   0  \n",
       "2                     1                   0  \n",
       "3                     0                   0  \n",
       "4                     0                   0  \n",
       "\n",
       "[5 rows x 145 columns]"
      ]
     },
     "execution_count": 49,
     "metadata": {},
     "output_type": "execute_result"
    }
   ],
   "source": [
    "cols_non_con_valid.head()"
   ]
  },
  {
   "cell_type": "code",
   "execution_count": 50,
   "metadata": {},
   "outputs": [],
   "source": [
    "train_new = pd.concat([cols_con,cols_non_con],1)"
   ]
  },
  {
   "cell_type": "code",
   "execution_count": 51,
   "metadata": {},
   "outputs": [
    {
     "data": {
      "text/html": [
       "<div>\n",
       "<style scoped>\n",
       "    .dataframe tbody tr th:only-of-type {\n",
       "        vertical-align: middle;\n",
       "    }\n",
       "\n",
       "    .dataframe tbody tr th {\n",
       "        vertical-align: top;\n",
       "    }\n",
       "\n",
       "    .dataframe thead th {\n",
       "        text-align: right;\n",
       "    }\n",
       "</style>\n",
       "<table border=\"1\" class=\"dataframe\">\n",
       "  <thead>\n",
       "    <tr style=\"text-align: right;\">\n",
       "      <th></th>\n",
       "      <th>Duration</th>\n",
       "      <th>Net Sales</th>\n",
       "      <th>Commision (in value)</th>\n",
       "      <th>Age</th>\n",
       "      <th>Agency_ADM</th>\n",
       "      <th>Agency_ART</th>\n",
       "      <th>Agency_C2B</th>\n",
       "      <th>Agency_CBH</th>\n",
       "      <th>Agency_CCR</th>\n",
       "      <th>Agency_CSR</th>\n",
       "      <th>...</th>\n",
       "      <th>Destination_UGANDA</th>\n",
       "      <th>Destination_UKRAINE</th>\n",
       "      <th>Destination_UNITED ARAB EMIRATES</th>\n",
       "      <th>Destination_UNITED KINGDOM</th>\n",
       "      <th>Destination_UNITED STATES</th>\n",
       "      <th>Destination_UZBEKISTAN</th>\n",
       "      <th>Destination_VANUATU</th>\n",
       "      <th>Destination_VENEZUELA</th>\n",
       "      <th>Destination_VIET NAM</th>\n",
       "      <th>Destination_ZAMBIA</th>\n",
       "    </tr>\n",
       "  </thead>\n",
       "  <tbody>\n",
       "    <tr>\n",
       "      <th>0</th>\n",
       "      <td>7</td>\n",
       "      <td>0.0</td>\n",
       "      <td>17.82</td>\n",
       "      <td>31</td>\n",
       "      <td>0</td>\n",
       "      <td>0</td>\n",
       "      <td>0</td>\n",
       "      <td>0</td>\n",
       "      <td>0</td>\n",
       "      <td>0</td>\n",
       "      <td>...</td>\n",
       "      <td>0</td>\n",
       "      <td>0</td>\n",
       "      <td>0</td>\n",
       "      <td>0</td>\n",
       "      <td>0</td>\n",
       "      <td>0</td>\n",
       "      <td>0</td>\n",
       "      <td>0</td>\n",
       "      <td>0</td>\n",
       "      <td>0</td>\n",
       "    </tr>\n",
       "    <tr>\n",
       "      <th>1</th>\n",
       "      <td>85</td>\n",
       "      <td>69.0</td>\n",
       "      <td>0.00</td>\n",
       "      <td>36</td>\n",
       "      <td>0</td>\n",
       "      <td>0</td>\n",
       "      <td>0</td>\n",
       "      <td>0</td>\n",
       "      <td>0</td>\n",
       "      <td>0</td>\n",
       "      <td>...</td>\n",
       "      <td>0</td>\n",
       "      <td>0</td>\n",
       "      <td>0</td>\n",
       "      <td>0</td>\n",
       "      <td>0</td>\n",
       "      <td>0</td>\n",
       "      <td>0</td>\n",
       "      <td>0</td>\n",
       "      <td>0</td>\n",
       "      <td>0</td>\n",
       "    </tr>\n",
       "    <tr>\n",
       "      <th>2</th>\n",
       "      <td>11</td>\n",
       "      <td>19.8</td>\n",
       "      <td>11.88</td>\n",
       "      <td>75</td>\n",
       "      <td>0</td>\n",
       "      <td>0</td>\n",
       "      <td>0</td>\n",
       "      <td>0</td>\n",
       "      <td>0</td>\n",
       "      <td>0</td>\n",
       "      <td>...</td>\n",
       "      <td>0</td>\n",
       "      <td>0</td>\n",
       "      <td>0</td>\n",
       "      <td>0</td>\n",
       "      <td>0</td>\n",
       "      <td>0</td>\n",
       "      <td>0</td>\n",
       "      <td>0</td>\n",
       "      <td>0</td>\n",
       "      <td>0</td>\n",
       "    </tr>\n",
       "    <tr>\n",
       "      <th>3</th>\n",
       "      <td>16</td>\n",
       "      <td>20.0</td>\n",
       "      <td>0.00</td>\n",
       "      <td>32</td>\n",
       "      <td>0</td>\n",
       "      <td>0</td>\n",
       "      <td>0</td>\n",
       "      <td>0</td>\n",
       "      <td>0</td>\n",
       "      <td>0</td>\n",
       "      <td>...</td>\n",
       "      <td>0</td>\n",
       "      <td>0</td>\n",
       "      <td>0</td>\n",
       "      <td>0</td>\n",
       "      <td>0</td>\n",
       "      <td>0</td>\n",
       "      <td>0</td>\n",
       "      <td>0</td>\n",
       "      <td>0</td>\n",
       "      <td>0</td>\n",
       "    </tr>\n",
       "    <tr>\n",
       "      <th>4</th>\n",
       "      <td>10</td>\n",
       "      <td>15.0</td>\n",
       "      <td>0.00</td>\n",
       "      <td>29</td>\n",
       "      <td>0</td>\n",
       "      <td>0</td>\n",
       "      <td>0</td>\n",
       "      <td>0</td>\n",
       "      <td>0</td>\n",
       "      <td>0</td>\n",
       "      <td>...</td>\n",
       "      <td>0</td>\n",
       "      <td>0</td>\n",
       "      <td>0</td>\n",
       "      <td>0</td>\n",
       "      <td>0</td>\n",
       "      <td>0</td>\n",
       "      <td>0</td>\n",
       "      <td>0</td>\n",
       "      <td>0</td>\n",
       "      <td>0</td>\n",
       "    </tr>\n",
       "  </tbody>\n",
       "</table>\n",
       "<p>5 rows × 149 columns</p>\n",
       "</div>"
      ],
      "text/plain": [
       "   Duration  Net Sales  Commision (in value)  Age  Agency_ADM  Agency_ART  \\\n",
       "0         7        0.0                 17.82   31           0           0   \n",
       "1        85       69.0                  0.00   36           0           0   \n",
       "2        11       19.8                 11.88   75           0           0   \n",
       "3        16       20.0                  0.00   32           0           0   \n",
       "4        10       15.0                  0.00   29           0           0   \n",
       "\n",
       "   Agency_C2B  Agency_CBH  Agency_CCR  Agency_CSR  ...  Destination_UGANDA  \\\n",
       "0           0           0           0           0  ...                   0   \n",
       "1           0           0           0           0  ...                   0   \n",
       "2           0           0           0           0  ...                   0   \n",
       "3           0           0           0           0  ...                   0   \n",
       "4           0           0           0           0  ...                   0   \n",
       "\n",
       "   Destination_UKRAINE  Destination_UNITED ARAB EMIRATES  \\\n",
       "0                    0                                 0   \n",
       "1                    0                                 0   \n",
       "2                    0                                 0   \n",
       "3                    0                                 0   \n",
       "4                    0                                 0   \n",
       "\n",
       "   Destination_UNITED KINGDOM  Destination_UNITED STATES  \\\n",
       "0                           0                          0   \n",
       "1                           0                          0   \n",
       "2                           0                          0   \n",
       "3                           0                          0   \n",
       "4                           0                          0   \n",
       "\n",
       "   Destination_UZBEKISTAN  Destination_VANUATU  Destination_VENEZUELA  \\\n",
       "0                       0                    0                      0   \n",
       "1                       0                    0                      0   \n",
       "2                       0                    0                      0   \n",
       "3                       0                    0                      0   \n",
       "4                       0                    0                      0   \n",
       "\n",
       "   Destination_VIET NAM  Destination_ZAMBIA  \n",
       "0                     0                   0  \n",
       "1                     0                   0  \n",
       "2                     0                   0  \n",
       "3                     0                   0  \n",
       "4                     0                   0  \n",
       "\n",
       "[5 rows x 149 columns]"
      ]
     },
     "execution_count": 51,
     "metadata": {},
     "output_type": "execute_result"
    }
   ],
   "source": [
    "train_new.head()"
   ]
  },
  {
   "cell_type": "code",
   "execution_count": 52,
   "metadata": {},
   "outputs": [],
   "source": [
    "df_valid_new = pd.concat([cols_con_valid,cols_non_con_valid],1)"
   ]
  },
  {
   "cell_type": "code",
   "execution_count": 53,
   "metadata": {},
   "outputs": [
    {
     "data": {
      "text/html": [
       "<div>\n",
       "<style scoped>\n",
       "    .dataframe tbody tr th:only-of-type {\n",
       "        vertical-align: middle;\n",
       "    }\n",
       "\n",
       "    .dataframe tbody tr th {\n",
       "        vertical-align: top;\n",
       "    }\n",
       "\n",
       "    .dataframe thead th {\n",
       "        text-align: right;\n",
       "    }\n",
       "</style>\n",
       "<table border=\"1\" class=\"dataframe\">\n",
       "  <thead>\n",
       "    <tr style=\"text-align: right;\">\n",
       "      <th></th>\n",
       "      <th>Duration</th>\n",
       "      <th>Net Sales</th>\n",
       "      <th>Commision (in value)</th>\n",
       "      <th>Age</th>\n",
       "      <th>Agency_ADM</th>\n",
       "      <th>Agency_ART</th>\n",
       "      <th>Agency_C2B</th>\n",
       "      <th>Agency_CBH</th>\n",
       "      <th>Agency_CCR</th>\n",
       "      <th>Agency_CSR</th>\n",
       "      <th>...</th>\n",
       "      <th>Destination_UGANDA</th>\n",
       "      <th>Destination_UKRAINE</th>\n",
       "      <th>Destination_UNITED ARAB EMIRATES</th>\n",
       "      <th>Destination_UNITED KINGDOM</th>\n",
       "      <th>Destination_UNITED STATES</th>\n",
       "      <th>Destination_UZBEKISTAN</th>\n",
       "      <th>Destination_VANUATU</th>\n",
       "      <th>Destination_VENEZUELA</th>\n",
       "      <th>Destination_VIET NAM</th>\n",
       "      <th>Destination_ZAMBIA</th>\n",
       "    </tr>\n",
       "  </thead>\n",
       "  <tbody>\n",
       "    <tr>\n",
       "      <th>0</th>\n",
       "      <td>58</td>\n",
       "      <td>49.5</td>\n",
       "      <td>29.7</td>\n",
       "      <td>47</td>\n",
       "      <td>0</td>\n",
       "      <td>0</td>\n",
       "      <td>0</td>\n",
       "      <td>0</td>\n",
       "      <td>0</td>\n",
       "      <td>0</td>\n",
       "      <td>...</td>\n",
       "      <td>0</td>\n",
       "      <td>0</td>\n",
       "      <td>0</td>\n",
       "      <td>0</td>\n",
       "      <td>0</td>\n",
       "      <td>0</td>\n",
       "      <td>0</td>\n",
       "      <td>0</td>\n",
       "      <td>0</td>\n",
       "      <td>0</td>\n",
       "    </tr>\n",
       "    <tr>\n",
       "      <th>1</th>\n",
       "      <td>4</td>\n",
       "      <td>20.0</td>\n",
       "      <td>0.0</td>\n",
       "      <td>24</td>\n",
       "      <td>0</td>\n",
       "      <td>0</td>\n",
       "      <td>0</td>\n",
       "      <td>0</td>\n",
       "      <td>0</td>\n",
       "      <td>0</td>\n",
       "      <td>...</td>\n",
       "      <td>0</td>\n",
       "      <td>0</td>\n",
       "      <td>0</td>\n",
       "      <td>0</td>\n",
       "      <td>0</td>\n",
       "      <td>0</td>\n",
       "      <td>0</td>\n",
       "      <td>0</td>\n",
       "      <td>0</td>\n",
       "      <td>0</td>\n",
       "    </tr>\n",
       "    <tr>\n",
       "      <th>2</th>\n",
       "      <td>68</td>\n",
       "      <td>20.0</td>\n",
       "      <td>0.0</td>\n",
       "      <td>36</td>\n",
       "      <td>0</td>\n",
       "      <td>0</td>\n",
       "      <td>0</td>\n",
       "      <td>0</td>\n",
       "      <td>0</td>\n",
       "      <td>0</td>\n",
       "      <td>...</td>\n",
       "      <td>0</td>\n",
       "      <td>0</td>\n",
       "      <td>0</td>\n",
       "      <td>0</td>\n",
       "      <td>0</td>\n",
       "      <td>0</td>\n",
       "      <td>0</td>\n",
       "      <td>0</td>\n",
       "      <td>1</td>\n",
       "      <td>0</td>\n",
       "    </tr>\n",
       "    <tr>\n",
       "      <th>3</th>\n",
       "      <td>41</td>\n",
       "      <td>28.0</td>\n",
       "      <td>0.0</td>\n",
       "      <td>36</td>\n",
       "      <td>0</td>\n",
       "      <td>0</td>\n",
       "      <td>0</td>\n",
       "      <td>0</td>\n",
       "      <td>0</td>\n",
       "      <td>0</td>\n",
       "      <td>...</td>\n",
       "      <td>0</td>\n",
       "      <td>0</td>\n",
       "      <td>0</td>\n",
       "      <td>0</td>\n",
       "      <td>0</td>\n",
       "      <td>0</td>\n",
       "      <td>0</td>\n",
       "      <td>0</td>\n",
       "      <td>0</td>\n",
       "      <td>0</td>\n",
       "    </tr>\n",
       "    <tr>\n",
       "      <th>4</th>\n",
       "      <td>16</td>\n",
       "      <td>11.0</td>\n",
       "      <td>0.0</td>\n",
       "      <td>36</td>\n",
       "      <td>0</td>\n",
       "      <td>0</td>\n",
       "      <td>0</td>\n",
       "      <td>0</td>\n",
       "      <td>0</td>\n",
       "      <td>0</td>\n",
       "      <td>...</td>\n",
       "      <td>0</td>\n",
       "      <td>0</td>\n",
       "      <td>0</td>\n",
       "      <td>0</td>\n",
       "      <td>0</td>\n",
       "      <td>0</td>\n",
       "      <td>0</td>\n",
       "      <td>0</td>\n",
       "      <td>0</td>\n",
       "      <td>0</td>\n",
       "    </tr>\n",
       "  </tbody>\n",
       "</table>\n",
       "<p>5 rows × 149 columns</p>\n",
       "</div>"
      ],
      "text/plain": [
       "   Duration  Net Sales  Commision (in value)  Age  Agency_ADM  Agency_ART  \\\n",
       "0        58       49.5                  29.7   47           0           0   \n",
       "1         4       20.0                   0.0   24           0           0   \n",
       "2        68       20.0                   0.0   36           0           0   \n",
       "3        41       28.0                   0.0   36           0           0   \n",
       "4        16       11.0                   0.0   36           0           0   \n",
       "\n",
       "   Agency_C2B  Agency_CBH  Agency_CCR  Agency_CSR  ...  Destination_UGANDA  \\\n",
       "0           0           0           0           0  ...                   0   \n",
       "1           0           0           0           0  ...                   0   \n",
       "2           0           0           0           0  ...                   0   \n",
       "3           0           0           0           0  ...                   0   \n",
       "4           0           0           0           0  ...                   0   \n",
       "\n",
       "   Destination_UKRAINE  Destination_UNITED ARAB EMIRATES  \\\n",
       "0                    0                                 0   \n",
       "1                    0                                 0   \n",
       "2                    0                                 0   \n",
       "3                    0                                 0   \n",
       "4                    0                                 0   \n",
       "\n",
       "   Destination_UNITED KINGDOM  Destination_UNITED STATES  \\\n",
       "0                           0                          0   \n",
       "1                           0                          0   \n",
       "2                           0                          0   \n",
       "3                           0                          0   \n",
       "4                           0                          0   \n",
       "\n",
       "   Destination_UZBEKISTAN  Destination_VANUATU  Destination_VENEZUELA  \\\n",
       "0                       0                    0                      0   \n",
       "1                       0                    0                      0   \n",
       "2                       0                    0                      0   \n",
       "3                       0                    0                      0   \n",
       "4                       0                    0                      0   \n",
       "\n",
       "   Destination_VIET NAM  Destination_ZAMBIA  \n",
       "0                     0                   0  \n",
       "1                     0                   0  \n",
       "2                     1                   0  \n",
       "3                     0                   0  \n",
       "4                     0                   0  \n",
       "\n",
       "[5 rows x 149 columns]"
      ]
     },
     "execution_count": 53,
     "metadata": {},
     "output_type": "execute_result"
    }
   ],
   "source": [
    "df_valid_new.head()"
   ]
  },
  {
   "cell_type": "code",
   "execution_count": 148,
   "metadata": {},
   "outputs": [],
   "source": [
    "X = train_new\n",
    "y = df_train['Claim']"
   ]
  },
  {
   "cell_type": "code",
   "execution_count": 149,
   "metadata": {},
   "outputs": [],
   "source": [
    "scaler = MinMaxScaler()\n",
    "X[cols_con.columns] = scaler.fit_transform(X[cols_con.columns])\n",
    "df_valid_new[cols_con_valid.columns] = scaler.transform(df_valid_new[cols_con_valid.columns])"
   ]
  },
  {
   "cell_type": "code",
   "execution_count": 150,
   "metadata": {},
   "outputs": [
    {
     "data": {
      "text/html": [
       "<div>\n",
       "<style scoped>\n",
       "    .dataframe tbody tr th:only-of-type {\n",
       "        vertical-align: middle;\n",
       "    }\n",
       "\n",
       "    .dataframe tbody tr th {\n",
       "        vertical-align: top;\n",
       "    }\n",
       "\n",
       "    .dataframe thead th {\n",
       "        text-align: right;\n",
       "    }\n",
       "</style>\n",
       "<table border=\"1\" class=\"dataframe\">\n",
       "  <thead>\n",
       "    <tr style=\"text-align: right;\">\n",
       "      <th></th>\n",
       "      <th>Duration</th>\n",
       "      <th>Net Sales</th>\n",
       "      <th>Commision (in value)</th>\n",
       "      <th>Age</th>\n",
       "      <th>Agency_ADM</th>\n",
       "      <th>Agency_ART</th>\n",
       "      <th>Agency_C2B</th>\n",
       "      <th>Agency_CBH</th>\n",
       "      <th>Agency_CCR</th>\n",
       "      <th>Agency_CSR</th>\n",
       "      <th>...</th>\n",
       "      <th>Destination_UGANDA</th>\n",
       "      <th>Destination_UKRAINE</th>\n",
       "      <th>Destination_UNITED ARAB EMIRATES</th>\n",
       "      <th>Destination_UNITED KINGDOM</th>\n",
       "      <th>Destination_UNITED STATES</th>\n",
       "      <th>Destination_UZBEKISTAN</th>\n",
       "      <th>Destination_VANUATU</th>\n",
       "      <th>Destination_VENEZUELA</th>\n",
       "      <th>Destination_VIET NAM</th>\n",
       "      <th>Destination_ZAMBIA</th>\n",
       "    </tr>\n",
       "  </thead>\n",
       "  <tbody>\n",
       "    <tr>\n",
       "      <th>0</th>\n",
       "      <td>0.006393</td>\n",
       "      <td>0.324437</td>\n",
       "      <td>0.062857</td>\n",
       "      <td>0.313131</td>\n",
       "      <td>0</td>\n",
       "      <td>0</td>\n",
       "      <td>0</td>\n",
       "      <td>0</td>\n",
       "      <td>0</td>\n",
       "      <td>0</td>\n",
       "      <td>...</td>\n",
       "      <td>0</td>\n",
       "      <td>0</td>\n",
       "      <td>0</td>\n",
       "      <td>0</td>\n",
       "      <td>0</td>\n",
       "      <td>0</td>\n",
       "      <td>0</td>\n",
       "      <td>0</td>\n",
       "      <td>0</td>\n",
       "      <td>0</td>\n",
       "    </tr>\n",
       "    <tr>\n",
       "      <th>1</th>\n",
       "      <td>0.077626</td>\n",
       "      <td>0.381985</td>\n",
       "      <td>0.000000</td>\n",
       "      <td>0.363636</td>\n",
       "      <td>0</td>\n",
       "      <td>0</td>\n",
       "      <td>0</td>\n",
       "      <td>0</td>\n",
       "      <td>0</td>\n",
       "      <td>0</td>\n",
       "      <td>...</td>\n",
       "      <td>0</td>\n",
       "      <td>0</td>\n",
       "      <td>0</td>\n",
       "      <td>0</td>\n",
       "      <td>0</td>\n",
       "      <td>0</td>\n",
       "      <td>0</td>\n",
       "      <td>0</td>\n",
       "      <td>0</td>\n",
       "      <td>0</td>\n",
       "    </tr>\n",
       "    <tr>\n",
       "      <th>2</th>\n",
       "      <td>0.010046</td>\n",
       "      <td>0.340951</td>\n",
       "      <td>0.041905</td>\n",
       "      <td>0.757576</td>\n",
       "      <td>0</td>\n",
       "      <td>0</td>\n",
       "      <td>0</td>\n",
       "      <td>0</td>\n",
       "      <td>0</td>\n",
       "      <td>0</td>\n",
       "      <td>...</td>\n",
       "      <td>0</td>\n",
       "      <td>0</td>\n",
       "      <td>0</td>\n",
       "      <td>0</td>\n",
       "      <td>0</td>\n",
       "      <td>0</td>\n",
       "      <td>0</td>\n",
       "      <td>0</td>\n",
       "      <td>0</td>\n",
       "      <td>0</td>\n",
       "    </tr>\n",
       "    <tr>\n",
       "      <th>3</th>\n",
       "      <td>0.014612</td>\n",
       "      <td>0.341118</td>\n",
       "      <td>0.000000</td>\n",
       "      <td>0.323232</td>\n",
       "      <td>0</td>\n",
       "      <td>0</td>\n",
       "      <td>0</td>\n",
       "      <td>0</td>\n",
       "      <td>0</td>\n",
       "      <td>0</td>\n",
       "      <td>...</td>\n",
       "      <td>0</td>\n",
       "      <td>0</td>\n",
       "      <td>0</td>\n",
       "      <td>0</td>\n",
       "      <td>0</td>\n",
       "      <td>0</td>\n",
       "      <td>0</td>\n",
       "      <td>0</td>\n",
       "      <td>0</td>\n",
       "      <td>0</td>\n",
       "    </tr>\n",
       "    <tr>\n",
       "      <th>4</th>\n",
       "      <td>0.009132</td>\n",
       "      <td>0.336947</td>\n",
       "      <td>0.000000</td>\n",
       "      <td>0.292929</td>\n",
       "      <td>0</td>\n",
       "      <td>0</td>\n",
       "      <td>0</td>\n",
       "      <td>0</td>\n",
       "      <td>0</td>\n",
       "      <td>0</td>\n",
       "      <td>...</td>\n",
       "      <td>0</td>\n",
       "      <td>0</td>\n",
       "      <td>0</td>\n",
       "      <td>0</td>\n",
       "      <td>0</td>\n",
       "      <td>0</td>\n",
       "      <td>0</td>\n",
       "      <td>0</td>\n",
       "      <td>0</td>\n",
       "      <td>0</td>\n",
       "    </tr>\n",
       "  </tbody>\n",
       "</table>\n",
       "<p>5 rows × 149 columns</p>\n",
       "</div>"
      ],
      "text/plain": [
       "   Duration  Net Sales  Commision (in value)       Age  Agency_ADM  \\\n",
       "0  0.006393   0.324437              0.062857  0.313131           0   \n",
       "1  0.077626   0.381985              0.000000  0.363636           0   \n",
       "2  0.010046   0.340951              0.041905  0.757576           0   \n",
       "3  0.014612   0.341118              0.000000  0.323232           0   \n",
       "4  0.009132   0.336947              0.000000  0.292929           0   \n",
       "\n",
       "   Agency_ART  Agency_C2B  Agency_CBH  Agency_CCR  Agency_CSR  ...  \\\n",
       "0           0           0           0           0           0  ...   \n",
       "1           0           0           0           0           0  ...   \n",
       "2           0           0           0           0           0  ...   \n",
       "3           0           0           0           0           0  ...   \n",
       "4           0           0           0           0           0  ...   \n",
       "\n",
       "   Destination_UGANDA  Destination_UKRAINE  Destination_UNITED ARAB EMIRATES  \\\n",
       "0                   0                    0                                 0   \n",
       "1                   0                    0                                 0   \n",
       "2                   0                    0                                 0   \n",
       "3                   0                    0                                 0   \n",
       "4                   0                    0                                 0   \n",
       "\n",
       "   Destination_UNITED KINGDOM  Destination_UNITED STATES  \\\n",
       "0                           0                          0   \n",
       "1                           0                          0   \n",
       "2                           0                          0   \n",
       "3                           0                          0   \n",
       "4                           0                          0   \n",
       "\n",
       "   Destination_UZBEKISTAN  Destination_VANUATU  Destination_VENEZUELA  \\\n",
       "0                       0                    0                      0   \n",
       "1                       0                    0                      0   \n",
       "2                       0                    0                      0   \n",
       "3                       0                    0                      0   \n",
       "4                       0                    0                      0   \n",
       "\n",
       "   Destination_VIET NAM  Destination_ZAMBIA  \n",
       "0                     0                   0  \n",
       "1                     0                   0  \n",
       "2                     0                   0  \n",
       "3                     0                   0  \n",
       "4                     0                   0  \n",
       "\n",
       "[5 rows x 149 columns]"
      ]
     },
     "execution_count": 150,
     "metadata": {},
     "output_type": "execute_result"
    }
   ],
   "source": [
    "X.head()"
   ]
  },
  {
   "cell_type": "code",
   "execution_count": 151,
   "metadata": {},
   "outputs": [
    {
     "data": {
      "text/html": [
       "<div>\n",
       "<style scoped>\n",
       "    .dataframe tbody tr th:only-of-type {\n",
       "        vertical-align: middle;\n",
       "    }\n",
       "\n",
       "    .dataframe tbody tr th {\n",
       "        vertical-align: top;\n",
       "    }\n",
       "\n",
       "    .dataframe thead th {\n",
       "        text-align: right;\n",
       "    }\n",
       "</style>\n",
       "<table border=\"1\" class=\"dataframe\">\n",
       "  <thead>\n",
       "    <tr style=\"text-align: right;\">\n",
       "      <th></th>\n",
       "      <th>Duration</th>\n",
       "      <th>Net Sales</th>\n",
       "      <th>Commision (in value)</th>\n",
       "      <th>Age</th>\n",
       "      <th>Agency_ADM</th>\n",
       "      <th>Agency_ART</th>\n",
       "      <th>Agency_C2B</th>\n",
       "      <th>Agency_CBH</th>\n",
       "      <th>Agency_CCR</th>\n",
       "      <th>Agency_CSR</th>\n",
       "      <th>...</th>\n",
       "      <th>Destination_UGANDA</th>\n",
       "      <th>Destination_UKRAINE</th>\n",
       "      <th>Destination_UNITED ARAB EMIRATES</th>\n",
       "      <th>Destination_UNITED KINGDOM</th>\n",
       "      <th>Destination_UNITED STATES</th>\n",
       "      <th>Destination_UZBEKISTAN</th>\n",
       "      <th>Destination_VANUATU</th>\n",
       "      <th>Destination_VENEZUELA</th>\n",
       "      <th>Destination_VIET NAM</th>\n",
       "      <th>Destination_ZAMBIA</th>\n",
       "    </tr>\n",
       "  </thead>\n",
       "  <tbody>\n",
       "    <tr>\n",
       "      <th>0</th>\n",
       "      <td>0.052968</td>\n",
       "      <td>0.365721</td>\n",
       "      <td>0.104762</td>\n",
       "      <td>0.474747</td>\n",
       "      <td>0</td>\n",
       "      <td>0</td>\n",
       "      <td>0</td>\n",
       "      <td>0</td>\n",
       "      <td>0</td>\n",
       "      <td>0</td>\n",
       "      <td>...</td>\n",
       "      <td>0</td>\n",
       "      <td>0</td>\n",
       "      <td>0</td>\n",
       "      <td>0</td>\n",
       "      <td>0</td>\n",
       "      <td>0</td>\n",
       "      <td>0</td>\n",
       "      <td>0</td>\n",
       "      <td>0</td>\n",
       "      <td>0</td>\n",
       "    </tr>\n",
       "    <tr>\n",
       "      <th>1</th>\n",
       "      <td>0.003653</td>\n",
       "      <td>0.341118</td>\n",
       "      <td>0.000000</td>\n",
       "      <td>0.242424</td>\n",
       "      <td>0</td>\n",
       "      <td>0</td>\n",
       "      <td>0</td>\n",
       "      <td>0</td>\n",
       "      <td>0</td>\n",
       "      <td>0</td>\n",
       "      <td>...</td>\n",
       "      <td>0</td>\n",
       "      <td>0</td>\n",
       "      <td>0</td>\n",
       "      <td>0</td>\n",
       "      <td>0</td>\n",
       "      <td>0</td>\n",
       "      <td>0</td>\n",
       "      <td>0</td>\n",
       "      <td>0</td>\n",
       "      <td>0</td>\n",
       "    </tr>\n",
       "    <tr>\n",
       "      <th>2</th>\n",
       "      <td>0.062100</td>\n",
       "      <td>0.341118</td>\n",
       "      <td>0.000000</td>\n",
       "      <td>0.363636</td>\n",
       "      <td>0</td>\n",
       "      <td>0</td>\n",
       "      <td>0</td>\n",
       "      <td>0</td>\n",
       "      <td>0</td>\n",
       "      <td>0</td>\n",
       "      <td>...</td>\n",
       "      <td>0</td>\n",
       "      <td>0</td>\n",
       "      <td>0</td>\n",
       "      <td>0</td>\n",
       "      <td>0</td>\n",
       "      <td>0</td>\n",
       "      <td>0</td>\n",
       "      <td>0</td>\n",
       "      <td>1</td>\n",
       "      <td>0</td>\n",
       "    </tr>\n",
       "    <tr>\n",
       "      <th>3</th>\n",
       "      <td>0.037443</td>\n",
       "      <td>0.347790</td>\n",
       "      <td>0.000000</td>\n",
       "      <td>0.363636</td>\n",
       "      <td>0</td>\n",
       "      <td>0</td>\n",
       "      <td>0</td>\n",
       "      <td>0</td>\n",
       "      <td>0</td>\n",
       "      <td>0</td>\n",
       "      <td>...</td>\n",
       "      <td>0</td>\n",
       "      <td>0</td>\n",
       "      <td>0</td>\n",
       "      <td>0</td>\n",
       "      <td>0</td>\n",
       "      <td>0</td>\n",
       "      <td>0</td>\n",
       "      <td>0</td>\n",
       "      <td>0</td>\n",
       "      <td>0</td>\n",
       "    </tr>\n",
       "    <tr>\n",
       "      <th>4</th>\n",
       "      <td>0.014612</td>\n",
       "      <td>0.333611</td>\n",
       "      <td>0.000000</td>\n",
       "      <td>0.363636</td>\n",
       "      <td>0</td>\n",
       "      <td>0</td>\n",
       "      <td>0</td>\n",
       "      <td>0</td>\n",
       "      <td>0</td>\n",
       "      <td>0</td>\n",
       "      <td>...</td>\n",
       "      <td>0</td>\n",
       "      <td>0</td>\n",
       "      <td>0</td>\n",
       "      <td>0</td>\n",
       "      <td>0</td>\n",
       "      <td>0</td>\n",
       "      <td>0</td>\n",
       "      <td>0</td>\n",
       "      <td>0</td>\n",
       "      <td>0</td>\n",
       "    </tr>\n",
       "  </tbody>\n",
       "</table>\n",
       "<p>5 rows × 149 columns</p>\n",
       "</div>"
      ],
      "text/plain": [
       "   Duration  Net Sales  Commision (in value)       Age  Agency_ADM  \\\n",
       "0  0.052968   0.365721              0.104762  0.474747           0   \n",
       "1  0.003653   0.341118              0.000000  0.242424           0   \n",
       "2  0.062100   0.341118              0.000000  0.363636           0   \n",
       "3  0.037443   0.347790              0.000000  0.363636           0   \n",
       "4  0.014612   0.333611              0.000000  0.363636           0   \n",
       "\n",
       "   Agency_ART  Agency_C2B  Agency_CBH  Agency_CCR  Agency_CSR  ...  \\\n",
       "0           0           0           0           0           0  ...   \n",
       "1           0           0           0           0           0  ...   \n",
       "2           0           0           0           0           0  ...   \n",
       "3           0           0           0           0           0  ...   \n",
       "4           0           0           0           0           0  ...   \n",
       "\n",
       "   Destination_UGANDA  Destination_UKRAINE  Destination_UNITED ARAB EMIRATES  \\\n",
       "0                   0                    0                                 0   \n",
       "1                   0                    0                                 0   \n",
       "2                   0                    0                                 0   \n",
       "3                   0                    0                                 0   \n",
       "4                   0                    0                                 0   \n",
       "\n",
       "   Destination_UNITED KINGDOM  Destination_UNITED STATES  \\\n",
       "0                           0                          0   \n",
       "1                           0                          0   \n",
       "2                           0                          0   \n",
       "3                           0                          0   \n",
       "4                           0                          0   \n",
       "\n",
       "   Destination_UZBEKISTAN  Destination_VANUATU  Destination_VENEZUELA  \\\n",
       "0                       0                    0                      0   \n",
       "1                       0                    0                      0   \n",
       "2                       0                    0                      0   \n",
       "3                       0                    0                      0   \n",
       "4                       0                    0                      0   \n",
       "\n",
       "   Destination_VIET NAM  Destination_ZAMBIA  \n",
       "0                     0                   0  \n",
       "1                     0                   0  \n",
       "2                     1                   0  \n",
       "3                     0                   0  \n",
       "4                     0                   0  \n",
       "\n",
       "[5 rows x 149 columns]"
      ]
     },
     "execution_count": 151,
     "metadata": {},
     "output_type": "execute_result"
    }
   ],
   "source": [
    "df_valid_new.head()"
   ]
  },
  {
   "cell_type": "code",
   "execution_count": 157,
   "metadata": {},
   "outputs": [],
   "source": [
    "X_train,X_test,y_train,y_test = train_test_split(X,y,test_size=0.2,random_state = 42,stratify = y)"
   ]
  },
  {
   "cell_type": "code",
   "execution_count": 158,
   "metadata": {},
   "outputs": [
    {
     "data": {
      "text/plain": [
       "<matplotlib.axes._subplots.AxesSubplot at 0x25476370860>"
      ]
     },
     "execution_count": 158,
     "metadata": {},
     "output_type": "execute_result"
    },
    {
     "data": {
      "image/png": "[encoded data removed]",
      "text/plain": [
       "<Figure size 432x288 with 1 Axes>"
      ]
     },
     "metadata": {
      "needs_background": "light"
     },
     "output_type": "display_data"
    }
   ],
   "source": [
    "sns.countplot(y_train)"
   ]
  },
  {
   "cell_type": "code",
   "execution_count": 159,
   "metadata": {},
   "outputs": [],
   "source": [
    "# sm = SMOTE(random_state=12)\n",
    "# X_train_rs,y_train_rs = sm.fit_resample(X_train,y_train)\n",
    "# X_train = pd.DataFrame(X_train_rs,columns=X.columns)\n",
    "# y_train = pd.Series(y_train_rs, name='Claim')\n",
    "# sns.countplot(y_train)"
   ]
  },
  {
   "cell_type": "code",
   "execution_count": 160,
   "metadata": {},
   "outputs": [
    {
     "data": {
      "text/plain": [
       "0    34881\n",
       "1      589\n",
       "Name: Claim, dtype: int64"
      ]
     },
     "execution_count": 160,
     "metadata": {},
     "output_type": "execute_result"
    }
   ],
   "source": [
    "y_train.value_counts()"
   ]
  },
  {
   "cell_type": "code",
   "execution_count": 165,
   "metadata": {},
   "outputs": [
    {
     "data": {
      "text/plain": [
       "0.7967974740640505"
      ]
     },
     "execution_count": 165,
     "metadata": {},
     "output_type": "execute_result"
    }
   ],
   "source": [
    "model_lr = LogisticRegression(random_state=42,class_weight='balanced')\n",
    "model_lr.fit(X_train,y_train)\n",
    "y_pred_lr = model_lr.predict(X_test)\n",
    "y_pred_lr_proba = np.array(pd.DataFrame(model_lr.predict_proba(X_test)).iloc[:,1])\n",
    "model_lr.score(X_test,y_test)"
   ]
  },
  {
   "cell_type": "code",
   "execution_count": 166,
   "metadata": {},
   "outputs": [
    {
     "name": "stdout",
     "output_type": "stream",
     "text": [
      "Report for logistic model\n",
      "               precision    recall  f1-score   support\n",
      "\n",
      "           0       0.99      0.80      0.89      8721\n",
      "           1       0.05      0.67      0.10       147\n",
      "\n",
      "    accuracy                           0.80      8868\n",
      "   macro avg       0.52      0.74      0.49      8868\n",
      "weighted avg       0.98      0.80      0.87      8868\n",
      "\n",
      "ROC AUC score for logistic model is  0.774799588451365\n",
      "precision Score for logistic model is 0.9775801171756473\n",
      "recall Score for logistic model is 0.7967974740640505\n"
     ]
    }
   ],
   "source": [
    "print('Report for logistic model\\n',classification_report(y_test,y_pred_lr))\n",
    "print('ROC AUC score for logistic model is ',roc_auc_score(y_test,y_pred_lr_proba))\n",
    "print('precision Score for logistic model is',precision_score(y_test,y_pred_lr,average='weighted'))\n",
    "print('recall Score for logistic model is',recall_score(y_test,y_pred_lr,average='weighted'))"
   ]
  },
  {
   "cell_type": "code",
   "execution_count": 167,
   "metadata": {},
   "outputs": [
    {
     "name": "stdout",
     "output_type": "stream",
     "text": [
      "ConfusionMatrix for logistic model\n",
      "tp fp\n",
      "99 1754 \n",
      "\n",
      "fn tn\n",
      "48 6967\n"
     ]
    }
   ],
   "source": [
    "tn,fp,fn,tp = confusion_matrix(y_test,y_pred_lr).ravel()\n",
    "print('ConfusionMatrix for logistic model')\n",
    "print('tp','fp')\n",
    "print(tp,fp,'\\n')\n",
    "print('fn','tn')\n",
    "print(fn,tn)"
   ]
  },
  {
   "cell_type": "code",
   "execution_count": 80,
   "metadata": {},
   "outputs": [
    {
     "data": {
      "text/plain": [
       "0.8662607126747858"
      ]
     },
     "execution_count": 80,
     "metadata": {},
     "output_type": "execute_result"
    }
   ],
   "source": [
    "dt2 = DecisionTreeClassifier(criterion='entropy',max_depth=4,random_state = 12,class_weight='balanced')\n",
    "dt2.fit(X_train,y_train)\n",
    "dt_pred = dt2.predict(X_test)\n",
    "dt_pred_proba = np.array(pd.DataFrame(dt2.predict_proba(X_test)).iloc[:,1])\n",
    "dt2.score(X_test,y_test)"
   ]
  },
  {
   "cell_type": "code",
   "execution_count": 81,
   "metadata": {},
   "outputs": [
    {
     "name": "stdout",
     "output_type": "stream",
     "text": [
      "Report for decision tree model\n",
      "               precision    recall  f1-score   support\n",
      "\n",
      "           0       0.99      0.87      0.93      8721\n",
      "           1       0.07      0.55      0.12       147\n",
      "\n",
      "    accuracy                           0.87      8868\n",
      "   macro avg       0.53      0.71      0.52      8868\n",
      "weighted avg       0.98      0.87      0.91      8868\n",
      "\n",
      "ROC AUC score for decision tree model is  0.7550852699754367\n",
      "precision Score for decision tree model is 0.9760758984442016\n",
      "recall Score for decision model is 0.8662607126747858\n"
     ]
    }
   ],
   "source": [
    "print('Report for decision tree model\\n',classification_report(y_test,dt_pred))\n",
    "print('ROC AUC score for decision tree model is ',roc_auc_score(y_test,dt_pred_proba))\n",
    "print('precision Score for decision tree model is',precision_score(y_test,dt_pred,average='weighted'))\n",
    "print('recall Score for decision model is',recall_score(y_test,dt_pred,average='weighted'))"
   ]
  },
  {
   "cell_type": "code",
   "execution_count": 82,
   "metadata": {},
   "outputs": [
    {
     "name": "stdout",
     "output_type": "stream",
     "text": [
      "ConfusionMatrix for decision tree model\n",
      "tp fp\n",
      "81 1120 \n",
      "\n",
      "fn tn\n",
      "66 7601\n"
     ]
    }
   ],
   "source": [
    "tn,fp,fn,tp = confusion_matrix(y_test,dt_pred).ravel()\n",
    "print('ConfusionMatrix for decision tree model')\n",
    "print('tp','fp')\n",
    "print(tp,fp,'\\n')\n",
    "print('fn','tn')\n",
    "print(fn,tn)"
   ]
  },
  {
   "cell_type": "code",
   "execution_count": null,
   "metadata": {},
   "outputs": [],
   "source": [
    "parameters={'max_depth':range(1,3),'criterion':['entropy','gini'],'n_estimators':[51,111,151]}\n",
    "rf_clf = RandomForestClassifier(class_weight='balanced',random_state=264)\n",
    "clf_model=GridSearchCV(estimator=rf_clf,param_grid=parameters,scoring='roc_auc')\n",
    "clf_model.fit(X_train,y_train)\n",
    "y_pred_rf_gs=clf_model.predict(X_test)\n",
    "clf_model.score(X_test,y_test)"
   ]
  },
  {
   "cell_type": "code",
   "execution_count": 529,
   "metadata": {},
   "outputs": [
    {
     "data": {
      "text/plain": [
       "{'criterion': 'gini', 'max_depth': 7, 'n_estimators': 151}"
      ]
     },
     "execution_count": 529,
     "metadata": {},
     "output_type": "execute_result"
    }
   ],
   "source": [
    "clf_model.best_params_"
   ]
  },
  {
   "cell_type": "code",
   "execution_count": 172,
   "metadata": {},
   "outputs": [
    {
     "data": {
      "text/plain": [
       "0.8572395128552097"
      ]
     },
     "execution_count": 172,
     "metadata": {},
     "output_type": "execute_result"
    }
   ],
   "source": [
    "from sklearn.ensemble import RandomForestClassifier\n",
    "rf_clf = RandomForestClassifier(random_state = 264,criterion='gini', max_depth=7,n_estimators= 151,class_weight='balanced')\n",
    "rf_clf.fit(X_train,y_train)\n",
    "y_pred_rf = rf_clf.predict(X_test)\n",
    "y_pred_rf_proba = np.array(pd.DataFrame(rf_clf.predict_proba(X_test)).iloc[:,1])\n",
    "rf_clf.score(X_test,y_test)"
   ]
  },
  {
   "cell_type": "code",
   "execution_count": 173,
   "metadata": {},
   "outputs": [
    {
     "name": "stdout",
     "output_type": "stream",
     "text": [
      "Report for randomforest model\n",
      "               precision    recall  f1-score   support\n",
      "\n",
      "           0       0.99      0.86      0.92      8721\n",
      "           1       0.07      0.60      0.12       147\n",
      "\n",
      "    accuracy                           0.86      8868\n",
      "   macro avg       0.53      0.73      0.52      8868\n",
      "weighted avg       0.98      0.86      0.91      8868\n",
      "\n",
      "ROC AUC score for randomforest model is  0.790692885341271\n",
      "precision Score for randomforest model is 0.9768882848011983\n",
      "recall Score for randomforest model is 0.8572395128552097\n"
     ]
    }
   ],
   "source": [
    "print('Report for randomforest model\\n',classification_report(y_test,y_pred_rf))\n",
    "print('ROC AUC score for randomforest model is ',roc_auc_score(y_test,y_pred_rf_proba))\n",
    "print('precision Score for randomforest model is',precision_score(y_test,y_pred_rf,average='weighted'))\n",
    "print('recall Score for randomforest model is',recall_score(y_test,y_pred_rf,average='weighted'))"
   ]
  },
  {
   "cell_type": "code",
   "execution_count": 70,
   "metadata": {},
   "outputs": [
    {
     "name": "stdout",
     "output_type": "stream",
     "text": [
      "ConfusionMatrix for randomforest model\n",
      "tp fp\n",
      "88 1207 \n",
      "\n",
      "fn tn\n",
      "59 7514\n"
     ]
    }
   ],
   "source": [
    "tn,fp,fn,tp = confusion_matrix(y_test,y_pred_rf).ravel()\n",
    "print('ConfusionMatrix for randomforest model')\n",
    "print('tp','fp')\n",
    "print(tp,fp,'\\n')\n",
    "print('fn','tn')\n",
    "print(fn,tn)"
   ]
  },
  {
   "cell_type": "code",
   "execution_count": 687,
   "metadata": {},
   "outputs": [
    {
     "data": {
      "text/plain": [
       "0.8569012178619756"
      ]
     },
     "execution_count": 687,
     "metadata": {},
     "output_type": "execute_result"
    }
   ],
   "source": [
    "sm = SMOTE(random_state=12)\n",
    "X_train_rs,y_train_rs = sm.fit_resample(X_train,y_train)\n",
    "X_train_sm = pd.DataFrame(X_train_rs,columns=X_train.columns)\n",
    "y_train_sm = pd.Series(y_train_rs, name='Claim')\n",
    "\n",
    "\n",
    "classifier2= DecisionTreeClassifier(criterion='entropy',max_depth=4,random_state = 12)\n",
    "classifier3= RandomForestClassifier(random_state = 264,criterion='gini', max_depth=7,n_estimators= 151)\n",
    "classifier_list=[classifier2,classifier3]\n",
    "\n",
    "# meta-classifier\n",
    "m_classifier=LogisticRegression(random_state=42)\n",
    "\n",
    "\n",
    "sclf = StackingClassifier(classifiers=classifier_list, meta_classifier=m_classifier)\n",
    "\n",
    "sclf.fit(X_train_sm,y_train_sm)\n",
    "\n",
    "y_pred_sclf = sclf.predict(X_test)\n",
    "y_pred_sclf_proba = np.array(pd.DataFrame(sclf.predict_proba(X_test)).iloc[:,1])\n",
    "sclf.score(X_test,y_test)"
   ]
  },
  {
   "cell_type": "code",
   "execution_count": 930,
   "metadata": {},
   "outputs": [
    {
     "name": "stdout",
     "output_type": "stream",
     "text": [
      "Report for stacking model\n",
      "               precision    recall  f1-score   support\n",
      "\n",
      "           0       0.99      0.86      0.92      8721\n",
      "           1       0.06      0.56      0.12       147\n",
      "\n",
      "    accuracy                           0.86      8868\n",
      "   macro avg       0.53      0.71      0.52      8868\n",
      "weighted avg       0.98      0.86      0.91      8868\n",
      "\n",
      "ROC AUC score for stacking model is  0.7154312017204542\n",
      "precision Score for stacking model is 0.9761884362877633\n",
      "recall Score for stacking model is 0.8569012178619756\n"
     ]
    }
   ],
   "source": [
    "print('Report for stacking model\\n',classification_report(y_test,y_pred_sclf))\n",
    "print('ROC AUC score for stacking model is ',roc_auc_score(y_test,y_pred_sclf_proba))\n",
    "print('precision Score for stacking model is',precision_score(y_test,y_pred_sclf,average='weighted'))\n",
    "print('recall Score for stacking model is',recall_score(y_test,y_pred_sclf,average='weighted'))"
   ]
  },
  {
   "cell_type": "code",
   "execution_count": 686,
   "metadata": {},
   "outputs": [
    {
     "name": "stdout",
     "output_type": "stream",
     "text": [
      "ConfusionMatrix for stacking model\n",
      "tp fp\n",
      "83 1205 \n",
      "\n",
      "fn tn\n",
      "64 7516\n"
     ]
    }
   ],
   "source": [
    "tn,fp,fn,tp = confusion_matrix(y_test,y_pred_sclf).ravel()\n",
    "print('ConfusionMatrix for stacking model')\n",
    "print('tp','fp')\n",
    "print(tp,fp,'\\n')\n",
    "print('fn','tn')\n",
    "print(fn,tn)"
   ]
  },
  {
   "cell_type": "code",
   "execution_count": 71,
   "metadata": {},
   "outputs": [
    {
     "data": {
      "text/plain": [
       "0.8787776274244474"
      ]
     },
     "execution_count": 71,
     "metadata": {},
     "output_type": "execute_result"
    }
   ],
   "source": [
    "bagging_clf = BaggingClassifier(rf_clf, random_state=42,n_estimators=100,max_samples=11800)\n",
    "bagging_clf.fit(X_train,y_train)\n",
    "y_pred_bagging = bagging_clf.predict(X_test)\n",
    "y_pred_bagging_proba = np.array(pd.DataFrame(bagging_clf.predict_proba(X_test)).iloc[:,1])\n",
    "bagging_clf.score(X_test,y_test)"
   ]
  },
  {
   "cell_type": "code",
   "execution_count": 72,
   "metadata": {},
   "outputs": [
    {
     "name": "stdout",
     "output_type": "stream",
     "text": [
      "Report for bagging model\n",
      "               precision    recall  f1-score   support\n",
      "\n",
      "           0       0.99      0.88      0.93      8721\n",
      "           1       0.07      0.52      0.13       147\n",
      "\n",
      "    accuracy                           0.88      8868\n",
      "   macro avg       0.53      0.70      0.53      8868\n",
      "weighted avg       0.98      0.88      0.92      8868\n",
      "\n",
      "ROC AUC score for bagging model is  0.7913071661413104\n",
      "precision Score for bagging model is 0.975761735392122\n",
      "recall Score for bagging model is 0.8787776274244474\n"
     ]
    }
   ],
   "source": [
    "print('Report for bagging model\\n',classification_report(y_test,y_pred_bagging))\n",
    "print('ROC AUC score for bagging model is ',roc_auc_score(y_test,y_pred_bagging_proba))\n",
    "print('precision Score for bagging model is',precision_score(y_test,y_pred_bagging,average='weighted'))\n",
    "print('recall Score for bagging model is',recall_score(y_test,y_pred_bagging,average='weighted'))"
   ]
  },
  {
   "cell_type": "code",
   "execution_count": 73,
   "metadata": {},
   "outputs": [
    {
     "data": {
      "text/plain": [
       "(array([0, 1], dtype=int64), array([7786, 1082], dtype=int64))"
      ]
     },
     "execution_count": 73,
     "metadata": {},
     "output_type": "execute_result"
    }
   ],
   "source": [
    "np.unique(y_pred_bagging,return_counts=True)"
   ]
  },
  {
   "cell_type": "code",
   "execution_count": 932,
   "metadata": {},
   "outputs": [
    {
     "name": "stdout",
     "output_type": "stream",
     "text": [
      "ConfusionMatrix for bagging model\n",
      "tp fp\n",
      "77 1005 \n",
      "\n",
      "fn tn\n",
      "70 7716\n"
     ]
    }
   ],
   "source": [
    "tn,fp,fn,tp = confusion_matrix(y_test,y_pred_bagging).ravel()\n",
    "print('ConfusionMatrix for bagging model')\n",
    "print('tp','fp')\n",
    "print(tp,fp,'\\n')\n",
    "print('fn','tn')\n",
    "print(fn,tn)"
   ]
  },
  {
   "cell_type": "code",
   "execution_count": 697,
   "metadata": {},
   "outputs": [
    {
     "data": {
      "text/plain": [
       "0.7228485936284845"
      ]
     },
     "execution_count": 697,
     "metadata": {},
     "output_type": "execute_result"
    }
   ],
   "source": [
    "parameters={'learning_rate':[0.1,0.3,0.6,0.8,1.0],'n_estimators':[50,100,150]}\n",
    "\n",
    "dt_clf=DecisionTreeClassifier(criterion='gini',random_state = 12,max_depth=1,class_weight='balanced')\n",
    "ada_clf = AdaBoostClassifier(base_estimator=dt2,random_state=42)\n",
    "\n",
    "clf_model_ada=GridSearchCV(estimator=ada_clf,param_grid=parameters,scoring='roc_auc')\n",
    "clf_model_ada.fit(X_train,y_train)\n",
    "y_pred_ada_gs=clf_model_ada.predict(X_test)\n",
    "y_pred_ada_gs_proba = np.array(pd.DataFrame(clf_model_ada.predict_proba(X_test)).iloc[:,1])\n",
    "clf_model_ada.score(X_test,y_test)  "
   ]
  },
  {
   "cell_type": "code",
   "execution_count": 699,
   "metadata": {},
   "outputs": [
    {
     "data": {
      "text/plain": [
       "{'learning_rate': 0.3, 'n_estimators': 50}"
      ]
     },
     "execution_count": 699,
     "metadata": {},
     "output_type": "execute_result"
    }
   ],
   "source": [
    "clf_model_ada.best_params_"
   ]
  },
  {
   "cell_type": "code",
   "execution_count": 934,
   "metadata": {},
   "outputs": [
    {
     "name": "stdout",
     "output_type": "stream",
     "text": [
      "Report for adaboost model\n",
      "               precision    recall  f1-score   support\n",
      "\n",
      "           0       0.99      0.81      0.89      8721\n",
      "           1       0.05      0.57      0.09       147\n",
      "\n",
      "    accuracy                           0.81      8868\n",
      "   macro avg       0.52      0.69      0.49      8868\n",
      "weighted avg       0.98      0.81      0.88      8868\n",
      "\n",
      "ROC AUC score for adaboost model is  0.7228485936284845\n",
      "precision Score for adaboost model is 0.9755739569702769\n",
      "recall Score for adaboost model is 0.8089760938204782\n"
     ]
    }
   ],
   "source": [
    "print('Report for adaboost model\\n',classification_report(y_test,y_pred_ada_gs))\n",
    "print('ROC AUC score for adaboost model is ',roc_auc_score(y_test,y_pred_ada_gs_proba))\n",
    "print('precision Score for adaboost model is',precision_score(y_test,y_pred_ada_gs,average='weighted'))\n",
    "print('recall Score for adaboost model is',recall_score(y_test,y_pred_ada_gs,average='weighted'))"
   ]
  },
  {
   "cell_type": "code",
   "execution_count": 701,
   "metadata": {},
   "outputs": [
    {
     "name": "stdout",
     "output_type": "stream",
     "text": [
      "ConfusionMatrix for adaboost model\n",
      "tp fp\n",
      "84 1631 \n",
      "\n",
      "fn tn\n",
      "63 7090\n"
     ]
    }
   ],
   "source": [
    "tn,fp,fn,tp = confusion_matrix(y_test,y_pred_ada_gs).ravel()\n",
    "print('ConfusionMatrix for adaboost model')\n",
    "print('tp','fp')\n",
    "print(tp,fp,'\\n')\n",
    "print('fn','tn')\n",
    "print(fn,tn)"
   ]
  },
  {
   "cell_type": "code",
   "execution_count": 702,
   "metadata": {},
   "outputs": [
    {
     "data": {
      "text/plain": [
       "0    34881\n",
       "1      589\n",
       "Name: Claim, dtype: int64"
      ]
     },
     "execution_count": 702,
     "metadata": {},
     "output_type": "execute_result"
    }
   ],
   "source": [
    "y_train.value_counts()"
   ]
  },
  {
   "cell_type": "code",
   "execution_count": 698,
   "metadata": {},
   "outputs": [
    {
     "data": {
      "text/plain": [
       "0.7942549339423879"
      ]
     },
     "execution_count": 698,
     "metadata": {},
     "output_type": "execute_result"
    }
   ],
   "source": [
    "parameters={'learning_rate':[0.1,0.3,0.6,0.8,1.0],\n",
    "            'max_depth':range(1,4),'n_estimators':[50,100,150]}\n",
    "xgb_clf=XGBClassifier(random_state=42,scale_pos_weight = 34881/589)\n",
    "\n",
    "clf_model_xgb=GridSearchCV(estimator=xgb_clf,param_grid=parameters,scoring='roc_auc')\n",
    "clf_model_xgb.fit(X_train,y_train)\n",
    "y_pred_xgb_gs=clf_model_xgb.predict(X_test)\n",
    "y_pred_xgb_gs_proba = np.array(pd.DataFrame(clf_model_xgb.predict_proba(X_test)).iloc[:,1])\n",
    "clf_model_xgb.score(X_test,y_test)"
   ]
  },
  {
   "cell_type": "code",
   "execution_count": 754,
   "metadata": {},
   "outputs": [
    {
     "data": {
      "text/plain": [
       "{'learning_rate': 0.1, 'max_depth': 1, 'n_estimators': 150}"
      ]
     },
     "execution_count": 754,
     "metadata": {},
     "output_type": "execute_result"
    }
   ],
   "source": [
    "clf_model_xgb.best_params_"
   ]
  },
  {
   "cell_type": "code",
   "execution_count": 144,
   "metadata": {},
   "outputs": [],
   "source": [
    "xgb_clf=XGBClassifier(random_state=42,scale_pos_weight = 34881/589,learning_rate= 0.1, max_depth= 1, n_estimators= 150)\n",
    "xgb_clf.fit(X_train,y_train)\n",
    "xgb_pred = xgb_clf.predict(X_test)"
   ]
  },
  {
   "cell_type": "code",
   "execution_count": 933,
   "metadata": {},
   "outputs": [
    {
     "name": "stdout",
     "output_type": "stream",
     "text": [
      "Report for xgb model\n",
      "               precision    recall  f1-score   support\n",
      "\n",
      "           0       0.99      0.81      0.89      8721\n",
      "           1       0.06      0.67      0.10       147\n",
      "\n",
      "    accuracy                           0.81      8868\n",
      "   macro avg       0.52      0.74      0.50      8868\n",
      "weighted avg       0.98      0.81      0.88      8868\n",
      "\n",
      "ROC AUC score for xgb model is  0.7942549339423879\n",
      "precision Score for xgb model is 0.9777105657869052\n",
      "recall Score for xgb model is 0.8069463238610736\n"
     ]
    }
   ],
   "source": [
    "print('Report for xgb model\\n',classification_report(y_test,y_pred_xgb_gs))\n",
    "print('ROC AUC score for xgb model is ',roc_auc_score(y_test,y_pred_xgb_gs_proba))\n",
    "print('precision Score for xgb model is',precision_score(y_test,y_pred_xgb_gs,average='weighted'))\n",
    "print('recall Score for xgb model is',recall_score(y_test,y_pred_xgb_gs,average='weighted'))"
   ]
  },
  {
   "cell_type": "code",
   "execution_count": 759,
   "metadata": {},
   "outputs": [
    {
     "name": "stdout",
     "output_type": "stream",
     "text": [
      "ConfusionMatrix for xgb model\n",
      "tp fp\n",
      "99 1664 \n",
      "\n",
      "fn tn\n",
      "48 7057\n"
     ]
    }
   ],
   "source": [
    "tn,fp,fn,tp = confusion_matrix(y_test,y_pred_xgb_gs).ravel()\n",
    "print('ConfusionMatrix for xgb model')\n",
    "print('tp','fp')\n",
    "print(tp,fp,'\\n')\n",
    "print('fn','tn')\n",
    "print(fn,tn)"
   ]
  },
  {
   "cell_type": "code",
   "execution_count": 717,
   "metadata": {},
   "outputs": [
    {
     "data": {
      "text/plain": [
       "0.8446098331078034"
      ]
     },
     "execution_count": 717,
     "metadata": {},
     "output_type": "execute_result"
    }
   ],
   "source": [
    "svc = SVC(class_weight='balanced',probability=True)\n",
    "svc.fit(X_train, y_train)\n",
    "svc_pred = svc.predict(X_test)\n",
    "svc_pred_proba = svc.predict_proba(X_test)\n",
    "svc.score(X_test,y_test)"
   ]
  },
  {
   "cell_type": "code",
   "execution_count": 935,
   "metadata": {},
   "outputs": [
    {
     "name": "stdout",
     "output_type": "stream",
     "text": [
      "Report for svc model\n",
      "               precision    recall  f1-score   support\n",
      "\n",
      "           0       0.99      0.85      0.91      8721\n",
      "           1       0.06      0.61      0.11       147\n",
      "\n",
      "    accuracy                           0.84      8868\n",
      "   macro avg       0.53      0.73      0.51      8868\n",
      "weighted avg       0.98      0.84      0.90      8868\n",
      "\n",
      "ROC AUC score for svc model is  0.7792567319325391\n",
      "precision Score for svc model is 0.9768236577641439\n",
      "recall Score for svc model is 0.8446098331078034\n"
     ]
    }
   ],
   "source": [
    "print('Report for svc model\\n',classification_report(y_test,svc_pred))\n",
    "print('ROC AUC score for svc model is ',roc_auc_score(y_test,svc_pred_proba[:,1]))\n",
    "print('precision Score for svc model is',precision_score(y_test,svc_pred,average='weighted'))\n",
    "print('recall Score for svc model is',recall_score(y_test,svc_pred,average='weighted'))"
   ]
  },
  {
   "cell_type": "code",
   "execution_count": 889,
   "metadata": {},
   "outputs": [
    {
     "name": "stdout",
     "output_type": "stream",
     "text": [
      "ConfusionMatrix for svc model\n",
      "tp fp\n",
      "89 1320 \n",
      "\n",
      "fn tn\n",
      "58 7401\n"
     ]
    }
   ],
   "source": [
    "tn,fp,fn,tp = confusion_matrix(y_test,svc_pred).ravel()\n",
    "print('ConfusionMatrix for svc model')\n",
    "print('tp','fp')\n",
    "print(tp,fp,'\\n')\n",
    "print('fn','tn')\n",
    "print(fn,tn)"
   ]
  },
  {
   "cell_type": "code",
   "execution_count": 890,
   "metadata": {},
   "outputs": [],
   "source": [
    "fpr1, tpr1 ,threshold1 = roc_curve(y_test,y_pred_lr_proba)\n",
    "fpr2, tpr2 ,threshold2 = roc_curve(y_test,dt_pred_proba)\n",
    "fpr3, tpr3 ,threshold3 = roc_curve(y_test,y_pred_rf_proba)\n",
    "fpr4, tpr4 ,threshold4 = roc_curve(y_test,y_pred_sclf_proba)\n",
    "fpr5, tpr5 ,threshold5 = roc_curve(y_test,y_pred_bagging_proba)\n",
    "fpr6, tpr6 ,threshold6 = roc_curve(y_test,y_pred_ada_gs_proba)\n",
    "fpr7, tpr7 ,threshold7 = roc_curve(y_test,y_pred_xgb_gs_proba)\n",
    "fpr8, tpr8 ,threshold8 = roc_curve(y_test,svc_pred_proba[:,1])"
   ]
  },
  {
   "cell_type": "code",
   "execution_count": 894,
   "metadata": {},
   "outputs": [
    {
     "data": {
      "text/plain": [
       "<matplotlib.legend.Legend at 0x154836148d0>"
      ]
     },
     "execution_count": 894,
     "metadata": {},
     "output_type": "execute_result"
    },
    {
     "data": {
      "image/png": "[encoded data removed]",
      "text/plain": [
       "<Figure size 864x576 with 1 Axes>"
      ]
     },
     "metadata": {
      "needs_background": "light"
     },
     "output_type": "display_data"
    }
   ],
   "source": [
    "plt.figure(figsize=(12,8))\n",
    "plt.title('ROC curve analysis', fontweight='bold', fontsize=15)\n",
    "plt.plot([0,1], [0,1], color='orange', linestyle='--',label='AUC=0.5')\n",
    "plt.legend(loc='best')\n",
    "\n",
    "plt.plot(fpr1,tpr1,label='logistic auc '+\"%.4f\" % roc_auc_score(y_test,y_pred_lr_proba))\n",
    "plt.legend(loc='best')\n",
    "\n",
    "plt.plot(fpr2,tpr2,label='DecisionTree auc '+\"%.4f\" % roc_auc_score(y_test,dt_pred_proba))\n",
    "plt.legend(prop={'size':13}, loc='best')\n",
    "\n",
    "plt.plot(fpr3,tpr3,label='RandomForest auc '+\"%.4f\" % roc_auc_score(y_test,y_pred_rf_proba))\n",
    "plt.legend(prop={'size':13}, loc='best')\n",
    "\n",
    "plt.plot(fpr4,tpr4,label='Stacking auc '+\"%.4f\" % roc_auc_score(y_test,y_pred_sclf_proba))\n",
    "plt.legend(prop={'size':13}, loc='best')\n",
    "\n",
    "plt.plot(fpr5,tpr5,label='Bagging auc '+\"%.4f\" % roc_auc_score(y_test,y_pred_bagging_proba))\n",
    "plt.legend(prop={'size':13}, loc='best')\n",
    "\n",
    "plt.plot(fpr6,tpr6,label='AdaBoost auc '+\"%.4f\" % roc_auc_score(y_test,y_pred_ada_gs_proba))\n",
    "plt.legend(prop={'size':13}, loc='best')\n",
    "\n",
    "plt.plot(fpr7,tpr7,label='XGB auc '+\"%.4f\" % roc_auc_score(y_test,y_pred_xgb_gs_proba))\n",
    "plt.legend(prop={'size':13}, loc='best')\n",
    "\n",
    "plt.plot(fpr8,tpr8,label='SVC auc '+\"%.4f\" % roc_auc_score(y_test,svc_pred_proba[:,1]))\n",
    "plt.legend(prop={'size':13}, loc='best')"
   ]
  },
  {
   "cell_type": "code",
   "execution_count": 895,
   "metadata": {},
   "outputs": [],
   "source": [
    "precision_score_df = pd.DataFrame()\n",
    "precision_score_df['Models'] = ['Logistic','DecisionTree','RandomForest','Stacking','Bagging','AdaBoost','XGB','SVC']\n",
    "precision_score_df['precision_score'] = [precision_score(y_test,y_pred_lr,average='weighted'),precision_score(y_test,dt_pred,average='weighted'),precision_score(y_test,y_pred_rf,average='weighted'),precision_score(y_test,y_pred_sclf,average='weighted'),precision_score(y_test,y_pred_bagging,average='weighted'),precision_score(y_test,y_pred_ada_gs,average='weighted'),precision_score(y_test,y_pred_xgb_gs,average='weighted'),precision_score(y_test,svc_pred,average='weighted')]"
   ]
  },
  {
   "cell_type": "code",
   "execution_count": 897,
   "metadata": {},
   "outputs": [
    {
     "data": {
      "image/png": "[encoded data removed]",
      "text/plain": [
       "<Figure size 1152x504 with 1 Axes>"
      ]
     },
     "metadata": {
      "needs_background": "light"
     },
     "output_type": "display_data"
    }
   ],
   "source": [
    "plt.figure(figsize=(16,7))\n",
    "plt.bar(precision_score_df['Models'],precision_score_df['precision_score'])\n",
    "plt.title('precision_score',fontsize=15)\n",
    "plt.xlabel('Models',fontsize=13)\n",
    "plt.ylabel('Scores',fontsize=13)\n",
    "plt.show()"
   ]
  },
  {
   "cell_type": "code",
   "execution_count": 913,
   "metadata": {},
   "outputs": [
    {
     "data": {
      "text/html": [
       "<div>\n",
       "<style scoped>\n",
       "    .dataframe tbody tr th:only-of-type {\n",
       "        vertical-align: middle;\n",
       "    }\n",
       "\n",
       "    .dataframe tbody tr th {\n",
       "        vertical-align: top;\n",
       "    }\n",
       "\n",
       "    .dataframe thead th {\n",
       "        text-align: right;\n",
       "    }\n",
       "</style>\n",
       "<table border=\"1\" class=\"dataframe\">\n",
       "  <thead>\n",
       "    <tr style=\"text-align: right;\">\n",
       "      <th></th>\n",
       "      <th>Models</th>\n",
       "      <th>precision_score</th>\n",
       "    </tr>\n",
       "  </thead>\n",
       "  <tbody>\n",
       "    <tr>\n",
       "      <th>0</th>\n",
       "      <td>Logistic</td>\n",
       "      <td>0.977580</td>\n",
       "    </tr>\n",
       "    <tr>\n",
       "      <th>1</th>\n",
       "      <td>DecisionTree</td>\n",
       "      <td>0.976787</td>\n",
       "    </tr>\n",
       "    <tr>\n",
       "      <th>2</th>\n",
       "      <td>RandomForest</td>\n",
       "      <td>0.976888</td>\n",
       "    </tr>\n",
       "    <tr>\n",
       "      <th>3</th>\n",
       "      <td>Stacking</td>\n",
       "      <td>0.976188</td>\n",
       "    </tr>\n",
       "    <tr>\n",
       "      <th>4</th>\n",
       "      <td>Bagging</td>\n",
       "      <td>0.975762</td>\n",
       "    </tr>\n",
       "    <tr>\n",
       "      <th>5</th>\n",
       "      <td>AdaBoost</td>\n",
       "      <td>0.975574</td>\n",
       "    </tr>\n",
       "    <tr>\n",
       "      <th>6</th>\n",
       "      <td>XGB</td>\n",
       "      <td>0.977711</td>\n",
       "    </tr>\n",
       "    <tr>\n",
       "      <th>7</th>\n",
       "      <td>SVC</td>\n",
       "      <td>0.976824</td>\n",
       "    </tr>\n",
       "  </tbody>\n",
       "</table>\n",
       "</div>"
      ],
      "text/plain": [
       "         Models  precision_score\n",
       "0      Logistic         0.977580\n",
       "1  DecisionTree         0.976787\n",
       "2  RandomForest         0.976888\n",
       "3      Stacking         0.976188\n",
       "4       Bagging         0.975762\n",
       "5      AdaBoost         0.975574\n",
       "6           XGB         0.977711\n",
       "7           SVC         0.976824"
      ]
     },
     "execution_count": 913,
     "metadata": {},
     "output_type": "execute_result"
    }
   ],
   "source": [
    "precision_score_df"
   ]
  },
  {
   "cell_type": "code",
   "execution_count": 941,
   "metadata": {},
   "outputs": [
    {
     "data": {
      "text/html": [
       "<div>\n",
       "<style scoped>\n",
       "    .dataframe tbody tr th:only-of-type {\n",
       "        vertical-align: middle;\n",
       "    }\n",
       "\n",
       "    .dataframe tbody tr th {\n",
       "        vertical-align: top;\n",
       "    }\n",
       "\n",
       "    .dataframe thead th {\n",
       "        text-align: right;\n",
       "    }\n",
       "</style>\n",
       "<table border=\"1\" class=\"dataframe\">\n",
       "  <thead>\n",
       "    <tr style=\"text-align: right;\">\n",
       "      <th></th>\n",
       "      <th>Models</th>\n",
       "      <th>precision_score</th>\n",
       "    </tr>\n",
       "  </thead>\n",
       "  <tbody>\n",
       "    <tr>\n",
       "      <th>6</th>\n",
       "      <td>XGB</td>\n",
       "      <td>0.977711</td>\n",
       "    </tr>\n",
       "  </tbody>\n",
       "</table>\n",
       "</div>"
      ],
      "text/plain": [
       "  Models  precision_score\n",
       "6    XGB         0.977711"
      ]
     },
     "execution_count": 941,
     "metadata": {},
     "output_type": "execute_result"
    }
   ],
   "source": [
    "precision_score_df[precision_score_df['precision_score']==precision_score_df['precision_score'].max()]"
   ]
  },
  {
   "cell_type": "code",
   "execution_count": 936,
   "metadata": {},
   "outputs": [],
   "source": [
    "recall_score_df = pd.DataFrame()\n",
    "recall_score_df['Models'] = ['Logistic','DecisionTree','RandomForest','Stacking','Bagging','AdaBoost','XGB','SVC']\n",
    "recall_score_df['recall_score'] = [recall_score(y_test,y_pred_lr,average='weighted'),recall_score(y_test,dt_pred,average='weighted'),recall_score(y_test,y_pred_rf,average='weighted'),recall_score(y_test,y_pred_sclf,average='weighted'),recall_score(y_test,y_pred_bagging,average='weighted'),recall_score(y_test,y_pred_ada_gs,average='weighted'),recall_score(y_test,y_pred_xgb_gs,average='weighted'),recall_score(y_test,svc_pred,average='weighted')]"
   ]
  },
  {
   "cell_type": "code",
   "execution_count": 937,
   "metadata": {},
   "outputs": [
    {
     "data": {
      "image/png": "[encoded data removed]",
      "text/plain": [
       "<Figure size 1152x504 with 1 Axes>"
      ]
     },
     "metadata": {
      "needs_background": "light"
     },
     "output_type": "display_data"
    }
   ],
   "source": [
    "plt.figure(figsize=(16,7))\n",
    "plt.bar(recall_score_df['Models'],recall_score_df['recall_score'])\n",
    "plt.title('recall_score',fontsize=15)\n",
    "plt.xlabel('Models',fontsize=13)\n",
    "plt.ylabel('Scores',fontsize=13)\n",
    "plt.show()"
   ]
  },
  {
   "cell_type": "code",
   "execution_count": 938,
   "metadata": {},
   "outputs": [
    {
     "data": {
      "text/html": [
       "<div>\n",
       "<style scoped>\n",
       "    .dataframe tbody tr th:only-of-type {\n",
       "        vertical-align: middle;\n",
       "    }\n",
       "\n",
       "    .dataframe tbody tr th {\n",
       "        vertical-align: top;\n",
       "    }\n",
       "\n",
       "    .dataframe thead th {\n",
       "        text-align: right;\n",
       "    }\n",
       "</style>\n",
       "<table border=\"1\" class=\"dataframe\">\n",
       "  <thead>\n",
       "    <tr style=\"text-align: right;\">\n",
       "      <th></th>\n",
       "      <th>Models</th>\n",
       "      <th>recall_score</th>\n",
       "    </tr>\n",
       "  </thead>\n",
       "  <tbody>\n",
       "    <tr>\n",
       "      <th>0</th>\n",
       "      <td>Logistic</td>\n",
       "      <td>0.796797</td>\n",
       "    </tr>\n",
       "    <tr>\n",
       "      <th>1</th>\n",
       "      <td>DecisionTree</td>\n",
       "      <td>0.859495</td>\n",
       "    </tr>\n",
       "    <tr>\n",
       "      <th>2</th>\n",
       "      <td>RandomForest</td>\n",
       "      <td>0.857240</td>\n",
       "    </tr>\n",
       "    <tr>\n",
       "      <th>3</th>\n",
       "      <td>Stacking</td>\n",
       "      <td>0.856901</td>\n",
       "    </tr>\n",
       "    <tr>\n",
       "      <th>4</th>\n",
       "      <td>Bagging</td>\n",
       "      <td>0.878778</td>\n",
       "    </tr>\n",
       "    <tr>\n",
       "      <th>5</th>\n",
       "      <td>AdaBoost</td>\n",
       "      <td>0.808976</td>\n",
       "    </tr>\n",
       "    <tr>\n",
       "      <th>6</th>\n",
       "      <td>XGB</td>\n",
       "      <td>0.806946</td>\n",
       "    </tr>\n",
       "    <tr>\n",
       "      <th>7</th>\n",
       "      <td>SVC</td>\n",
       "      <td>0.844610</td>\n",
       "    </tr>\n",
       "  </tbody>\n",
       "</table>\n",
       "</div>"
      ],
      "text/plain": [
       "         Models  recall_score\n",
       "0      Logistic      0.796797\n",
       "1  DecisionTree      0.859495\n",
       "2  RandomForest      0.857240\n",
       "3      Stacking      0.856901\n",
       "4       Bagging      0.878778\n",
       "5      AdaBoost      0.808976\n",
       "6           XGB      0.806946\n",
       "7           SVC      0.844610"
      ]
     },
     "execution_count": 938,
     "metadata": {},
     "output_type": "execute_result"
    }
   ],
   "source": [
    "recall_score_df"
   ]
  },
  {
   "cell_type": "code",
   "execution_count": 942,
   "metadata": {},
   "outputs": [
    {
     "data": {
      "text/html": [
       "<div>\n",
       "<style scoped>\n",
       "    .dataframe tbody tr th:only-of-type {\n",
       "        vertical-align: middle;\n",
       "    }\n",
       "\n",
       "    .dataframe tbody tr th {\n",
       "        vertical-align: top;\n",
       "    }\n",
       "\n",
       "    .dataframe thead th {\n",
       "        text-align: right;\n",
       "    }\n",
       "</style>\n",
       "<table border=\"1\" class=\"dataframe\">\n",
       "  <thead>\n",
       "    <tr style=\"text-align: right;\">\n",
       "      <th></th>\n",
       "      <th>Models</th>\n",
       "      <th>recall_score</th>\n",
       "    </tr>\n",
       "  </thead>\n",
       "  <tbody>\n",
       "    <tr>\n",
       "      <th>4</th>\n",
       "      <td>Bagging</td>\n",
       "      <td>0.878778</td>\n",
       "    </tr>\n",
       "  </tbody>\n",
       "</table>\n",
       "</div>"
      ],
      "text/plain": [
       "    Models  recall_score\n",
       "4  Bagging      0.878778"
      ]
     },
     "execution_count": 942,
     "metadata": {},
     "output_type": "execute_result"
    }
   ],
   "source": [
    "recall_score_df[recall_score_df['recall_score']==recall_score_df['recall_score'].max()]"
   ]
  },
  {
   "cell_type": "code",
   "execution_count": 900,
   "metadata": {},
   "outputs": [
    {
     "name": "stdout",
     "output_type": "stream",
     "text": [
      "ConfusionMatrix for bagging model\n",
      "tp     fp\n",
      "77    1005\n",
      "fn     tn\n",
      "70    7716 \n",
      "\n",
      "ConfusionMatrix for xgb model\n",
      "tp     fp\n",
      "99    1664\n",
      "fn     tn\n",
      "48    7057\n"
     ]
    }
   ],
   "source": [
    "tn,fp,fn,tp = confusion_matrix(y_test,y_pred_bagging).ravel()\n",
    "print('ConfusionMatrix for bagging model')\n",
    "print('tp    ','fp')\n",
    "print(tp,'  ',fp)\n",
    "print('fn    ','tn')\n",
    "print(fn,'  ',tn,'\\n')\n",
    "tn,fp,fn,tp = confusion_matrix(y_test,y_pred_xgb_gs).ravel()\n",
    "print('ConfusionMatrix for xgb model')\n",
    "print('tp    ','fp')\n",
    "print(tp,'  ',fp)\n",
    "print('fn    ','tn')\n",
    "print(fn,'  ',tn)"
   ]
  },
  {
   "cell_type": "code",
   "execution_count": 907,
   "metadata": {},
   "outputs": [
    {
     "name": "stdout",
     "output_type": "stream",
     "text": [
      "32 columns will give the best score which is 0.9779462382039315\n"
     ]
    }
   ],
   "source": [
    "# Code starts here\n",
    "l1 = [20,40,60,80,100,120]\n",
    "scores1 = []\n",
    "for j in l1:\n",
    "    test1 = SelectKBest(score_func=f_classif,k=j)\n",
    "    X_train3 = test1.fit_transform(X_train,y_train)\n",
    "    X_test3 = test1.transform(X_test)\n",
    "    model3 = XGBClassifier(random_state=42,scale_pos_weight = 34881/589,learning_rate=0.1,max_depth=1,n_estimators=150)\n",
    "    model3.fit(X_train3,y_train)\n",
    "    anova_pred=model3.predict(X_test3)\n",
    "    scores1.append(precision_score(y_test,anova_pred,average='weighted'))\n",
    "    max_index1 = scores1.index(max(scores1))\n",
    "    best_k1 = l1[max_index1]\n",
    "# Calculate accuracy , print out the Confusion Matrix \n",
    "print(best_k1,'columns will give the best score which is',max(scores1))   "
   ]
  },
  {
   "cell_type": "code",
   "execution_count": null,
   "metadata": {},
   "outputs": [],
   "source": [
    "l2 = [20,40,60]\n",
    "scores2 = []\n",
    "for k in l2:\n",
    "    model4 = BaggingClassifier(rf_clf, random_state=42,n_estimators=100,max_samples=11800)\n",
    "    pca = PCA(n_components=k,random_state=101)\n",
    "    X_train_pca = pca.fit_transform(X_train)\n",
    "    X_test_pca = pca.transform(X_test)\n",
    "    model4.fit(X_train_pca,y_train)\n",
    "    pca_pred=model4.predict(X_test_pca)\n",
    "    scores2.append(precision_score(y_test,pca_pred,average='weighted'))\n",
    "    max_index2 = scores2.index(max(scores2))\n",
    "    best_k2 = l2[max_index2]\n",
    "# Calculate accuracy , print out the Confusion Matrix \n",
    "print(best_k2,'columns will give the best score which is',max(scores2))"
   ]
  },
  {
   "cell_type": "code",
   "execution_count": 948,
   "metadata": {},
   "outputs": [
    {
     "name": "stdout",
     "output_type": "stream",
     "text": [
      "50 columns will give the best score which is 0.9768889372005699\n"
     ]
    }
   ],
   "source": [
    "l2 = []\n",
    "scores2 = []\n",
    "for k in l2:\n",
    "    model4 = BaggingClassifier(rf_clf, random_state=42,n_estimators=100,max_samples=11800)\n",
    "    pca = PCA(n_components=k,random_state=101)\n",
    "    X_train_pca = pca.fit_transform(X_train)\n",
    "    X_test_pca = pca.transform(X_test)\n",
    "    model4.fit(X_train_pca,y_train)\n",
    "    pca_pred=model4.predict(X_test_pca)\n",
    "    scores2.append(precision_score(y_test,pca_pred,average='weighted'))\n",
    "    max_index2 = scores2.index(max(scores2))\n",
    "    best_k2 = l2[max_index2]\n",
    "# Calculate accuracy , print out the Confusion Matrix \n",
    "print(best_k2,'columns will give the best score which is',max(scores2))"
   ]
  },
  {
   "cell_type": "code",
   "execution_count": 950,
   "metadata": {},
   "outputs": [
    {
     "data": {
      "image/png": "[encoded data removed]",
      "text/plain": [
       "<Figure size 1440x576 with 1 Axes>"
      ]
     },
     "metadata": {
      "needs_background": "light"
     },
     "output_type": "display_data"
    }
   ],
   "source": [
    "plt.figure(figsize=(20,8))\n",
    "df_pca = pd.DataFrame({'var':pca.explained_variance_,'PC':range(1,51)})\n",
    "sns.barplot(x='PC',y=\"var\", data=df_pca, color=\"c\")\n",
    "plt.xticks(rotation=90)\n",
    "plt.title('SCREE PLOT',fontsize=20)\n",
    "plt.xlabel('Principal Components',fontsize=20)\n",
    "plt.ylabel('Variance Explained',fontsize=20)\n",
    "plt.show()"
   ]
  },
  {
   "cell_type": "code",
   "execution_count": null,
   "metadata": {},
   "outputs": [],
   "source": [
    "scores3 = []\n",
    "l3 = [20,45,60,80,100]\n",
    "for n in l3:\n",
    "    model5 = BaggingClassifier(rf_clf, random_state=42,n_estimators=100,max_samples=11800)\n",
    "    rfe = RFE(model5, n) \n",
    "    X_train_rfe = rfe.fit_transform(X_train,y_train)\n",
    "    X_test_rfe = rfe.transform(X_test)\n",
    "    model5.fit(X_train_rfe,y_train)\n",
    "    rfe_pred=model5.predict(X_test_rfe)\n",
    "    scores3.append(precision_score(y_test,rfe_pred,average='weighted'))\n",
    "    max_index = scores3.index(max(scores3))\n",
    "    b_num = l3[max_index]#n if model.score(X_test_rfe,y_test)== max(scores) else max(scores)\n",
    "print(b_num,'gives the best score which is',max(scores3)) "
   ]
  },
  {
   "cell_type": "code",
   "execution_count": null,
   "metadata": {},
   "outputs": [],
   "source": [
    "# bagging_clf = BaggingClassifier(rf_clf, random_state=42,n_estimators=100,max_samples=11800)\n",
    "# bagging_clf.fit(X_train,y_train)\n",
    "# y_pred_bagging = bagging_clf.predict(X_test)\n",
    "# y_pred_bagging_proba = np.array(pd.DataFrame(bagging_clf.predict_proba(X_test)).iloc[:,1])\n",
    "# bagging_clf.score(X_test,y_test)"
   ]
  },
  {
   "cell_type": "code",
   "execution_count": 61,
   "metadata": {},
   "outputs": [],
   "source": [
    "# rf_clf = RandomForestClassifier(random_state = 264,criterion='gini', max_depth=7,n_estimators= 151,class_weight='balanced')\n",
    "# bagging_clf = BaggingClassifier(rf_clf, random_state=42,n_estimators=100,max_samples=11800)\n",
    "# bagging_clf.fit(X,y)\n",
    "# y_valid = bagging_clf.predict(df_valid_new)"
   ]
  },
  {
   "cell_type": "code",
   "execution_count": 63,
   "metadata": {},
   "outputs": [
    {
     "name": "stdout",
     "output_type": "stream",
     "text": [
      "(12661,)\n",
      "(12661,)\n"
     ]
    }
   ],
   "source": [
    "print(y_valid.shape)\n",
    "submission = pd.read_csv('sample_submission(hackathon).csv')\n",
    "print(submission['Claim'].shape)\n",
    "submission['Claim'] = y_valid"
   ]
  },
  {
   "cell_type": "code",
   "execution_count": 64,
   "metadata": {},
   "outputs": [
    {
     "data": {
      "text/plain": [
       "0    11187\n",
       "1     1474\n",
       "Name: Claim, dtype: int64"
      ]
     },
     "execution_count": 64,
     "metadata": {},
     "output_type": "execute_result"
    }
   ],
   "source": [
    "submission['Claim'].value_counts()"
   ]
  },
  {
   "cell_type": "code",
   "execution_count": 67,
   "metadata": {},
   "outputs": [],
   "source": [
    "submission.to_csv('submission.csv')"
   ]
  },
  {
   "cell_type": "code",
   "execution_count": null,
   "metadata": {},
   "outputs": [],
   "source": []
  }
 ],
 "metadata": {
  "kernelspec": {
   "display_name": "'jibran'",
   "language": "python",
   "name": "jibran"
  },
  "language_info": {
   "codemirror_mode": {
    "name": "ipython",
    "version": 3
   },
   "file_extension": ".py",
   "mimetype": "text/x-python",
   "name": "python",
   "nbconvert_exporter": "python",
   "pygments_lexer": "ipython3",
   "version": "3.7.3"
  }
 },
 "nbformat": 4,
 "nbformat_minor": 2
}
